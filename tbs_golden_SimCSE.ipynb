{
 "cells": [
  {
   "cell_type": "markdown",
   "id": "4801e9d7",
   "metadata": {
    "lc_cell_meme": {
     "current": "f06cdf95-7591-11ef-bd10-b5bbbc9eafb6",
     "history": [
      {
       "current": "f06cdf95-7591-11ef-bd10-b5bbbc9eafb6",
       "next": "f06ce0bd-7591-11ef-bfcc-b5bbbc9eafb6",
       "previous": null
      },
      {
       "current": "f06cdf95-7591-11ef-bd10-b5bbbc9eafb6",
       "next": "560959a4-7593-11ef-98f5-b5bbbc9eafb6",
       "previous": null
      }
     ],
     "next": "74207b89-7594-11ef-b921-b5bbbc9eafb6",
     "previous": null
    }
   },
   "source": [
    "## 視聴率予測"
   ]
  },
  {
   "cell_type": "markdown",
   "id": "63d95a25",
   "metadata": {
    "lc_cell_meme": {
     "current": "74207b89-7594-11ef-b921-b5bbbc9eafb6",
     "next": "f06ce0bd-7591-11ef-bfcc-b5bbbc9eafb6",
     "previous": "f06cdf95-7591-11ef-bd10-b5bbbc9eafb6"
    }
   },
   "source": [
    "### 前処理"
   ]
  },
  {
   "cell_type": "code",
   "execution_count": 24,
   "id": "abb5424b",
   "metadata": {
    "lc_cell_meme": {
     "current": "f06ce0bd-7591-11ef-bfcc-b5bbbc9eafb6",
     "execution_end_time": "2024-09-20T01:20:28.869627Z",
     "history": [
      {
       "current": "f06ce0bd-7591-11ef-bfcc-b5bbbc9eafb6",
       "next": "f06ce190-7591-11ef-9a33-b5bbbc9eafb6",
       "previous": "f06cdf95-7591-11ef-bd10-b5bbbc9eafb6"
      },
      {
       "current": "f06ce0bd-7591-11ef-bfcc-b5bbbc9eafb6",
       "next": "f06ce24c-7591-11ef-a828-b5bbbc9eafb6",
       "previous": "f06cdf95-7591-11ef-bd10-b5bbbc9eafb6"
      },
      {
       "current": "f06ce0bd-7591-11ef-bfcc-b5bbbc9eafb6",
       "next": "f06ce24c-7591-11ef-a828-b5bbbc9eafb6",
       "previous": "560959a4-7593-11ef-98f5-b5bbbc9eafb6"
      },
      {
       "current": "f06ce0bd-7591-11ef-bfcc-b5bbbc9eafb6",
       "next": "560959a4-7593-11ef-98f5-b5bbbc9eafb6",
       "previous": "74207b89-7594-11ef-b921-b5bbbc9eafb6"
      }
     ],
     "next": "f06ce24c-7591-11ef-a828-b5bbbc9eafb6",
     "previous": "74207b89-7594-11ef-b921-b5bbbc9eafb6"
    },
    "lc_wrapper": {
     "log_history": [
      "/home/s276322x7cf08f/AIPBL/.log/20240918/20240918-164645-0140.log",
      "/home/s276322x7cf08f/AIPBL/.log/20240918/20240918-164934-0014.log",
      "/home/s276322x7cf08f/AIPBL/.log/20240918/20240918-165037-0049.log",
      "/home/s276322x7cf08f/AIPBL/.log/20240918/20240918-165100-0292.log",
      "/home/s276322x7cf08f/AIPBL/.log/20240918/20240918-165702-0120.log",
      "/home/s276322x7cf08f/AIPBL/.log/20240918/20240918-170119-0555.log",
      "/home/s276322x7cf08f/AIPBL/.log/20240918/20240918-173606-0965.log",
      "/home/s276322x7cf08f/AIPBL/.log/20240919/20240919-114131-0148.log",
      "/home/s276322x7cf08f/AIPBL/.log/20240919/20240919-123448-0656.log",
      "/home/s276322x7cf08f/AIPBL/.log/20240920/20240920-102024-0983.log",
      "/home/s276322x7cf08f/AIPBL/.log/20240920/20240920-102028-0254.log"
     ]
    }
   },
   "outputs": [],
   "source": [
    "#学習データは2018-2020\n",
    "#テストデータは2021とする\n",
    "import pandas as pd\n",
    "tbs_golden_2018 = pd.read_csv(\"tbs_embeddings_SimCSE_2018.csv\")\n",
    "tbs_golden_2019 = pd.read_csv(\"tbs_embeddings_SimCSE_2019.csv\")\n",
    "tbs_golden_2020 = pd.read_csv(\"tbs_embeddings_SimCSE_2020.csv\")\n",
    "tbs_golden_2021 = pd.read_csv(\"tbs_embeddings_SimCSE_2021.csv\")\n",
    "\n",
    "tbs_golden_all = pd.concat([tbs_golden_2018, tbs_golden_2019, tbs_golden_2020, tbs_golden_2021], ignore_index=True)\n"
   ]
  },
  {
   "cell_type": "code",
   "execution_count": 25,
   "id": "11dfe691",
   "metadata": {
    "lc_cell_meme": {
     "current": "f06ce24c-7591-11ef-a828-b5bbbc9eafb6",
     "execution_end_time": "2024-09-20T01:20:38.569707Z",
     "history": [
      {
       "current": "f06ce24c-7591-11ef-a828-b5bbbc9eafb6",
       "next": "f06ce304-7591-11ef-a7ae-b5bbbc9eafb6",
       "previous": "f06ce190-7591-11ef-9a33-b5bbbc9eafb6"
      },
      {
       "current": "f06ce24c-7591-11ef-a828-b5bbbc9eafb6",
       "next": "f06ce304-7591-11ef-a7ae-b5bbbc9eafb6",
       "previous": "f06ce0bd-7591-11ef-bfcc-b5bbbc9eafb6"
      },
      {
       "current": "f06ce24c-7591-11ef-a828-b5bbbc9eafb6",
       "next": "f06ce304-7591-11ef-a7ae-b5bbbc9eafb6",
       "previous": "560959a4-7593-11ef-98f5-b5bbbc9eafb6"
      }
     ],
     "next": "f06ce304-7591-11ef-a7ae-b5bbbc9eafb6",
     "previous": "f06ce0bd-7591-11ef-bfcc-b5bbbc9eafb6"
    },
    "lc_wrapper": {
     "log_history": [
      "/home/s276322x7cf08f/AIPBL/.log/20240918/20240918-165101-0822.log",
      "/home/s276322x7cf08f/AIPBL/.log/20240918/20240918-165110-0018.log",
      "/home/s276322x7cf08f/AIPBL/.log/20240918/20240918-165117-0410.log",
      "/home/s276322x7cf08f/AIPBL/.log/20240918/20240918-165703-0091.log",
      "/home/s276322x7cf08f/AIPBL/.log/20240918/20240918-170120-0544.log",
      "/home/s276322x7cf08f/AIPBL/.log/20240918/20240918-173609-0874.log",
      "/home/s276322x7cf08f/AIPBL/.log/20240919/20240919-114132-0262.log",
      "/home/s276322x7cf08f/AIPBL/.log/20240919/20240919-123449-0760.log",
      "/home/s276322x7cf08f/AIPBL/.log/20240920/20240920-102028-0899.log"
     ]
    }
   },
   "outputs": [],
   "source": [
    "# 平均じゃなくする\n",
    "import ast\n",
    "import re\n",
    "import numpy as np\n",
    "\n",
    "# 文字列をリストに変換する関数\n",
    "def parse_embedding(embedding_str):\n",
    "    # スペースで区切られた数値を適切にカンマで区切り、リスト形式に変換\n",
    "    # リストのカンマの位置を修正\n",
    "    corrected_str = re.sub(r'(\\d)(-)', r'\\1, \\2', embedding_str)  # 数値とマイナス記号の間にカンマを追加\n",
    "    corrected_str = corrected_str.replace(' ', ',').replace(',,', ',')  # 連続するカンマを修正\n",
    "    corrected_str = corrected_str.replace('[,', '[').replace(',]', ']')  # リストの先頭と末尾のカンマを修正\n",
    "        \n",
    "    # リストを評価\n",
    "    embedding_list = ast.literal_eval(corrected_str)\n",
    "    return np.array(embedding_list)\n",
    "\n",
    "tbs_golden_all['embedding'] = tbs_golden_all['embedding'].apply(parse_embedding)"
   ]
  },
  {
   "cell_type": "code",
   "execution_count": 26,
   "id": "e14029c4",
   "metadata": {
    "lc_cell_meme": {
     "current": "f06ce304-7591-11ef-a7ae-b5bbbc9eafb6",
     "execution_end_time": "2024-09-20T01:20:38.739213Z",
     "history": [
      {
       "current": "f06ce304-7591-11ef-a7ae-b5bbbc9eafb6",
       "next": "f06ce3be-7591-11ef-9f86-b5bbbc9eafb6",
       "previous": "f06ce24c-7591-11ef-a828-b5bbbc9eafb6"
      },
      {
       "current": "f06ce304-7591-11ef-a7ae-b5bbbc9eafb6",
       "next": "56095ac6-7593-11ef-aaff-b5bbbc9eafb6",
       "previous": "f06ce24c-7591-11ef-a828-b5bbbc9eafb6"
      },
      {
       "current": "f06ce304-7591-11ef-a7ae-b5bbbc9eafb6",
       "next": "560959a4-7593-11ef-98f5-b5bbbc9eafb6",
       "previous": "f06ce24c-7591-11ef-a828-b5bbbc9eafb6"
      }
     ],
     "next": "477e9011-7640-11ef-a9d8-6968363b8a7c",
     "previous": "f06ce24c-7591-11ef-a828-b5bbbc9eafb6"
    },
    "lc_wrapper": {
     "log_history": [
      "/home/s276322x7cf08f/AIPBL/.log/20240918/20240918-165152-0518.log",
      "/home/s276322x7cf08f/AIPBL/.log/20240918/20240918-165713-0099.log",
      "/home/s276322x7cf08f/AIPBL/.log/20240918/20240918-170129-0565.log",
      "/home/s276322x7cf08f/AIPBL/.log/20240918/20240918-173619-0137.log",
      "/home/s276322x7cf08f/AIPBL/.log/20240919/20240919-114140-0632.log",
      "/home/s276322x7cf08f/AIPBL/.log/20240919/20240919-123457-0586.log",
      "/home/s276322x7cf08f/AIPBL/.log/20240920/20240920-102038-0709.log"
     ]
    }
   },
   "outputs": [],
   "source": [
    "from sklearn.linear_model import LinearRegression\n",
    "from sklearn.model_selection import train_test_split\n",
    "from sklearn.preprocessing import StandardScaler\n",
    "import numpy as np\n",
    "\n",
    "X = tbs_golden_all[\"embedding\"].tolist()\n",
    "y = tbs_golden_all[\"setai\"]\n",
    "y = np.array(y)\n",
    "\n",
    "# 標準化\n",
    "#scaler = StandardScaler()\n",
    "#X = scaler.fit_transform(X)\n",
    "\n",
    "X_train, X_test, y_train, y_test = train_test_split(\n",
    "    X, y, test_size=0.2, random_state=0)"
   ]
  },
  {
   "cell_type": "code",
   "execution_count": 27,
   "id": "ebddeb3a",
   "metadata": {
    "lc_cell_meme": {
     "current": "477e9011-7640-11ef-a9d8-6968363b8a7c",
     "execution_end_time": "2024-09-20T01:20:38.768513Z",
     "next": "560959a4-7593-11ef-98f5-b5bbbc9eafb6",
     "previous": "f06ce304-7591-11ef-a7ae-b5bbbc9eafb6"
    },
    "lc_wrapper": {
     "log_history": [
      "/home/s276322x7cf08f/AIPBL/.log/20240919/20240919-133257-0131.log",
      "/home/s276322x7cf08f/AIPBL/.log/20240920/20240920-102038-0758.log"
     ]
    }
   },
   "outputs": [
    {
     "name": "stdout",
     "output_type": "stream",
     "text": [
      "3227\n"
     ]
    }
   ],
   "source": [
    "print(len(X))"
   ]
  },
  {
   "cell_type": "markdown",
   "id": "00d889ab",
   "metadata": {
    "lc_cell_meme": {
     "current": "560959a4-7593-11ef-98f5-b5bbbc9eafb6",
     "history": [
      {
       "current": "560959a4-7593-11ef-98f5-b5bbbc9eafb6",
       "next": "f06ce0bd-7591-11ef-bfcc-b5bbbc9eafb6",
       "previous": "f06cdf95-7591-11ef-bd10-b5bbbc9eafb6"
      },
      {
       "current": "560959a4-7593-11ef-98f5-b5bbbc9eafb6",
       "next": "f06ce24c-7591-11ef-a828-b5bbbc9eafb6",
       "previous": "f06ce0bd-7591-11ef-bfcc-b5bbbc9eafb6"
      },
      {
       "current": "560959a4-7593-11ef-98f5-b5bbbc9eafb6",
       "next": "56095ac6-7593-11ef-aaff-b5bbbc9eafb6",
       "previous": "f06ce304-7591-11ef-a7ae-b5bbbc9eafb6"
      }
     ],
     "next": "56095ac6-7593-11ef-aaff-b5bbbc9eafb6",
     "previous": "477e9011-7640-11ef-a9d8-6968363b8a7c"
    }
   },
   "source": [
    "### 学習"
   ]
  },
  {
   "cell_type": "markdown",
   "id": "3cd5103d",
   "metadata": {
    "lc_cell_meme": {
     "current": "56095ac6-7593-11ef-aaff-b5bbbc9eafb6",
     "history": [
      {
       "current": "56095ac6-7593-11ef-aaff-b5bbbc9eafb6",
       "next": "f06ce3be-7591-11ef-9f86-b5bbbc9eafb6",
       "previous": "f06ce304-7591-11ef-a7ae-b5bbbc9eafb6"
      }
     ],
     "next": "f06ce3be-7591-11ef-9f86-b5bbbc9eafb6",
     "previous": "560959a4-7593-11ef-98f5-b5bbbc9eafb6"
    }
   },
   "source": [
    "#### 線形回帰"
   ]
  },
  {
   "cell_type": "code",
   "execution_count": 28,
   "id": "adc8fefc",
   "metadata": {
    "lc_cell_meme": {
     "current": "f06ce3be-7591-11ef-9f86-b5bbbc9eafb6",
     "execution_end_time": "2024-09-20T01:20:39.378450Z",
     "history": [
      {
       "current": "f06ce3be-7591-11ef-9f86-b5bbbc9eafb6",
       "next": "f06ce46f-7591-11ef-bf33-b5bbbc9eafb6",
       "previous": "f06ce304-7591-11ef-a7ae-b5bbbc9eafb6"
      }
     ],
     "next": "f06ce46f-7591-11ef-bf33-b5bbbc9eafb6",
     "previous": "56095ac6-7593-11ef-aaff-b5bbbc9eafb6"
    },
    "lc_wrapper": {
     "log_history": [
      "/home/s276322x7cf08f/AIPBL/.log/20240918/20240918-165158-0692.log",
      "/home/s276322x7cf08f/AIPBL/.log/20240918/20240918-165713-0647.log",
      "/home/s276322x7cf08f/AIPBL/.log/20240918/20240918-170130-0082.log",
      "/home/s276322x7cf08f/AIPBL/.log/20240918/20240918-173620-0049.log",
      "/home/s276322x7cf08f/AIPBL/.log/20240919/20240919-114141-0061.log",
      "/home/s276322x7cf08f/AIPBL/.log/20240919/20240919-123458-0028.log",
      "/home/s276322x7cf08f/AIPBL/.log/20240920/20240920-102038-0791.log"
     ]
    }
   },
   "outputs": [
    {
     "data": {
      "text/html": [
       "<style>#sk-container-id-3 {\n",
       "  /* Definition of color scheme common for light and dark mode */\n",
       "  --sklearn-color-text: black;\n",
       "  --sklearn-color-line: gray;\n",
       "  /* Definition of color scheme for unfitted estimators */\n",
       "  --sklearn-color-unfitted-level-0: #fff5e6;\n",
       "  --sklearn-color-unfitted-level-1: #f6e4d2;\n",
       "  --sklearn-color-unfitted-level-2: #ffe0b3;\n",
       "  --sklearn-color-unfitted-level-3: chocolate;\n",
       "  /* Definition of color scheme for fitted estimators */\n",
       "  --sklearn-color-fitted-level-0: #f0f8ff;\n",
       "  --sklearn-color-fitted-level-1: #d4ebff;\n",
       "  --sklearn-color-fitted-level-2: #b3dbfd;\n",
       "  --sklearn-color-fitted-level-3: cornflowerblue;\n",
       "\n",
       "  /* Specific color for light theme */\n",
       "  --sklearn-color-text-on-default-background: var(--sg-text-color, var(--theme-code-foreground, var(--jp-content-font-color1, black)));\n",
       "  --sklearn-color-background: var(--sg-background-color, var(--theme-background, var(--jp-layout-color0, white)));\n",
       "  --sklearn-color-border-box: var(--sg-text-color, var(--theme-code-foreground, var(--jp-content-font-color1, black)));\n",
       "  --sklearn-color-icon: #696969;\n",
       "\n",
       "  @media (prefers-color-scheme: dark) {\n",
       "    /* Redefinition of color scheme for dark theme */\n",
       "    --sklearn-color-text-on-default-background: var(--sg-text-color, var(--theme-code-foreground, var(--jp-content-font-color1, white)));\n",
       "    --sklearn-color-background: var(--sg-background-color, var(--theme-background, var(--jp-layout-color0, #111)));\n",
       "    --sklearn-color-border-box: var(--sg-text-color, var(--theme-code-foreground, var(--jp-content-font-color1, white)));\n",
       "    --sklearn-color-icon: #878787;\n",
       "  }\n",
       "}\n",
       "\n",
       "#sk-container-id-3 {\n",
       "  color: var(--sklearn-color-text);\n",
       "}\n",
       "\n",
       "#sk-container-id-3 pre {\n",
       "  padding: 0;\n",
       "}\n",
       "\n",
       "#sk-container-id-3 input.sk-hidden--visually {\n",
       "  border: 0;\n",
       "  clip: rect(1px 1px 1px 1px);\n",
       "  clip: rect(1px, 1px, 1px, 1px);\n",
       "  height: 1px;\n",
       "  margin: -1px;\n",
       "  overflow: hidden;\n",
       "  padding: 0;\n",
       "  position: absolute;\n",
       "  width: 1px;\n",
       "}\n",
       "\n",
       "#sk-container-id-3 div.sk-dashed-wrapped {\n",
       "  border: 1px dashed var(--sklearn-color-line);\n",
       "  margin: 0 0.4em 0.5em 0.4em;\n",
       "  box-sizing: border-box;\n",
       "  padding-bottom: 0.4em;\n",
       "  background-color: var(--sklearn-color-background);\n",
       "}\n",
       "\n",
       "#sk-container-id-3 div.sk-container {\n",
       "  /* jupyter's `normalize.less` sets `[hidden] { display: none; }`\n",
       "     but bootstrap.min.css set `[hidden] { display: none !important; }`\n",
       "     so we also need the `!important` here to be able to override the\n",
       "     default hidden behavior on the sphinx rendered scikit-learn.org.\n",
       "     See: https://github.com/scikit-learn/scikit-learn/issues/21755 */\n",
       "  display: inline-block !important;\n",
       "  position: relative;\n",
       "}\n",
       "\n",
       "#sk-container-id-3 div.sk-text-repr-fallback {\n",
       "  display: none;\n",
       "}\n",
       "\n",
       "div.sk-parallel-item,\n",
       "div.sk-serial,\n",
       "div.sk-item {\n",
       "  /* draw centered vertical line to link estimators */\n",
       "  background-image: linear-gradient(var(--sklearn-color-text-on-default-background), var(--sklearn-color-text-on-default-background));\n",
       "  background-size: 2px 100%;\n",
       "  background-repeat: no-repeat;\n",
       "  background-position: center center;\n",
       "}\n",
       "\n",
       "/* Parallel-specific style estimator block */\n",
       "\n",
       "#sk-container-id-3 div.sk-parallel-item::after {\n",
       "  content: \"\";\n",
       "  width: 100%;\n",
       "  border-bottom: 2px solid var(--sklearn-color-text-on-default-background);\n",
       "  flex-grow: 1;\n",
       "}\n",
       "\n",
       "#sk-container-id-3 div.sk-parallel {\n",
       "  display: flex;\n",
       "  align-items: stretch;\n",
       "  justify-content: center;\n",
       "  background-color: var(--sklearn-color-background);\n",
       "  position: relative;\n",
       "}\n",
       "\n",
       "#sk-container-id-3 div.sk-parallel-item {\n",
       "  display: flex;\n",
       "  flex-direction: column;\n",
       "}\n",
       "\n",
       "#sk-container-id-3 div.sk-parallel-item:first-child::after {\n",
       "  align-self: flex-end;\n",
       "  width: 50%;\n",
       "}\n",
       "\n",
       "#sk-container-id-3 div.sk-parallel-item:last-child::after {\n",
       "  align-self: flex-start;\n",
       "  width: 50%;\n",
       "}\n",
       "\n",
       "#sk-container-id-3 div.sk-parallel-item:only-child::after {\n",
       "  width: 0;\n",
       "}\n",
       "\n",
       "/* Serial-specific style estimator block */\n",
       "\n",
       "#sk-container-id-3 div.sk-serial {\n",
       "  display: flex;\n",
       "  flex-direction: column;\n",
       "  align-items: center;\n",
       "  background-color: var(--sklearn-color-background);\n",
       "  padding-right: 1em;\n",
       "  padding-left: 1em;\n",
       "}\n",
       "\n",
       "\n",
       "/* Toggleable style: style used for estimator/Pipeline/ColumnTransformer box that is\n",
       "clickable and can be expanded/collapsed.\n",
       "- Pipeline and ColumnTransformer use this feature and define the default style\n",
       "- Estimators will overwrite some part of the style using the `sk-estimator` class\n",
       "*/\n",
       "\n",
       "/* Pipeline and ColumnTransformer style (default) */\n",
       "\n",
       "#sk-container-id-3 div.sk-toggleable {\n",
       "  /* Default theme specific background. It is overwritten whether we have a\n",
       "  specific estimator or a Pipeline/ColumnTransformer */\n",
       "  background-color: var(--sklearn-color-background);\n",
       "}\n",
       "\n",
       "/* Toggleable label */\n",
       "#sk-container-id-3 label.sk-toggleable__label {\n",
       "  cursor: pointer;\n",
       "  display: block;\n",
       "  width: 100%;\n",
       "  margin-bottom: 0;\n",
       "  padding: 0.5em;\n",
       "  box-sizing: border-box;\n",
       "  text-align: center;\n",
       "}\n",
       "\n",
       "#sk-container-id-3 label.sk-toggleable__label-arrow:before {\n",
       "  /* Arrow on the left of the label */\n",
       "  content: \"▸\";\n",
       "  float: left;\n",
       "  margin-right: 0.25em;\n",
       "  color: var(--sklearn-color-icon);\n",
       "}\n",
       "\n",
       "#sk-container-id-3 label.sk-toggleable__label-arrow:hover:before {\n",
       "  color: var(--sklearn-color-text);\n",
       "}\n",
       "\n",
       "/* Toggleable content - dropdown */\n",
       "\n",
       "#sk-container-id-3 div.sk-toggleable__content {\n",
       "  max-height: 0;\n",
       "  max-width: 0;\n",
       "  overflow: hidden;\n",
       "  text-align: left;\n",
       "  /* unfitted */\n",
       "  background-color: var(--sklearn-color-unfitted-level-0);\n",
       "}\n",
       "\n",
       "#sk-container-id-3 div.sk-toggleable__content.fitted {\n",
       "  /* fitted */\n",
       "  background-color: var(--sklearn-color-fitted-level-0);\n",
       "}\n",
       "\n",
       "#sk-container-id-3 div.sk-toggleable__content pre {\n",
       "  margin: 0.2em;\n",
       "  border-radius: 0.25em;\n",
       "  color: var(--sklearn-color-text);\n",
       "  /* unfitted */\n",
       "  background-color: var(--sklearn-color-unfitted-level-0);\n",
       "}\n",
       "\n",
       "#sk-container-id-3 div.sk-toggleable__content.fitted pre {\n",
       "  /* unfitted */\n",
       "  background-color: var(--sklearn-color-fitted-level-0);\n",
       "}\n",
       "\n",
       "#sk-container-id-3 input.sk-toggleable__control:checked~div.sk-toggleable__content {\n",
       "  /* Expand drop-down */\n",
       "  max-height: 200px;\n",
       "  max-width: 100%;\n",
       "  overflow: auto;\n",
       "}\n",
       "\n",
       "#sk-container-id-3 input.sk-toggleable__control:checked~label.sk-toggleable__label-arrow:before {\n",
       "  content: \"▾\";\n",
       "}\n",
       "\n",
       "/* Pipeline/ColumnTransformer-specific style */\n",
       "\n",
       "#sk-container-id-3 div.sk-label input.sk-toggleable__control:checked~label.sk-toggleable__label {\n",
       "  color: var(--sklearn-color-text);\n",
       "  background-color: var(--sklearn-color-unfitted-level-2);\n",
       "}\n",
       "\n",
       "#sk-container-id-3 div.sk-label.fitted input.sk-toggleable__control:checked~label.sk-toggleable__label {\n",
       "  background-color: var(--sklearn-color-fitted-level-2);\n",
       "}\n",
       "\n",
       "/* Estimator-specific style */\n",
       "\n",
       "/* Colorize estimator box */\n",
       "#sk-container-id-3 div.sk-estimator input.sk-toggleable__control:checked~label.sk-toggleable__label {\n",
       "  /* unfitted */\n",
       "  background-color: var(--sklearn-color-unfitted-level-2);\n",
       "}\n",
       "\n",
       "#sk-container-id-3 div.sk-estimator.fitted input.sk-toggleable__control:checked~label.sk-toggleable__label {\n",
       "  /* fitted */\n",
       "  background-color: var(--sklearn-color-fitted-level-2);\n",
       "}\n",
       "\n",
       "#sk-container-id-3 div.sk-label label.sk-toggleable__label,\n",
       "#sk-container-id-3 div.sk-label label {\n",
       "  /* The background is the default theme color */\n",
       "  color: var(--sklearn-color-text-on-default-background);\n",
       "}\n",
       "\n",
       "/* On hover, darken the color of the background */\n",
       "#sk-container-id-3 div.sk-label:hover label.sk-toggleable__label {\n",
       "  color: var(--sklearn-color-text);\n",
       "  background-color: var(--sklearn-color-unfitted-level-2);\n",
       "}\n",
       "\n",
       "/* Label box, darken color on hover, fitted */\n",
       "#sk-container-id-3 div.sk-label.fitted:hover label.sk-toggleable__label.fitted {\n",
       "  color: var(--sklearn-color-text);\n",
       "  background-color: var(--sklearn-color-fitted-level-2);\n",
       "}\n",
       "\n",
       "/* Estimator label */\n",
       "\n",
       "#sk-container-id-3 div.sk-label label {\n",
       "  font-family: monospace;\n",
       "  font-weight: bold;\n",
       "  display: inline-block;\n",
       "  line-height: 1.2em;\n",
       "}\n",
       "\n",
       "#sk-container-id-3 div.sk-label-container {\n",
       "  text-align: center;\n",
       "}\n",
       "\n",
       "/* Estimator-specific */\n",
       "#sk-container-id-3 div.sk-estimator {\n",
       "  font-family: monospace;\n",
       "  border: 1px dotted var(--sklearn-color-border-box);\n",
       "  border-radius: 0.25em;\n",
       "  box-sizing: border-box;\n",
       "  margin-bottom: 0.5em;\n",
       "  /* unfitted */\n",
       "  background-color: var(--sklearn-color-unfitted-level-0);\n",
       "}\n",
       "\n",
       "#sk-container-id-3 div.sk-estimator.fitted {\n",
       "  /* fitted */\n",
       "  background-color: var(--sklearn-color-fitted-level-0);\n",
       "}\n",
       "\n",
       "/* on hover */\n",
       "#sk-container-id-3 div.sk-estimator:hover {\n",
       "  /* unfitted */\n",
       "  background-color: var(--sklearn-color-unfitted-level-2);\n",
       "}\n",
       "\n",
       "#sk-container-id-3 div.sk-estimator.fitted:hover {\n",
       "  /* fitted */\n",
       "  background-color: var(--sklearn-color-fitted-level-2);\n",
       "}\n",
       "\n",
       "/* Specification for estimator info (e.g. \"i\" and \"?\") */\n",
       "\n",
       "/* Common style for \"i\" and \"?\" */\n",
       "\n",
       ".sk-estimator-doc-link,\n",
       "a:link.sk-estimator-doc-link,\n",
       "a:visited.sk-estimator-doc-link {\n",
       "  float: right;\n",
       "  font-size: smaller;\n",
       "  line-height: 1em;\n",
       "  font-family: monospace;\n",
       "  background-color: var(--sklearn-color-background);\n",
       "  border-radius: 1em;\n",
       "  height: 1em;\n",
       "  width: 1em;\n",
       "  text-decoration: none !important;\n",
       "  margin-left: 1ex;\n",
       "  /* unfitted */\n",
       "  border: var(--sklearn-color-unfitted-level-1) 1pt solid;\n",
       "  color: var(--sklearn-color-unfitted-level-1);\n",
       "}\n",
       "\n",
       ".sk-estimator-doc-link.fitted,\n",
       "a:link.sk-estimator-doc-link.fitted,\n",
       "a:visited.sk-estimator-doc-link.fitted {\n",
       "  /* fitted */\n",
       "  border: var(--sklearn-color-fitted-level-1) 1pt solid;\n",
       "  color: var(--sklearn-color-fitted-level-1);\n",
       "}\n",
       "\n",
       "/* On hover */\n",
       "div.sk-estimator:hover .sk-estimator-doc-link:hover,\n",
       ".sk-estimator-doc-link:hover,\n",
       "div.sk-label-container:hover .sk-estimator-doc-link:hover,\n",
       ".sk-estimator-doc-link:hover {\n",
       "  /* unfitted */\n",
       "  background-color: var(--sklearn-color-unfitted-level-3);\n",
       "  color: var(--sklearn-color-background);\n",
       "  text-decoration: none;\n",
       "}\n",
       "\n",
       "div.sk-estimator.fitted:hover .sk-estimator-doc-link.fitted:hover,\n",
       ".sk-estimator-doc-link.fitted:hover,\n",
       "div.sk-label-container:hover .sk-estimator-doc-link.fitted:hover,\n",
       ".sk-estimator-doc-link.fitted:hover {\n",
       "  /* fitted */\n",
       "  background-color: var(--sklearn-color-fitted-level-3);\n",
       "  color: var(--sklearn-color-background);\n",
       "  text-decoration: none;\n",
       "}\n",
       "\n",
       "/* Span, style for the box shown on hovering the info icon */\n",
       ".sk-estimator-doc-link span {\n",
       "  display: none;\n",
       "  z-index: 9999;\n",
       "  position: relative;\n",
       "  font-weight: normal;\n",
       "  right: .2ex;\n",
       "  padding: .5ex;\n",
       "  margin: .5ex;\n",
       "  width: min-content;\n",
       "  min-width: 20ex;\n",
       "  max-width: 50ex;\n",
       "  color: var(--sklearn-color-text);\n",
       "  box-shadow: 2pt 2pt 4pt #999;\n",
       "  /* unfitted */\n",
       "  background: var(--sklearn-color-unfitted-level-0);\n",
       "  border: .5pt solid var(--sklearn-color-unfitted-level-3);\n",
       "}\n",
       "\n",
       ".sk-estimator-doc-link.fitted span {\n",
       "  /* fitted */\n",
       "  background: var(--sklearn-color-fitted-level-0);\n",
       "  border: var(--sklearn-color-fitted-level-3);\n",
       "}\n",
       "\n",
       ".sk-estimator-doc-link:hover span {\n",
       "  display: block;\n",
       "}\n",
       "\n",
       "/* \"?\"-specific style due to the `<a>` HTML tag */\n",
       "\n",
       "#sk-container-id-3 a.estimator_doc_link {\n",
       "  float: right;\n",
       "  font-size: 1rem;\n",
       "  line-height: 1em;\n",
       "  font-family: monospace;\n",
       "  background-color: var(--sklearn-color-background);\n",
       "  border-radius: 1rem;\n",
       "  height: 1rem;\n",
       "  width: 1rem;\n",
       "  text-decoration: none;\n",
       "  /* unfitted */\n",
       "  color: var(--sklearn-color-unfitted-level-1);\n",
       "  border: var(--sklearn-color-unfitted-level-1) 1pt solid;\n",
       "}\n",
       "\n",
       "#sk-container-id-3 a.estimator_doc_link.fitted {\n",
       "  /* fitted */\n",
       "  border: var(--sklearn-color-fitted-level-1) 1pt solid;\n",
       "  color: var(--sklearn-color-fitted-level-1);\n",
       "}\n",
       "\n",
       "/* On hover */\n",
       "#sk-container-id-3 a.estimator_doc_link:hover {\n",
       "  /* unfitted */\n",
       "  background-color: var(--sklearn-color-unfitted-level-3);\n",
       "  color: var(--sklearn-color-background);\n",
       "  text-decoration: none;\n",
       "}\n",
       "\n",
       "#sk-container-id-3 a.estimator_doc_link.fitted:hover {\n",
       "  /* fitted */\n",
       "  background-color: var(--sklearn-color-fitted-level-3);\n",
       "}\n",
       "</style><div id=\"sk-container-id-3\" class=\"sk-top-container\"><div class=\"sk-text-repr-fallback\"><pre>LinearRegression()</pre><b>In a Jupyter environment, please rerun this cell to show the HTML representation or trust the notebook. <br />On GitHub, the HTML representation is unable to render, please try loading this page with nbviewer.org.</b></div><div class=\"sk-container\" hidden><div class=\"sk-item\"><div class=\"sk-estimator fitted sk-toggleable\"><input class=\"sk-toggleable__control sk-hidden--visually\" id=\"sk-estimator-id-3\" type=\"checkbox\" checked><label for=\"sk-estimator-id-3\" class=\"sk-toggleable__label fitted sk-toggleable__label-arrow fitted\">&nbsp;&nbsp;LinearRegression<a class=\"sk-estimator-doc-link fitted\" rel=\"noreferrer\" target=\"_blank\" href=\"https://scikit-learn.org/1.5/modules/generated/sklearn.linear_model.LinearRegression.html\">?<span>Documentation for LinearRegression</span></a><span class=\"sk-estimator-doc-link fitted\">i<span>Fitted</span></span></label><div class=\"sk-toggleable__content fitted\"><pre>LinearRegression()</pre></div> </div></div></div></div>"
      ],
      "text/plain": [
       "LinearRegression()"
      ]
     },
     "execution_count": 28,
     "metadata": {},
     "output_type": "execute_result"
    }
   ],
   "source": [
    "# 線形回帰\n",
    "lr = LinearRegression()\n",
    "lr.fit(X_train,y_train)"
   ]
  },
  {
   "cell_type": "code",
   "execution_count": 29,
   "id": "190c7b5b",
   "metadata": {
    "lc_cell_meme": {
     "current": "f06ce46f-7591-11ef-bf33-b5bbbc9eafb6",
     "execution_end_time": "2024-09-20T01:20:39.543626Z",
     "history": [
      {
       "current": "f06ce46f-7591-11ef-bf33-b5bbbc9eafb6",
       "next": "f06ce51f-7591-11ef-ac59-b5bbbc9eafb6",
       "previous": "f06ce3be-7591-11ef-9f86-b5bbbc9eafb6"
      }
     ],
     "next": "781b5d8a-7593-11ef-89b4-b5bbbc9eafb6",
     "previous": "f06ce3be-7591-11ef-9f86-b5bbbc9eafb6"
    },
    "lc_wrapper": {
     "log_history": [
      "/home/s276322x7cf08f/AIPBL/.log/20240918/20240918-165205-0701.log",
      "/home/s276322x7cf08f/AIPBL/.log/20240918/20240918-165715-0382.log",
      "/home/s276322x7cf08f/AIPBL/.log/20240918/20240918-170132-0362.log",
      "/home/s276322x7cf08f/AIPBL/.log/20240918/20240918-170157-0013.log",
      "/home/s276322x7cf08f/AIPBL/.log/20240918/20240918-173621-0755.log",
      "/home/s276322x7cf08f/AIPBL/.log/20240919/20240919-114141-0579.log",
      "/home/s276322x7cf08f/AIPBL/.log/20240919/20240919-123458-0541.log",
      "/home/s276322x7cf08f/AIPBL/.log/20240920/20240920-102039-0464.log"
     ]
    }
   },
   "outputs": [
    {
     "name": "stdout",
     "output_type": "stream",
     "text": [
      "平均二乗誤差 (MSE): 4.505\n"
     ]
    }
   ],
   "source": [
    "from sklearn.metrics import mean_squared_error\n",
    "\n",
    "# テストデータで予測を実行\n",
    "y_pred = lr.predict(X_test)\n",
    "\n",
    "# 平均二乗誤差 (MSE) を計算\n",
    "mse = mean_squared_error(y_test, y_pred)\n",
    "\n",
    "# MSEを表示\n",
    "print('平均二乗誤差 (MSE): {:.3f}'.format(mse))"
   ]
  },
  {
   "cell_type": "code",
   "execution_count": 30,
   "id": "06f82c7a",
   "metadata": {
    "lc_cell_meme": {
     "current": "781b5d8a-7593-11ef-89b4-b5bbbc9eafb6",
     "execution_end_time": "2024-09-20T01:20:47.905266Z",
     "next": "f06ce51f-7591-11ef-ac59-b5bbbc9eafb6",
     "previous": "f06ce46f-7591-11ef-bf33-b5bbbc9eafb6"
    },
    "lc_wrapper": {
     "log_history": [
      "/home/s276322x7cf08f/AIPBL/.log/20240918/20240918-165535-0007.log",
      "/home/s276322x7cf08f/AIPBL/.log/20240918/20240918-165715-0485.log",
      "/home/s276322x7cf08f/AIPBL/.log/20240918/20240918-170132-0466.log",
      "/home/s276322x7cf08f/AIPBL/.log/20240918/20240918-170501-0023.log",
      "/home/s276322x7cf08f/AIPBL/.log/20240918/20240918-173545-0182.log",
      "/home/s276322x7cf08f/AIPBL/.log/20240918/20240918-173621-0850.log",
      "/home/s276322x7cf08f/AIPBL/.log/20240919/20240919-114141-0674.log",
      "/home/s276322x7cf08f/AIPBL/.log/20240919/20240919-123458-0572.log",
      "/home/s276322x7cf08f/AIPBL/.log/20240920/20240920-102039-0562.log"
     ]
    }
   },
   "outputs": [
    {
     "name": "stdout",
     "output_type": "stream",
     "text": [
      "番組内容を記述してください\n",
      "世界中で進行している最先端の都市計画を取り上げ、持続可能な街づくりに向けた挑戦や技術革新を紹介するドキュメンタリー。環境保護、スマートシティ、AI技術などに焦点を当てる。\n",
      "['世界中で進行している最先端の都市計画を取り上げ、持続可能な街づくりに向けた挑戦や技術革新を紹介するドキュメンタリー。環境保護、スマートシティ、AI技術などに焦点を当てる。']\n"
     ]
    }
   ],
   "source": [
    "# 架空の番組内容\n",
    "#世界中で進行している最先端の都市計画を取り上げ、持続可能な街づくりに向けた挑戦や技術革新を紹介するドキュメンタリー。環境保護、スマートシティ、AI技術などに焦点を当てる。\n",
    "print(\"番組内容を記述してください\")\n",
    "list_input_text = [input()]\n",
    "print(list_input_text)"
   ]
  },
  {
   "cell_type": "code",
   "execution_count": 31,
   "id": "5d7cb82b",
   "metadata": {
    "lc_cell_meme": {
     "current": "f06ce51f-7591-11ef-ac59-b5bbbc9eafb6",
     "execution_end_time": "2024-09-20T01:20:47.950830Z",
     "history": [
      {
       "current": "f06ce51f-7591-11ef-ac59-b5bbbc9eafb6",
       "next": "f06ce5cd-7591-11ef-b4e2-b5bbbc9eafb6",
       "previous": "f06ce46f-7591-11ef-bf33-b5bbbc9eafb6"
      }
     ],
     "next": "f06ce5cd-7591-11ef-b4e2-b5bbbc9eafb6",
     "previous": "781b5d8a-7593-11ef-89b4-b5bbbc9eafb6"
    },
    "lc_wrapper": {
     "log_history": [
      "/home/s276322x7cf08f/AIPBL/.log/20240918/20240918-165541-0811.log",
      "/home/s276322x7cf08f/AIPBL/.log/20240918/20240918-165611-0573.log",
      "/home/s276322x7cf08f/AIPBL/.log/20240918/20240918-165722-0797.log",
      "/home/s276322x7cf08f/AIPBL/.log/20240918/20240918-170132-0494.log",
      "/home/s276322x7cf08f/AIPBL/.log/20240918/20240918-170506-0663.log",
      "/home/s276322x7cf08f/AIPBL/.log/20240918/20240918-173624-0267.log",
      "/home/s276322x7cf08f/AIPBL/.log/20240919/20240919-114719-0107.log",
      "/home/s276322x7cf08f/AIPBL/.log/20240919/20240919-123511-0181.log",
      "/home/s276322x7cf08f/AIPBL/.log/20240920/20240920-102047-0933.log"
     ]
    }
   },
   "outputs": [
    {
     "name": "stdout",
     "output_type": "stream",
     "text": [
      "世界中で進行している最先端の都市計画を取り上げ、持続可能な街づくりに向けた挑戦や技術革新を紹介するドキュメンタリー。環境保護、スマートシティ、AI技術などに焦点を当てる。\n"
     ]
    }
   ],
   "source": [
    "import re\n",
    "import neologdn\n",
    "\n",
    "# '番組内容' と '出演者' 以降を削除\n",
    "def clean_description(text):\n",
    "    # '出演者' 以降を削除\n",
    "    text = re.split(r'-- 出演者 --', text)[0]\n",
    "    # '番組内容' という文字列を削除\n",
    "    text = re.sub(r'番組内容\\s*', '', text)\n",
    "    text = neologdn.normalize(text)\n",
    "    \n",
    "    return text\n",
    "\n",
    "# 各行に対してクリーンアップ処理を実行\n",
    "text = clean_description(list_input_text[0])\n",
    "print(text)\n"
   ]
  },
  {
   "cell_type": "code",
   "execution_count": 32,
   "id": "2986f692",
   "metadata": {
    "lc_cell_meme": {
     "current": "f06ce5cd-7591-11ef-b4e2-b5bbbc9eafb6",
     "execution_end_time": "2024-09-20T01:20:59.048336Z",
     "history": [
      {
       "current": "f06ce5cd-7591-11ef-b4e2-b5bbbc9eafb6",
       "next": "f06ce681-7591-11ef-83af-b5bbbc9eafb6",
       "previous": "f06ce51f-7591-11ef-ac59-b5bbbc9eafb6"
      }
     ],
     "next": "f06ce681-7591-11ef-83af-b5bbbc9eafb6-1-fe4e",
     "previous": "f06ce51f-7591-11ef-ac59-b5bbbc9eafb6"
    },
    "lc_wrapper": {
     "log_history": [
      "/home/s276322x7cf08f/AIPBL/.log/20240918/20240918-165620-0042.log",
      "/home/s276322x7cf08f/AIPBL/.log/20240918/20240918-165722-0827.log",
      "/home/s276322x7cf08f/AIPBL/.log/20240918/20240918-165743-0444.log",
      "/home/s276322x7cf08f/AIPBL/.log/20240918/20240918-165911-0092.log",
      "/home/s276322x7cf08f/AIPBL/.log/20240918/20240918-170132-0519.log",
      "/home/s276322x7cf08f/AIPBL/.log/20240918/20240918-170507-0764.log",
      "/home/s276322x7cf08f/AIPBL/.log/20240918/20240918-173624-0320.log",
      "/home/s276322x7cf08f/AIPBL/.log/20240919/20240919-114719-0142.log",
      "/home/s276322x7cf08f/AIPBL/.log/20240919/20240919-123511-0229.log",
      "/home/s276322x7cf08f/AIPBL/.log/20240920/20240920-102047-0971.log"
     ]
    }
   },
   "outputs": [
    {
     "name": "stdout",
     "output_type": "stream",
     "text": [
      "予想の世帯視聴率 [13.55365136]\n"
     ]
    }
   ],
   "source": [
    "from sentence_transformers import SentenceTransformer\n",
    "\n",
    "embedding_model = SentenceTransformer(\"cl-nagoya/sup-simcse-ja-base\")\n",
    "\n",
    "embedding = embedding_model.encode(text)\n",
    "\n",
    "embedding = embedding.reshape(1,-1)\n",
    "pred = lr.predict(embedding)\n",
    "\n",
    "print(\"予想の世帯視聴率\",pred)"
   ]
  },
  {
   "cell_type": "markdown",
   "id": "a6d23739",
   "metadata": {
    "lc_cell_meme": {
     "current": "f06ce681-7591-11ef-83af-b5bbbc9eafb6-1-fe4e",
     "history": [
      {
       "current": "f06ce681-7591-11ef-83af-b5bbbc9eafb6-1-fe4e",
       "next": "f06ce738-7591-11ef-9ada-b5bbbc9eafb6",
       "previous": "f06ce5cd-7591-11ef-b4e2-b5bbbc9eafb6"
      }
     ],
     "next": "804ea0d9-76ee-11ef-8d98-6968363b8a7c",
     "previous": "f06ce5cd-7591-11ef-b4e2-b5bbbc9eafb6"
    }
   },
   "source": [
    "#### 線形回帰, リッジ回帰, ラッソ回帰, エラスティックネット, 決定木, ランダムフォレスト, Adaboost 比較"
   ]
  },
  {
   "cell_type": "code",
   "execution_count": 33,
   "id": "991f9377",
   "metadata": {
    "lc_cell_meme": {
     "current": "804ea0d9-76ee-11ef-8d98-6968363b8a7c",
     "execution_end_time": "2024-09-20T01:23:23.439117Z",
     "next": "f06ce738-7591-11ef-9ada-b5bbbc9eafb6",
     "previous": "f06ce681-7591-11ef-83af-b5bbbc9eafb6-1-fe4e"
    },
    "lc_wrapper": {
     "log_history": [
      "/home/s276322x7cf08f/AIPBL/.log/20240920/20240920-102059-0126.log"
     ]
    }
   },
   "outputs": [
    {
     "name": "stderr",
     "output_type": "stream",
     "text": [
      "\r",
      "Regression models:   0%|          | 0/7 [00:00<?, ?it/s]"
     ]
    },
    {
     "name": "stdout",
     "output_type": "stream",
     "text": [
      "Linear\n"
     ]
    },
    {
     "name": "stderr",
     "output_type": "stream",
     "text": [
      "Regression models:  29%|██▊       | 2/7 [00:00<00:01,  4.14it/s]"
     ]
    },
    {
     "name": "stdout",
     "output_type": "stream",
     "text": [
      "Ridge\n",
      "Lasso\n"
     ]
    },
    {
     "name": "stderr",
     "output_type": "stream",
     "text": [
      "\r",
      "Regression models:  43%|████▎     | 3/7 [00:00<00:00,  5.33it/s]"
     ]
    },
    {
     "name": "stdout",
     "output_type": "stream",
     "text": [
      "ElasticNet\n",
      "DecisionTree\n"
     ]
    },
    {
     "name": "stderr",
     "output_type": "stream",
     "text": [
      "\r",
      "Regression models:  71%|███████▏  | 5/7 [00:02<00:01,  1.38it/s]"
     ]
    },
    {
     "name": "stdout",
     "output_type": "stream",
     "text": [
      "RandomForest\n"
     ]
    },
    {
     "name": "stderr",
     "output_type": "stream",
     "text": [
      "\r",
      "Regression models:  86%|████████▌ | 6/7 [02:10<00:37, 37.29s/it]"
     ]
    },
    {
     "name": "stdout",
     "output_type": "stream",
     "text": [
      "AdaBoost\n"
     ]
    },
    {
     "name": "stderr",
     "output_type": "stream",
     "text": [
      "Regression models: 100%|██████████| 7/7 [02:24<00:00, 20.61s/it]"
     ]
    },
    {
     "name": "stdout",
     "output_type": "stream",
     "text": [
      "           name       MAE      RMSE        R²\n",
      "0        Linear  1.583243  2.122419  0.427913\n",
      "1         Ridge  1.439151  1.935388  0.524297\n",
      "2         Lasso  1.654843  2.318254  0.317470\n",
      "3    ElasticNet  1.885644  2.681163  0.087051\n",
      "4  DecisionTree  2.110634  2.914580 -0.078827\n",
      "5  RandomForest  1.459010  2.061841  0.460104\n",
      "6      AdaBoost  1.563868  2.111262  0.433912\n"
     ]
    },
    {
     "name": "stderr",
     "output_type": "stream",
     "text": [
      "\n"
     ]
    }
   ],
   "source": [
    "from sklearn.metrics import mean_squared_error\n",
    "\n",
    "# モデル作成と検証\n",
    "result_df = pd.DataFrame()\n",
    "for name, reg in tqdm(zip(reg_names, regressors), total=len(reg_names), desc=\"Regression models\"):\n",
    "    print(name)\n",
    "    reg.fit(X_train, y_train)\n",
    "    y_predict = reg.predict(X_test)\n",
    "    \n",
    "    # 各種スコアの計算\n",
    "    mae = mean_absolute_error(y_test, y_predict)\n",
    "    rmse = np.sqrt(mean_squared_error(y_test, y_predict))\n",
    "    r2 = reg.score(X_test, y_test)  # 決定係数の計算\n",
    "\n",
    "    # データフレームに結果を追加\n",
    "    tmp_df = pd.DataFrame(data=[[name, mae, rmse, r2]], columns=['name', 'MAE', 'RMSE', 'R²'])\n",
    "    result_df = pd.concat([result_df, tmp_df], ignore_index=True)\n",
    "\n",
    "# 結果の表示\n",
    "print(result_df)\n"
   ]
  },
  {
   "cell_type": "code",
   "execution_count": 9,
   "id": "a0b85b73",
   "metadata": {
    "lc_cell_meme": {
     "current": "f06ce738-7591-11ef-9ada-b5bbbc9eafb6",
     "execution_end_time": "2024-09-19T03:37:45.927209Z",
     "history": [
      {
       "current": "f06ce738-7591-11ef-9ada-b5bbbc9eafb6",
       "next": "f06ce7eb-7591-11ef-9274-b5bbbc9eafb6",
       "previous": "f06ce681-7591-11ef-83af-b5bbbc9eafb6"
      },
      {
       "current": "f06ce738-7591-11ef-9ada-b5bbbc9eafb6",
       "next": "f06ce7eb-7591-11ef-9274-b5bbbc9eafb6",
       "previous": "f06ce681-7591-11ef-83af-b5bbbc9eafb6-1-fe4e"
      }
     ],
     "next": "f06ce7eb-7591-11ef-9274-b5bbbc9eafb6",
     "previous": "804ea0d9-76ee-11ef-8d98-6968363b8a7c"
    },
    "lc_wrapper": {
     "log_history": [
      "/home/s276322x7cf08f/AIPBL/.log/20240918/20240918-171510-0622.log",
      "/home/s276322x7cf08f/AIPBL/.log/20240918/20240918-171546-0287.log",
      "/home/s276322x7cf08f/AIPBL/.log/20240918/20240918-171757-0927.log",
      "/home/s276322x7cf08f/AIPBL/.log/20240918/20240918-171957-0923.log",
      "/home/s276322x7cf08f/AIPBL/.log/20240918/20240918-173638-0135.log",
      "/home/s276322x7cf08f/AIPBL/.log/20240919/20240919-114734-0602.log",
      "/home/s276322x7cf08f/AIPBL/.log/20240919/20240919-123519-0885.log"
     ]
    }
   },
   "outputs": [
    {
     "name": "stderr",
     "output_type": "stream",
     "text": [
      "\r",
      "Regressoin models:   0%|          | 0/7 [00:00<?, ?it/s]"
     ]
    },
    {
     "name": "stdout",
     "output_type": "stream",
     "text": [
      "Linear\n"
     ]
    },
    {
     "name": "stderr",
     "output_type": "stream",
     "text": [
      "Regressoin models:  29%|██▊       | 2/7 [00:00<00:01,  2.88it/s]"
     ]
    },
    {
     "name": "stdout",
     "output_type": "stream",
     "text": [
      "Ridge\n",
      "Lasso\n"
     ]
    },
    {
     "name": "stderr",
     "output_type": "stream",
     "text": [
      "Regressoin models:  57%|█████▋    | 4/7 [00:01<00:00,  4.59it/s]"
     ]
    },
    {
     "name": "stdout",
     "output_type": "stream",
     "text": [
      "ElasticNet\n",
      "DecisionTree\n"
     ]
    },
    {
     "name": "stderr",
     "output_type": "stream",
     "text": [
      "\r",
      "Regressoin models:  71%|███████▏  | 5/7 [00:04<00:02,  1.27s/it]"
     ]
    },
    {
     "name": "stdout",
     "output_type": "stream",
     "text": [
      "RandomForest\n"
     ]
    },
    {
     "name": "stderr",
     "output_type": "stream",
     "text": [
      "\r",
      "Regressoin models:  86%|████████▌ | 6/7 [02:12<00:44, 44.30s/it]"
     ]
    },
    {
     "name": "stdout",
     "output_type": "stream",
     "text": [
      "AdaBoost\n"
     ]
    },
    {
     "name": "stderr",
     "output_type": "stream",
     "text": [
      "Regressoin models: 100%|██████████| 7/7 [02:25<00:00, 20.85s/it]\n"
     ]
    }
   ],
   "source": [
    "from sklearn.linear_model import LinearRegression # 線形回帰\n",
    "from sklearn.linear_model import Ridge # リッジ回帰\n",
    "from sklearn.linear_model import Lasso # ラッソ回帰 \n",
    "from sklearn.linear_model import ElasticNet # エラスティックネット，リッジ回帰とLasso回帰の折衷案\n",
    "from sklearn.tree import DecisionTreeRegressor # 決定木\n",
    "from sklearn.ensemble import RandomForestRegressor # ランダムフォレスト\n",
    "from sklearn.ensemble import AdaBoostRegressor # ブースティング（Adaboost）\n",
    "\n",
    "from sklearn.metrics import mean_absolute_error\n",
    "\n",
    "from tqdm import tqdm\n",
    "\n",
    "reg_names = ['Linear','Ridge','Lasso','ElasticNet','DecisionTree','RandomForest', 'AdaBoost']\n",
    "\n",
    "regressors =[\n",
    "    LinearRegression(),\n",
    "    Ridge(alpha=10),\n",
    "    Lasso(alpha=0.1),\n",
    "    ElasticNet(alpha=1.0, l1_ratio=0.5),\n",
    "    DecisionTreeRegressor(),\n",
    "    RandomForestRegressor(),\n",
    "    AdaBoostRegressor()\n",
    "]\n",
    "\n",
    "# モデル作成と検証\n",
    "result_df = pd.DataFrame()\n",
    "for name, reg in tqdm(zip(reg_names, regressors), total = len(reg_names), desc = \"Regressoin models\"):\n",
    "    print(name)\n",
    "    reg.fit(X_train, y_train)\n",
    "    y_predict = reg.predict(X_test)\n",
    "    mae  = mean_absolute_error(y_test, y_predict)\n",
    "    rmse = np.sqrt(mean_squared_error(y_test, y_predict))\n",
    "\n",
    "    tmp_df = pd.DataFrame(data=[[name,mae,rmse]],columns=['name','MAE','RMSE'])\n",
    "    result_df = pd.concat([result_df,tmp_df])"
   ]
  },
  {
   "cell_type": "code",
   "execution_count": 10,
   "id": "f0beddbe",
   "metadata": {
    "lc_cell_meme": {
     "current": "f06ce7eb-7591-11ef-9274-b5bbbc9eafb6",
     "execution_end_time": "2024-09-19T03:37:45.972361Z",
     "history": [
      {
       "current": "f06ce7eb-7591-11ef-9274-b5bbbc9eafb6",
       "next": "f06ce89e-7591-11ef-8be3-b5bbbc9eafb6",
       "previous": "f06ce738-7591-11ef-9ada-b5bbbc9eafb6"
      }
     ],
     "next": "f06ce89e-7591-11ef-8be3-b5bbbc9eafb6-1-c6d1",
     "previous": "f06ce738-7591-11ef-9ada-b5bbbc9eafb6"
    },
    "lc_wrapper": {
     "log_history": [
      "/home/s276322x7cf08f/AIPBL/.log/20240918/20240918-172305-0726.log",
      "/home/s276322x7cf08f/AIPBL/.log/20240918/20240918-173915-0418.log",
      "/home/s276322x7cf08f/AIPBL/.log/20240919/20240919-115002-0849.log",
      "/home/s276322x7cf08f/AIPBL/.log/20240919/20240919-123745-0950.log"
     ]
    }
   },
   "outputs": [
    {
     "data": {
      "text/html": [
       "<div>\n",
       "<style scoped>\n",
       "    .dataframe tbody tr th:only-of-type {\n",
       "        vertical-align: middle;\n",
       "    }\n",
       "\n",
       "    .dataframe tbody tr th {\n",
       "        vertical-align: top;\n",
       "    }\n",
       "\n",
       "    .dataframe thead th {\n",
       "        text-align: right;\n",
       "    }\n",
       "</style>\n",
       "<table border=\"1\" class=\"dataframe\">\n",
       "  <thead>\n",
       "    <tr style=\"text-align: right;\">\n",
       "      <th></th>\n",
       "      <th>name</th>\n",
       "      <th>MAE</th>\n",
       "      <th>RMSE</th>\n",
       "    </tr>\n",
       "  </thead>\n",
       "  <tbody>\n",
       "    <tr>\n",
       "      <th>0</th>\n",
       "      <td>Linear</td>\n",
       "      <td>1.583243</td>\n",
       "      <td>2.122419</td>\n",
       "    </tr>\n",
       "    <tr>\n",
       "      <th>0</th>\n",
       "      <td>Ridge</td>\n",
       "      <td>1.439151</td>\n",
       "      <td>1.935388</td>\n",
       "    </tr>\n",
       "    <tr>\n",
       "      <th>0</th>\n",
       "      <td>Lasso</td>\n",
       "      <td>1.654843</td>\n",
       "      <td>2.318254</td>\n",
       "    </tr>\n",
       "    <tr>\n",
       "      <th>0</th>\n",
       "      <td>ElasticNet</td>\n",
       "      <td>1.885644</td>\n",
       "      <td>2.681163</td>\n",
       "    </tr>\n",
       "    <tr>\n",
       "      <th>0</th>\n",
       "      <td>DecisionTree</td>\n",
       "      <td>2.122841</td>\n",
       "      <td>2.929030</td>\n",
       "    </tr>\n",
       "    <tr>\n",
       "      <th>0</th>\n",
       "      <td>RandomForest</td>\n",
       "      <td>1.463422</td>\n",
       "      <td>2.056145</td>\n",
       "    </tr>\n",
       "    <tr>\n",
       "      <th>0</th>\n",
       "      <td>AdaBoost</td>\n",
       "      <td>1.581658</td>\n",
       "      <td>2.146404</td>\n",
       "    </tr>\n",
       "  </tbody>\n",
       "</table>\n",
       "</div>"
      ],
      "text/plain": [
       "           name       MAE      RMSE\n",
       "0        Linear  1.583243  2.122419\n",
       "0         Ridge  1.439151  1.935388\n",
       "0         Lasso  1.654843  2.318254\n",
       "0    ElasticNet  1.885644  2.681163\n",
       "0  DecisionTree  2.122841  2.929030\n",
       "0  RandomForest  1.463422  2.056145\n",
       "0      AdaBoost  1.581658  2.146404"
      ]
     },
     "execution_count": 10,
     "metadata": {},
     "output_type": "execute_result"
    }
   ],
   "source": [
    "result_df # 結果をみてみる\n",
    "# どうやらRidge回帰がよさげらしい"
   ]
  },
  {
   "cell_type": "markdown",
   "id": "4c085cd3",
   "metadata": {
    "lc_cell_meme": {
     "current": "f06ce89e-7591-11ef-8be3-b5bbbc9eafb6-1-c6d1",
     "history": [
      {
       "current": "f06ce89e-7591-11ef-8be3-b5bbbc9eafb6-1-c6d1",
       "next": null,
       "previous": "f06ce7eb-7591-11ef-9274-b5bbbc9eafb6"
      }
     ],
     "next": "b5c37982-7597-11ef-8ec4-b5bbbc9eafb6",
     "previous": "f06ce7eb-7591-11ef-9274-b5bbbc9eafb6"
    }
   },
   "source": [
    "#### Ridge回帰"
   ]
  },
  {
   "cell_type": "code",
   "execution_count": 11,
   "id": "5e150e5b",
   "metadata": {
    "lc_cell_meme": {
     "current": "b5c37982-7597-11ef-8ec4-b5bbbc9eafb6",
     "execution_end_time": "2024-09-19T03:37:46.069427Z",
     "history": [
      {
       "current": "b5c37982-7597-11ef-8ec4-b5bbbc9eafb6",
       "next": null,
       "previous": "f06ce89e-7591-11ef-8be3-b5bbbc9eafb6-1-c6d1"
      }
     ],
     "next": "a4f682ea-7598-11ef-9be3-b5bbbc9eafb6",
     "previous": "f06ce89e-7591-11ef-8be3-b5bbbc9eafb6-1-c6d1"
    },
    "lc_wrapper": {
     "log_history": [
      "/home/s276322x7cf08f/AIPBL/.log/20240918/20240918-173309-0382.log",
      "/home/s276322x7cf08f/AIPBL/.log/20240918/20240918-173915-0460.log",
      "/home/s276322x7cf08f/AIPBL/.log/20240919/20240919-115002-0917.log",
      "/home/s276322x7cf08f/AIPBL/.log/20240919/20240919-123745-0997.log"
     ]
    }
   },
   "outputs": [
    {
     "data": {
      "text/html": [
       "<style>#sk-container-id-2 {\n",
       "  /* Definition of color scheme common for light and dark mode */\n",
       "  --sklearn-color-text: black;\n",
       "  --sklearn-color-line: gray;\n",
       "  /* Definition of color scheme for unfitted estimators */\n",
       "  --sklearn-color-unfitted-level-0: #fff5e6;\n",
       "  --sklearn-color-unfitted-level-1: #f6e4d2;\n",
       "  --sklearn-color-unfitted-level-2: #ffe0b3;\n",
       "  --sklearn-color-unfitted-level-3: chocolate;\n",
       "  /* Definition of color scheme for fitted estimators */\n",
       "  --sklearn-color-fitted-level-0: #f0f8ff;\n",
       "  --sklearn-color-fitted-level-1: #d4ebff;\n",
       "  --sklearn-color-fitted-level-2: #b3dbfd;\n",
       "  --sklearn-color-fitted-level-3: cornflowerblue;\n",
       "\n",
       "  /* Specific color for light theme */\n",
       "  --sklearn-color-text-on-default-background: var(--sg-text-color, var(--theme-code-foreground, var(--jp-content-font-color1, black)));\n",
       "  --sklearn-color-background: var(--sg-background-color, var(--theme-background, var(--jp-layout-color0, white)));\n",
       "  --sklearn-color-border-box: var(--sg-text-color, var(--theme-code-foreground, var(--jp-content-font-color1, black)));\n",
       "  --sklearn-color-icon: #696969;\n",
       "\n",
       "  @media (prefers-color-scheme: dark) {\n",
       "    /* Redefinition of color scheme for dark theme */\n",
       "    --sklearn-color-text-on-default-background: var(--sg-text-color, var(--theme-code-foreground, var(--jp-content-font-color1, white)));\n",
       "    --sklearn-color-background: var(--sg-background-color, var(--theme-background, var(--jp-layout-color0, #111)));\n",
       "    --sklearn-color-border-box: var(--sg-text-color, var(--theme-code-foreground, var(--jp-content-font-color1, white)));\n",
       "    --sklearn-color-icon: #878787;\n",
       "  }\n",
       "}\n",
       "\n",
       "#sk-container-id-2 {\n",
       "  color: var(--sklearn-color-text);\n",
       "}\n",
       "\n",
       "#sk-container-id-2 pre {\n",
       "  padding: 0;\n",
       "}\n",
       "\n",
       "#sk-container-id-2 input.sk-hidden--visually {\n",
       "  border: 0;\n",
       "  clip: rect(1px 1px 1px 1px);\n",
       "  clip: rect(1px, 1px, 1px, 1px);\n",
       "  height: 1px;\n",
       "  margin: -1px;\n",
       "  overflow: hidden;\n",
       "  padding: 0;\n",
       "  position: absolute;\n",
       "  width: 1px;\n",
       "}\n",
       "\n",
       "#sk-container-id-2 div.sk-dashed-wrapped {\n",
       "  border: 1px dashed var(--sklearn-color-line);\n",
       "  margin: 0 0.4em 0.5em 0.4em;\n",
       "  box-sizing: border-box;\n",
       "  padding-bottom: 0.4em;\n",
       "  background-color: var(--sklearn-color-background);\n",
       "}\n",
       "\n",
       "#sk-container-id-2 div.sk-container {\n",
       "  /* jupyter's `normalize.less` sets `[hidden] { display: none; }`\n",
       "     but bootstrap.min.css set `[hidden] { display: none !important; }`\n",
       "     so we also need the `!important` here to be able to override the\n",
       "     default hidden behavior on the sphinx rendered scikit-learn.org.\n",
       "     See: https://github.com/scikit-learn/scikit-learn/issues/21755 */\n",
       "  display: inline-block !important;\n",
       "  position: relative;\n",
       "}\n",
       "\n",
       "#sk-container-id-2 div.sk-text-repr-fallback {\n",
       "  display: none;\n",
       "}\n",
       "\n",
       "div.sk-parallel-item,\n",
       "div.sk-serial,\n",
       "div.sk-item {\n",
       "  /* draw centered vertical line to link estimators */\n",
       "  background-image: linear-gradient(var(--sklearn-color-text-on-default-background), var(--sklearn-color-text-on-default-background));\n",
       "  background-size: 2px 100%;\n",
       "  background-repeat: no-repeat;\n",
       "  background-position: center center;\n",
       "}\n",
       "\n",
       "/* Parallel-specific style estimator block */\n",
       "\n",
       "#sk-container-id-2 div.sk-parallel-item::after {\n",
       "  content: \"\";\n",
       "  width: 100%;\n",
       "  border-bottom: 2px solid var(--sklearn-color-text-on-default-background);\n",
       "  flex-grow: 1;\n",
       "}\n",
       "\n",
       "#sk-container-id-2 div.sk-parallel {\n",
       "  display: flex;\n",
       "  align-items: stretch;\n",
       "  justify-content: center;\n",
       "  background-color: var(--sklearn-color-background);\n",
       "  position: relative;\n",
       "}\n",
       "\n",
       "#sk-container-id-2 div.sk-parallel-item {\n",
       "  display: flex;\n",
       "  flex-direction: column;\n",
       "}\n",
       "\n",
       "#sk-container-id-2 div.sk-parallel-item:first-child::after {\n",
       "  align-self: flex-end;\n",
       "  width: 50%;\n",
       "}\n",
       "\n",
       "#sk-container-id-2 div.sk-parallel-item:last-child::after {\n",
       "  align-self: flex-start;\n",
       "  width: 50%;\n",
       "}\n",
       "\n",
       "#sk-container-id-2 div.sk-parallel-item:only-child::after {\n",
       "  width: 0;\n",
       "}\n",
       "\n",
       "/* Serial-specific style estimator block */\n",
       "\n",
       "#sk-container-id-2 div.sk-serial {\n",
       "  display: flex;\n",
       "  flex-direction: column;\n",
       "  align-items: center;\n",
       "  background-color: var(--sklearn-color-background);\n",
       "  padding-right: 1em;\n",
       "  padding-left: 1em;\n",
       "}\n",
       "\n",
       "\n",
       "/* Toggleable style: style used for estimator/Pipeline/ColumnTransformer box that is\n",
       "clickable and can be expanded/collapsed.\n",
       "- Pipeline and ColumnTransformer use this feature and define the default style\n",
       "- Estimators will overwrite some part of the style using the `sk-estimator` class\n",
       "*/\n",
       "\n",
       "/* Pipeline and ColumnTransformer style (default) */\n",
       "\n",
       "#sk-container-id-2 div.sk-toggleable {\n",
       "  /* Default theme specific background. It is overwritten whether we have a\n",
       "  specific estimator or a Pipeline/ColumnTransformer */\n",
       "  background-color: var(--sklearn-color-background);\n",
       "}\n",
       "\n",
       "/* Toggleable label */\n",
       "#sk-container-id-2 label.sk-toggleable__label {\n",
       "  cursor: pointer;\n",
       "  display: block;\n",
       "  width: 100%;\n",
       "  margin-bottom: 0;\n",
       "  padding: 0.5em;\n",
       "  box-sizing: border-box;\n",
       "  text-align: center;\n",
       "}\n",
       "\n",
       "#sk-container-id-2 label.sk-toggleable__label-arrow:before {\n",
       "  /* Arrow on the left of the label */\n",
       "  content: \"▸\";\n",
       "  float: left;\n",
       "  margin-right: 0.25em;\n",
       "  color: var(--sklearn-color-icon);\n",
       "}\n",
       "\n",
       "#sk-container-id-2 label.sk-toggleable__label-arrow:hover:before {\n",
       "  color: var(--sklearn-color-text);\n",
       "}\n",
       "\n",
       "/* Toggleable content - dropdown */\n",
       "\n",
       "#sk-container-id-2 div.sk-toggleable__content {\n",
       "  max-height: 0;\n",
       "  max-width: 0;\n",
       "  overflow: hidden;\n",
       "  text-align: left;\n",
       "  /* unfitted */\n",
       "  background-color: var(--sklearn-color-unfitted-level-0);\n",
       "}\n",
       "\n",
       "#sk-container-id-2 div.sk-toggleable__content.fitted {\n",
       "  /* fitted */\n",
       "  background-color: var(--sklearn-color-fitted-level-0);\n",
       "}\n",
       "\n",
       "#sk-container-id-2 div.sk-toggleable__content pre {\n",
       "  margin: 0.2em;\n",
       "  border-radius: 0.25em;\n",
       "  color: var(--sklearn-color-text);\n",
       "  /* unfitted */\n",
       "  background-color: var(--sklearn-color-unfitted-level-0);\n",
       "}\n",
       "\n",
       "#sk-container-id-2 div.sk-toggleable__content.fitted pre {\n",
       "  /* unfitted */\n",
       "  background-color: var(--sklearn-color-fitted-level-0);\n",
       "}\n",
       "\n",
       "#sk-container-id-2 input.sk-toggleable__control:checked~div.sk-toggleable__content {\n",
       "  /* Expand drop-down */\n",
       "  max-height: 200px;\n",
       "  max-width: 100%;\n",
       "  overflow: auto;\n",
       "}\n",
       "\n",
       "#sk-container-id-2 input.sk-toggleable__control:checked~label.sk-toggleable__label-arrow:before {\n",
       "  content: \"▾\";\n",
       "}\n",
       "\n",
       "/* Pipeline/ColumnTransformer-specific style */\n",
       "\n",
       "#sk-container-id-2 div.sk-label input.sk-toggleable__control:checked~label.sk-toggleable__label {\n",
       "  color: var(--sklearn-color-text);\n",
       "  background-color: var(--sklearn-color-unfitted-level-2);\n",
       "}\n",
       "\n",
       "#sk-container-id-2 div.sk-label.fitted input.sk-toggleable__control:checked~label.sk-toggleable__label {\n",
       "  background-color: var(--sklearn-color-fitted-level-2);\n",
       "}\n",
       "\n",
       "/* Estimator-specific style */\n",
       "\n",
       "/* Colorize estimator box */\n",
       "#sk-container-id-2 div.sk-estimator input.sk-toggleable__control:checked~label.sk-toggleable__label {\n",
       "  /* unfitted */\n",
       "  background-color: var(--sklearn-color-unfitted-level-2);\n",
       "}\n",
       "\n",
       "#sk-container-id-2 div.sk-estimator.fitted input.sk-toggleable__control:checked~label.sk-toggleable__label {\n",
       "  /* fitted */\n",
       "  background-color: var(--sklearn-color-fitted-level-2);\n",
       "}\n",
       "\n",
       "#sk-container-id-2 div.sk-label label.sk-toggleable__label,\n",
       "#sk-container-id-2 div.sk-label label {\n",
       "  /* The background is the default theme color */\n",
       "  color: var(--sklearn-color-text-on-default-background);\n",
       "}\n",
       "\n",
       "/* On hover, darken the color of the background */\n",
       "#sk-container-id-2 div.sk-label:hover label.sk-toggleable__label {\n",
       "  color: var(--sklearn-color-text);\n",
       "  background-color: var(--sklearn-color-unfitted-level-2);\n",
       "}\n",
       "\n",
       "/* Label box, darken color on hover, fitted */\n",
       "#sk-container-id-2 div.sk-label.fitted:hover label.sk-toggleable__label.fitted {\n",
       "  color: var(--sklearn-color-text);\n",
       "  background-color: var(--sklearn-color-fitted-level-2);\n",
       "}\n",
       "\n",
       "/* Estimator label */\n",
       "\n",
       "#sk-container-id-2 div.sk-label label {\n",
       "  font-family: monospace;\n",
       "  font-weight: bold;\n",
       "  display: inline-block;\n",
       "  line-height: 1.2em;\n",
       "}\n",
       "\n",
       "#sk-container-id-2 div.sk-label-container {\n",
       "  text-align: center;\n",
       "}\n",
       "\n",
       "/* Estimator-specific */\n",
       "#sk-container-id-2 div.sk-estimator {\n",
       "  font-family: monospace;\n",
       "  border: 1px dotted var(--sklearn-color-border-box);\n",
       "  border-radius: 0.25em;\n",
       "  box-sizing: border-box;\n",
       "  margin-bottom: 0.5em;\n",
       "  /* unfitted */\n",
       "  background-color: var(--sklearn-color-unfitted-level-0);\n",
       "}\n",
       "\n",
       "#sk-container-id-2 div.sk-estimator.fitted {\n",
       "  /* fitted */\n",
       "  background-color: var(--sklearn-color-fitted-level-0);\n",
       "}\n",
       "\n",
       "/* on hover */\n",
       "#sk-container-id-2 div.sk-estimator:hover {\n",
       "  /* unfitted */\n",
       "  background-color: var(--sklearn-color-unfitted-level-2);\n",
       "}\n",
       "\n",
       "#sk-container-id-2 div.sk-estimator.fitted:hover {\n",
       "  /* fitted */\n",
       "  background-color: var(--sklearn-color-fitted-level-2);\n",
       "}\n",
       "\n",
       "/* Specification for estimator info (e.g. \"i\" and \"?\") */\n",
       "\n",
       "/* Common style for \"i\" and \"?\" */\n",
       "\n",
       ".sk-estimator-doc-link,\n",
       "a:link.sk-estimator-doc-link,\n",
       "a:visited.sk-estimator-doc-link {\n",
       "  float: right;\n",
       "  font-size: smaller;\n",
       "  line-height: 1em;\n",
       "  font-family: monospace;\n",
       "  background-color: var(--sklearn-color-background);\n",
       "  border-radius: 1em;\n",
       "  height: 1em;\n",
       "  width: 1em;\n",
       "  text-decoration: none !important;\n",
       "  margin-left: 1ex;\n",
       "  /* unfitted */\n",
       "  border: var(--sklearn-color-unfitted-level-1) 1pt solid;\n",
       "  color: var(--sklearn-color-unfitted-level-1);\n",
       "}\n",
       "\n",
       ".sk-estimator-doc-link.fitted,\n",
       "a:link.sk-estimator-doc-link.fitted,\n",
       "a:visited.sk-estimator-doc-link.fitted {\n",
       "  /* fitted */\n",
       "  border: var(--sklearn-color-fitted-level-1) 1pt solid;\n",
       "  color: var(--sklearn-color-fitted-level-1);\n",
       "}\n",
       "\n",
       "/* On hover */\n",
       "div.sk-estimator:hover .sk-estimator-doc-link:hover,\n",
       ".sk-estimator-doc-link:hover,\n",
       "div.sk-label-container:hover .sk-estimator-doc-link:hover,\n",
       ".sk-estimator-doc-link:hover {\n",
       "  /* unfitted */\n",
       "  background-color: var(--sklearn-color-unfitted-level-3);\n",
       "  color: var(--sklearn-color-background);\n",
       "  text-decoration: none;\n",
       "}\n",
       "\n",
       "div.sk-estimator.fitted:hover .sk-estimator-doc-link.fitted:hover,\n",
       ".sk-estimator-doc-link.fitted:hover,\n",
       "div.sk-label-container:hover .sk-estimator-doc-link.fitted:hover,\n",
       ".sk-estimator-doc-link.fitted:hover {\n",
       "  /* fitted */\n",
       "  background-color: var(--sklearn-color-fitted-level-3);\n",
       "  color: var(--sklearn-color-background);\n",
       "  text-decoration: none;\n",
       "}\n",
       "\n",
       "/* Span, style for the box shown on hovering the info icon */\n",
       ".sk-estimator-doc-link span {\n",
       "  display: none;\n",
       "  z-index: 9999;\n",
       "  position: relative;\n",
       "  font-weight: normal;\n",
       "  right: .2ex;\n",
       "  padding: .5ex;\n",
       "  margin: .5ex;\n",
       "  width: min-content;\n",
       "  min-width: 20ex;\n",
       "  max-width: 50ex;\n",
       "  color: var(--sklearn-color-text);\n",
       "  box-shadow: 2pt 2pt 4pt #999;\n",
       "  /* unfitted */\n",
       "  background: var(--sklearn-color-unfitted-level-0);\n",
       "  border: .5pt solid var(--sklearn-color-unfitted-level-3);\n",
       "}\n",
       "\n",
       ".sk-estimator-doc-link.fitted span {\n",
       "  /* fitted */\n",
       "  background: var(--sklearn-color-fitted-level-0);\n",
       "  border: var(--sklearn-color-fitted-level-3);\n",
       "}\n",
       "\n",
       ".sk-estimator-doc-link:hover span {\n",
       "  display: block;\n",
       "}\n",
       "\n",
       "/* \"?\"-specific style due to the `<a>` HTML tag */\n",
       "\n",
       "#sk-container-id-2 a.estimator_doc_link {\n",
       "  float: right;\n",
       "  font-size: 1rem;\n",
       "  line-height: 1em;\n",
       "  font-family: monospace;\n",
       "  background-color: var(--sklearn-color-background);\n",
       "  border-radius: 1rem;\n",
       "  height: 1rem;\n",
       "  width: 1rem;\n",
       "  text-decoration: none;\n",
       "  /* unfitted */\n",
       "  color: var(--sklearn-color-unfitted-level-1);\n",
       "  border: var(--sklearn-color-unfitted-level-1) 1pt solid;\n",
       "}\n",
       "\n",
       "#sk-container-id-2 a.estimator_doc_link.fitted {\n",
       "  /* fitted */\n",
       "  border: var(--sklearn-color-fitted-level-1) 1pt solid;\n",
       "  color: var(--sklearn-color-fitted-level-1);\n",
       "}\n",
       "\n",
       "/* On hover */\n",
       "#sk-container-id-2 a.estimator_doc_link:hover {\n",
       "  /* unfitted */\n",
       "  background-color: var(--sklearn-color-unfitted-level-3);\n",
       "  color: var(--sklearn-color-background);\n",
       "  text-decoration: none;\n",
       "}\n",
       "\n",
       "#sk-container-id-2 a.estimator_doc_link.fitted:hover {\n",
       "  /* fitted */\n",
       "  background-color: var(--sklearn-color-fitted-level-3);\n",
       "}\n",
       "</style><div id=\"sk-container-id-2\" class=\"sk-top-container\"><div class=\"sk-text-repr-fallback\"><pre>Ridge(alpha=10)</pre><b>In a Jupyter environment, please rerun this cell to show the HTML representation or trust the notebook. <br />On GitHub, the HTML representation is unable to render, please try loading this page with nbviewer.org.</b></div><div class=\"sk-container\" hidden><div class=\"sk-item\"><div class=\"sk-estimator fitted sk-toggleable\"><input class=\"sk-toggleable__control sk-hidden--visually\" id=\"sk-estimator-id-2\" type=\"checkbox\" checked><label for=\"sk-estimator-id-2\" class=\"sk-toggleable__label fitted sk-toggleable__label-arrow fitted\">&nbsp;&nbsp;Ridge<a class=\"sk-estimator-doc-link fitted\" rel=\"noreferrer\" target=\"_blank\" href=\"https://scikit-learn.org/1.5/modules/generated/sklearn.linear_model.Ridge.html\">?<span>Documentation for Ridge</span></a><span class=\"sk-estimator-doc-link fitted\">i<span>Fitted</span></span></label><div class=\"sk-toggleable__content fitted\"><pre>Ridge(alpha=10)</pre></div> </div></div></div></div>"
      ],
      "text/plain": [
       "Ridge(alpha=10)"
      ]
     },
     "execution_count": 11,
     "metadata": {},
     "output_type": "execute_result"
    }
   ],
   "source": [
    "Rd = Ridge(alpha=10)\n",
    "Rd.fit(X_train,y_train)"
   ]
  },
  {
   "cell_type": "code",
   "execution_count": 12,
   "id": "3c8be242",
   "metadata": {
    "lc_cell_meme": {
     "current": "a4f682ea-7598-11ef-9be3-b5bbbc9eafb6",
     "execution_end_time": "2024-09-19T03:38:15.662028Z",
     "next": "a4f6846a-7598-11ef-a5f5-b5bbbc9eafb6",
     "previous": "b5c37982-7597-11ef-8ec4-b5bbbc9eafb6"
    },
    "lc_wrapper": {
     "log_history": [
      "/home/s276322x7cf08f/AIPBL/.log/20240918/20240918-173311-0373.log",
      "/home/s276322x7cf08f/AIPBL/.log/20240918/20240918-173439-0643.log",
      "/home/s276322x7cf08f/AIPBL/.log/20240918/20240918-173503-0682.log",
      "/home/s276322x7cf08f/AIPBL/.log/20240918/20240918-173915-0570.log",
      "/home/s276322x7cf08f/AIPBL/.log/20240919/20240919-115003-0054.log",
      "/home/s276322x7cf08f/AIPBL/.log/20240919/20240919-123746-0093.log"
     ]
    }
   },
   "outputs": [
    {
     "name": "stdout",
     "output_type": "stream",
     "text": [
      "番組内容を記述してください\n",
      "世界中で進行している最先端の都市計画を取り上げ、持続可能な街づくりに向けた挑戦や技術革新を紹介するドキュメンタリー。環境保護、スマートシティ、AI技術などに焦点を当てる。\n",
      "['世界中で進行している最先端の都市計画を取り上げ、持続可能な街づくりに向けた挑戦や技術革新を紹介するドキュメンタリー。環境保護、スマートシティ、AI技術などに焦点を当てる。']\n"
     ]
    }
   ],
   "source": [
    "# 架空の番組内容\n",
    "#世界中で進行している最先端の都市計画を取り上げ、持続可能な街づくりに向けた挑戦や技術革新を紹介するドキュメンタリー。環境保護、スマートシティ、AI技術などに焦点を当てる。\n",
    "#文房具好きも必見！今回のテーマは「手作りインクの世界」。市販のペンやインクでは物足りないというこだわり派に、インクを自分で作り上げる楽しみを紹介します。ゲストは、自然の植物や食品を使って独自のインクを作り続けるインクアーティストの佐藤さん。葉っぱや果物、さらには土まで、驚きの素材から美しい色を生み出す方法を実演しながら紹介します。マツコも初めて見るインクの材料に興味津々！手作りインクで書いた文字の美しさに、思わず感動の声を上げるシーンも見逃せません。色の化学反応に隠された驚きの秘密とは？\n",
    "print(\"番組内容を記述してください\")\n",
    "list_input_text = [input()]\n",
    "print(list_input_text)"
   ]
  },
  {
   "cell_type": "code",
   "execution_count": 13,
   "id": "43d8f842",
   "metadata": {
    "lc_cell_meme": {
     "current": "a4f6846a-7598-11ef-a5f5-b5bbbc9eafb6",
     "execution_end_time": "2024-09-19T03:38:15.703042Z",
     "next": "a4f684d5-7598-11ef-9003-b5bbbc9eafb6",
     "previous": "a4f682ea-7598-11ef-9be3-b5bbbc9eafb6"
    },
    "lc_wrapper": {
     "log_history": [
      "/home/s276322x7cf08f/AIPBL/.log/20240918/20240918-173334-0264.log",
      "/home/s276322x7cf08f/AIPBL/.log/20240918/20240918-173400-0045.log",
      "/home/s276322x7cf08f/AIPBL/.log/20240918/20240918-173416-0446.log",
      "/home/s276322x7cf08f/AIPBL/.log/20240918/20240918-173508-0317.log",
      "/home/s276322x7cf08f/AIPBL/.log/20240918/20240918-174024-0646.log",
      "/home/s276322x7cf08f/AIPBL/.log/20240919/20240919-123815-0688.log"
     ]
    }
   },
   "outputs": [
    {
     "name": "stdout",
     "output_type": "stream",
     "text": [
      "世界中で進行している最先端の都市計画を取り上げ、持続可能な街づくりに向けた挑戦や技術革新を紹介するドキュメンタリー。環境保護、スマートシティ、AI技術などに焦点を当てる。\n"
     ]
    }
   ],
   "source": [
    "import re\n",
    "import neologdn\n",
    "\n",
    "# '番組内容' と '出演者' 以降を削除\n",
    "def clean_description(text):\n",
    "    # '出演者' 以降を削除\n",
    "    text = re.split(r'-- 出演者 --', text)[0]\n",
    "    # '番組内容' という文字列を削除\n",
    "    text = re.sub(r'番組内容\\s*', '', text)\n",
    "    text = neologdn.normalize(text)\n",
    "    \n",
    "    return text\n",
    "\n",
    "# 各行に対してクリーンアップ処理を実行\n",
    "text = clean_description(list_input_text[0])\n",
    "print(text)\n"
   ]
  },
  {
   "cell_type": "code",
   "execution_count": 14,
   "id": "4b16824e",
   "metadata": {
    "lc_cell_meme": {
     "current": "a4f684d5-7598-11ef-9003-b5bbbc9eafb6",
     "execution_end_time": "2024-09-19T03:38:24.541296Z",
     "history": [
      {
       "current": "a4f684d5-7598-11ef-9003-b5bbbc9eafb6",
       "next": null,
       "previous": "a4f6846a-7598-11ef-a5f5-b5bbbc9eafb6"
      }
     ],
     "next": "28a215e1-759b-11ef-907b-b5bbbc9eafb6",
     "previous": "a4f6846a-7598-11ef-a5f5-b5bbbc9eafb6"
    },
    "lc_wrapper": {
     "log_history": [
      "/home/s276322x7cf08f/AIPBL/.log/20240918/20240918-173351-0400.log",
      "/home/s276322x7cf08f/AIPBL/.log/20240918/20240918-173511-0015.log",
      "/home/s276322x7cf08f/AIPBL/.log/20240918/20240918-174024-0671.log",
      "/home/s276322x7cf08f/AIPBL/.log/20240919/20240919-123815-0748.log"
     ]
    }
   },
   "outputs": [
    {
     "name": "stdout",
     "output_type": "stream",
     "text": [
      "予想の世帯視聴率 [13.55365136]\n"
     ]
    }
   ],
   "source": [
    "from sentence_transformers import SentenceTransformer\n",
    "\n",
    "embedding_model = SentenceTransformer(\"cl-nagoya/sup-simcse-ja-base\")\n",
    "\n",
    "embedding = embedding_model.encode(text)\n",
    "\n",
    "embedding = embedding.reshape(1,-1)\n",
    "pred = lr.predict(embedding)\n",
    "\n",
    "print(\"予想の世帯視聴率\",pred)"
   ]
  },
  {
   "cell_type": "markdown",
   "id": "bee25752",
   "metadata": {
    "lc_cell_meme": {
     "current": "28a215e1-759b-11ef-907b-b5bbbc9eafb6",
     "next": "28a217d9-759b-11ef-b86a-b5bbbc9eafb6",
     "previous": "a4f684d5-7598-11ef-9003-b5bbbc9eafb6"
    }
   },
   "source": [
    "##### 可視化"
   ]
  },
  {
   "cell_type": "code",
   "execution_count": 15,
   "id": "4beb8a10",
   "metadata": {
    "lc_cell_meme": {
     "current": "28a217d9-759b-11ef-b86a-b5bbbc9eafb6",
     "execution_end_time": "2024-09-19T03:38:25.094873Z",
     "history": [
      {
       "current": "28a217d9-759b-11ef-b86a-b5bbbc9eafb6",
       "next": "7029040f-759b-11ef-8b61-b5bbbc9eafb6",
       "previous": "28a215e1-759b-11ef-907b-b5bbbc9eafb6"
      }
     ],
     "next": "fd19417c-759b-11ef-8ec7-b5bbbc9eafb6",
     "previous": "28a215e1-759b-11ef-907b-b5bbbc9eafb6"
    },
    "lc_wrapper": {
     "log_history": [
      "/home/s276322x7cf08f/AIPBL/.log/20240918/20240918-175136-0876.log",
      "/home/s276322x7cf08f/AIPBL/.log/20240918/20240918-175203-0269.log",
      "/home/s276322x7cf08f/AIPBL/.log/20240918/20240918-175509-0771.log",
      "/home/s276322x7cf08f/AIPBL/.log/20240918/20240918-175537-0191.log",
      "/home/s276322x7cf08f/AIPBL/.log/20240919/20240919-123824-0565.log"
     ]
    },
    "scrolled": true
   },
   "outputs": [
    {
     "data": {
      "image/png": "[encoded data removed]",
      "text/plain": [
       "<Figure size 432x288 with 1 Axes>"
      ]
     },
     "metadata": {
      "needs_background": "light"
     },
     "output_type": "display_data"
    }
   ],
   "source": [
    "import matplotlib.pyplot as plt # 図の描画用のライブラリ\n",
    "import seaborn as sns # データ可視化ライブラリ\n",
    "\n",
    "# Jupyter notebook上に図表を表示する設定\n",
    "%matplotlib inline\n",
    "\n",
    "plt.xlabel(\"y_predict\")\n",
    "plt.ylabel(\"y_test\")\n",
    "plt.scatter(y_predict, y_test)\n",
    "plt.savefig(\"tbs_plot.png\",bbox_inches='tight')\n",
    "plt.show()"
   ]
  },
  {
   "cell_type": "code",
   "execution_count": 16,
   "id": "97b94156",
   "metadata": {
    "lc_cell_meme": {
     "current": "fd19417c-759b-11ef-8ec7-b5bbbc9eafb6",
     "execution_end_time": "2024-09-19T03:38:25.130570Z",
     "next": "7029040f-759b-11ef-8b61-b5bbbc9eafb6",
     "previous": "28a217d9-759b-11ef-b86a-b5bbbc9eafb6"
    },
    "lc_wrapper": {
     "log_history": [
      "/home/s276322x7cf08f/AIPBL/.log/20240918/20240918-175656-0856.log",
      "/home/s276322x7cf08f/AIPBL/.log/20240919/20240919-123825-0117.log"
     ]
    }
   },
   "outputs": [
    {
     "name": "stdout",
     "output_type": "stream",
     "text": [
      "0.674560715083566\n"
     ]
    }
   ],
   "source": [
    "# 相関係数を計算\n",
    "correlation_coefficient = np.corrcoef(y_predict, y_test)[0, 1]\n",
    "print(correlation_coefficient)"
   ]
  },
  {
   "cell_type": "code",
   "execution_count": 17,
   "id": "98043eb0",
   "metadata": {
    "lc_cell_meme": {
     "current": "7029040f-759b-11ef-8b61-b5bbbc9eafb6",
     "execution_end_time": "2024-09-19T03:38:25.334176Z",
     "history": [
      {
       "current": "7029040f-759b-11ef-8b61-b5bbbc9eafb6",
       "next": null,
       "previous": "28a217d9-759b-11ef-b86a-b5bbbc9eafb6"
      }
     ],
     "next": null,
     "previous": "fd19417c-759b-11ef-8ec7-b5bbbc9eafb6"
    },
    "lc_wrapper": {
     "log_history": [
      "/home/s276322x7cf08f/AIPBL/.log/20240918/20240918-175221-0840.log",
      "/home/s276322x7cf08f/AIPBL/.log/20240919/20240919-123825-0150.log"
     ]
    }
   },
   "outputs": [
    {
     "data": {
      "image/png": "[encoded data removed]",
      "text/plain": [
       "<Figure size 720x432 with 1 Axes>"
      ]
     },
     "metadata": {
      "needs_background": "light"
     },
     "output_type": "display_data"
    }
   ],
   "source": [
    "predicts = [[pre , pre - y_t ] for pre , y_t  in zip(y_predict , y_test)]    # 予測値との差を作成，pythonっぽい書き方\n",
    "data_x = [p[0] for p in predicts]\n",
    "data_y = [p[1] for p in predicts]\n",
    "\n",
    "plt.figure(figsize=(10,6))\n",
    "cm1 = [ 1 if c<0 else c for c in  data_y ]\n",
    "plt.scatter(data_x , data_y , c=cm1, cmap='Reds')\n",
    "plt.plot([0, 20], [0, 0],color=\"green\")\n",
    "plt.xlabel('Predict')\n",
    "plt.ylabel('Diff')\n",
    "plt.show()"
   ]
  }
 ],
 "metadata": {
  "kernelspec": {
   "display_name": "01 Python 3",
   "language": "python",
   "name": "python3"
  },
  "language_info": {
   "file_extension": ".py",
   "mimetype": "text/x-python",
   "name": "python",
   "nbconvert_exporter": "python",
   "pygments_lexer": "ipython3",
   "version": "3.9.2"
  },
  "lc_notebook_meme": {
   "current": "f06cdb1c-7591-11ef-8143-b5bbbc9eafb6",
   "lc_server_signature": {
    "current": {
     "notebook_dir": "/home/s276322x7cf08f",
     "notebook_path": "/AIPBL",
     "server_url": "https://jupyter.center.wakayama-u.ac.jp/user/s276322x7cf08f/",
     "signature_id": "fcc837fe-70b2-11ef-8aa6-e93e2f76df2d"
    },
    "history": []
   }
  },
  "toc": {
   "base_numbering": 1,
   "nav_menu": {},
   "number_sections": true,
   "sideBar": true,
   "skip_h1_title": false,
   "title_cell": "Table of Contents",
   "title_sidebar": "Contents",
   "toc_cell": false,
   "toc_position": {},
   "toc_section_display": true,
   "toc_window_display": false
  }
 },
 "nbformat": 4,
 "nbformat_minor": 5
}
