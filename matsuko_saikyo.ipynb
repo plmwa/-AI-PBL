{
 "cells": [
  {
   "cell_type": "markdown",
   "id": "889ec1ce",
   "metadata": {
    "lc_cell_meme": {
     "current": "950f2c43-7583-11ef-a15b-b5bbbc9eafb6-1-9c25",
     "history": [
      {
       "current": "950f2c43-7583-11ef-a15b-b5bbbc9eafb6-1-9c25",
       "next": null,
       "previous": null
      }
     ],
     "next": "6b1404c4-7584-11ef-b6be-b5bbbc9eafb6",
     "previous": null
    }
   },
   "source": [
    "### 前準備"
   ]
  },
  {
   "cell_type": "code",
   "execution_count": 1,
   "id": "f9f47980",
   "metadata": {
    "lc_cell_meme": {
     "current": "6b1404c4-7584-11ef-b6be-b5bbbc9eafb6",
     "execution_end_time": "2024-09-19T03:29:09.860148Z",
     "next": "6b1406a8-7584-11ef-8d66-b5bbbc9eafb6",
     "previous": "950f2c43-7583-11ef-a15b-b5bbbc9eafb6-1-9c25"
    },
    "lc_wrapper": {
     "log_history": [
      "/home/s276322x7cf08f/AIPBL/.log/20240918/20240918-150848-0347.log",
      "/home/s276322x7cf08f/AIPBL/.log/20240919/20240919-113625-0304.log",
      "/home/s276322x7cf08f/AIPBL/.log/20240919/20240919-122151-0946.log",
      "/home/s276322x7cf08f/AIPBL/.log/20240919/20240919-122908-0678.log"
     ]
    }
   },
   "outputs": [],
   "source": [
    "import sklearn\n",
    "import warnings\n",
    "warnings.simplefilter('ignore')\n",
    "\n",
    "import pandas as pd # データ分析用のライブラリ\n",
    "import numpy as np  # 数値計算用のライブラリ\n",
    "import matplotlib.pyplot as plt # 図の描画用のライブラリ\n",
    "import seaborn as sns # データ可視化ライブラリ\n",
    "\n",
    "%matplotlib inline\n",
    "dir_name = '/opt/local/lectures/yoshino/share/dentsu2024/' # 今回はここに入っています\n",
    "\n",
    "# 視聴率データ\n",
    "file1_path = dir_name + 'rate_kanto.tsv'\n",
    "file2_path = dir_name + 'rate_nagoya.tsv'\n",
    "file3_path = dir_name + 'rate_kansai.tsv'\n",
    "\n",
    "# 電子番組表データ\n",
    "file4_path = dir_name + 'EPG_kanto.tsv'\n",
    "file5_path = dir_name + 'EPG_nagoya.tsv'\n",
    "file6_path = dir_name + 'EPG_kansai.tsv'"
   ]
  },
  {
   "cell_type": "code",
   "execution_count": 2,
   "id": "d10b6de3",
   "metadata": {
    "lc_cell_meme": {
     "current": "6b1406a8-7584-11ef-8d66-b5bbbc9eafb6",
     "execution_end_time": "2024-09-19T03:29:31.544842Z",
     "next": "6b14076b-7584-11ef-9118-b5bbbc9eafb6",
     "previous": "6b1404c4-7584-11ef-b6be-b5bbbc9eafb6"
    },
    "lc_wrapper": {
     "log_history": [
      "/home/s276322x7cf08f/AIPBL/.log/20240918/20240918-150854-0064.log",
      "/home/s276322x7cf08f/AIPBL/.log/20240919/20240919-113626-0531.log",
      "/home/s276322x7cf08f/AIPBL/.log/20240919/20240919-122153-0112.log",
      "/home/s276322x7cf08f/AIPBL/.log/20240919/20240919-122909-0887.log"
     ]
    }
   },
   "outputs": [],
   "source": [
    "df_rate_kanto = pd.read_table(file1_path)\n",
    "df_rate_nagoya = pd.read_table(file2_path)\n",
    "df_rate_kansai = pd.read_table(file3_path)\n",
    "df_EPG_kanto = pd.read_table(file4_path)\n",
    "df_EPG_nagoya = pd.read_table(file5_path)\n",
    "df_EPG_kansai = pd.read_table(file6_path)"
   ]
  },
  {
   "cell_type": "code",
   "execution_count": 3,
   "id": "7c6e3fd1",
   "metadata": {
    "lc_cell_meme": {
     "current": "6b14076b-7584-11ef-9118-b5bbbc9eafb6",
     "execution_end_time": "2024-09-19T03:29:32.006239Z",
     "next": "6b140807-7584-11ef-b281-b5bbbc9eafb6",
     "previous": "6b1406a8-7584-11ef-8d66-b5bbbc9eafb6"
    },
    "lc_wrapper": {
     "log_history": [
      "/home/s276322x7cf08f/AIPBL/.log/20240918/20240918-150919-0453.log",
      "/home/s276322x7cf08f/AIPBL/.log/20240919/20240919-113648-0735.log",
      "/home/s276322x7cf08f/AIPBL/.log/20240919/20240919-122213-0717.log",
      "/home/s276322x7cf08f/AIPBL/.log/20240919/20240919-122931-0568.log"
     ]
    }
   },
   "outputs": [],
   "source": [
    "df_rate_kanto['broadcast_start_date_new'] = pd.to_datetime(df_rate_kanto['broadcast_start_date'])\n",
    "df_rate_nagoya['broadcast_start_date_new'] = pd.to_datetime(df_rate_nagoya['broadcast_start_date'])\n",
    "df_rate_kansai['broadcast_start_date_new'] = pd.to_datetime(df_rate_kansai['broadcast_start_date'])"
   ]
  },
  {
   "cell_type": "code",
   "execution_count": 4,
   "id": "93f0e7c8",
   "metadata": {
    "lc_cell_meme": {
     "current": "6b140807-7584-11ef-b281-b5bbbc9eafb6",
     "execution_end_time": "2024-09-19T03:29:32.311001Z",
     "next": "6b14088c-7584-11ef-a5ec-b5bbbc9eafb6",
     "previous": "6b14076b-7584-11ef-9118-b5bbbc9eafb6"
    },
    "lc_wrapper": {
     "log_history": [
      "/home/s276322x7cf08f/AIPBL/.log/20240918/20240918-150928-0009.log",
      "/home/s276322x7cf08f/AIPBL/.log/20240919/20240919-113649-0190.log",
      "/home/s276322x7cf08f/AIPBL/.log/20240919/20240919-122214-0175.log",
      "/home/s276322x7cf08f/AIPBL/.log/20240919/20240919-122932-0028.log"
     ]
    }
   },
   "outputs": [],
   "source": [
    "# 番組開始の年月日と時間、曜日を抽出\n",
    "for i in [df_rate_kanto,df_rate_nagoya,df_rate_kansai]:\n",
    "    i['year'] = i['broadcast_start_date_new'].dt.year\n",
    "    i['month'] = i['broadcast_start_date_new'].dt.month\n",
    "    i['day'] = i['broadcast_start_date_new'].dt.day\n",
    "    i['hour'] = i['broadcast_start_date_new'].dt.hour\n",
    "    i[\"minute\"] = i[\"broadcast_start_date_new\"].dt.minute\n",
    "    i['dayofweek'] = i['broadcast_start_date_new'].dt.dayofweek"
   ]
  },
  {
   "cell_type": "code",
   "execution_count": 5,
   "id": "56b4ff15",
   "metadata": {
    "lc_cell_meme": {
     "current": "6b14088c-7584-11ef-a5ec-b5bbbc9eafb6",
     "execution_end_time": "2024-09-19T03:29:33.342283Z",
     "next": "6b14090a-7584-11ef-a481-b5bbbc9eafb6",
     "previous": "6b140807-7584-11ef-b281-b5bbbc9eafb6"
    },
    "lc_wrapper": {
     "log_history": [
      "/home/s276322x7cf08f/AIPBL/.log/20240918/20240918-150933-0203.log",
      "/home/s276322x7cf08f/AIPBL/.log/20240919/20240919-113649-0488.log",
      "/home/s276322x7cf08f/AIPBL/.log/20240919/20240919-122214-0634.log",
      "/home/s276322x7cf08f/AIPBL/.log/20240919/20240919-122932-0333.log"
     ]
    }
   },
   "outputs": [],
   "source": [
    "df_rate_kanto['broadcast_end_date_new'] = pd.to_datetime(df_rate_kanto['broadcast_end_date'])\n",
    "df_rate_nagoya['broadcast_end_date_new'] = pd.to_datetime(df_rate_nagoya['broadcast_end_date'])\n",
    "df_rate_kansai['broadcast_end_date_new'] = pd.to_datetime(df_rate_kansai['broadcast_end_date'])\n",
    "# 番組開始の年月日と時間、曜日を抽出\n",
    "for i in [df_rate_kanto,df_rate_nagoya,df_rate_kansai]:\n",
    "    i['end_year'] = i['broadcast_end_date_new'].dt.year\n",
    "    i['end_month'] = i['broadcast_end_date_new'].dt.month\n",
    "    i['end_day'] = i['broadcast_end_date_new'].dt.day\n",
    "    i['end_hour'] = i['broadcast_end_date_new'].dt.hour\n",
    "    i[\"end_minute\"] = i[\"broadcast_end_date_new\"].dt.minute\n",
    "    i['end_dayofweek'] = i['broadcast_end_date_new'].dt.dayofweek"
   ]
  },
  {
   "cell_type": "code",
   "execution_count": 6,
   "id": "80da1c36",
   "metadata": {
    "lc_cell_meme": {
     "current": "6b14090a-7584-11ef-a481-b5bbbc9eafb6",
     "execution_end_time": "2024-09-19T03:29:33.960023Z",
     "next": "6b140987-7584-11ef-ba87-b5bbbc9eafb6",
     "previous": "6b14088c-7584-11ef-a5ec-b5bbbc9eafb6"
    },
    "lc_wrapper": {
     "log_history": [
      "/home/s276322x7cf08f/AIPBL/.log/20240918/20240918-150943-0762.log",
      "/home/s276322x7cf08f/AIPBL/.log/20240919/20240919-113650-0220.log",
      "/home/s276322x7cf08f/AIPBL/.log/20240919/20240919-122215-0372.log",
      "/home/s276322x7cf08f/AIPBL/.log/20240919/20240919-122933-0366.log"
     ]
    }
   },
   "outputs": [],
   "source": [
    "#ヒートマップ用の配列作成\n",
    "heat_week = []\n",
    "for j in range(24):\n",
    "    heat_hour = [] #曜日別各時間の視聴率の配列を時間ごとに初期化\n",
    "    for i in range(7):\n",
    "        heat_hour.append(df_rate_kanto['setai'][df_rate_kanto['dayofweek']==i][df_rate_kanto['hour']==j].mean())\n",
    "        #曜日時間別視聴率の平均の取得\n",
    "    heat_week.append(heat_hour)"
   ]
  },
  {
   "cell_type": "code",
   "execution_count": 7,
   "id": "df02f331",
   "metadata": {
    "lc_cell_meme": {
     "current": "6b140987-7584-11ef-ba87-b5bbbc9eafb6",
     "execution_end_time": "2024-09-19T03:29:34.268281Z",
     "next": "6b140a04-7584-11ef-9c7f-b5bbbc9eafb6",
     "previous": "6b14090a-7584-11ef-a481-b5bbbc9eafb6"
    },
    "lc_wrapper": {
     "log_history": [
      "/home/s276322x7cf08f/AIPBL/.log/20240918/20240918-150948-0515.log",
      "/home/s276322x7cf08f/AIPBL/.log/20240919/20240919-113650-0708.log",
      "/home/s276322x7cf08f/AIPBL/.log/20240919/20240919-122215-0967.log",
      "/home/s276322x7cf08f/AIPBL/.log/20240919/20240919-122933-0982.log"
     ]
    }
   },
   "outputs": [],
   "source": [
    "nhk = df_rate_kanto[df_rate_kanto['media'].str.contains('NHK総合')]"
   ]
  },
  {
   "cell_type": "code",
   "execution_count": 8,
   "id": "35249cba",
   "metadata": {
    "lc_cell_meme": {
     "current": "6b140a04-7584-11ef-9c7f-b5bbbc9eafb6",
     "execution_end_time": "2024-09-19T03:29:35.058792Z",
     "next": "6b140a7c-7584-11ef-8005-b5bbbc9eafb6",
     "previous": "6b140987-7584-11ef-ba87-b5bbbc9eafb6"
    },
    "lc_wrapper": {
     "log_history": [
      "/home/s276322x7cf08f/AIPBL/.log/20240918/20240918-150953-0244.log",
      "/home/s276322x7cf08f/AIPBL/.log/20240919/20240919-113650-0942.log",
      "/home/s276322x7cf08f/AIPBL/.log/20240919/20240919-122216-0332.log",
      "/home/s276322x7cf08f/AIPBL/.log/20240919/20240919-122934-0292.log"
     ]
    }
   },
   "outputs": [],
   "source": [
    "ntv = df_rate_kanto[df_rate_kanto['media'].str.contains('日本テレビ')]\n",
    "ex = df_rate_kanto[df_rate_kanto['media'].str.contains('テレビ朝日')]\n",
    "tx = df_rate_kanto[df_rate_kanto['media'].str.contains('テレビ東京')]\n",
    "cx = df_rate_kanto[df_rate_kanto['media'].str.contains('フジテレビ')]\n",
    "tbs = df_rate_kanto[df_rate_kanto['media'].str.contains('TBS')]"
   ]
  },
  {
   "cell_type": "code",
   "execution_count": 9,
   "id": "1a086f73",
   "metadata": {
    "lc_cell_meme": {
     "current": "6b140a7c-7584-11ef-8005-b5bbbc9eafb6",
     "execution_end_time": "2024-09-19T03:29:35.133133Z",
     "history": [
      {
       "current": "6b140a7c-7584-11ef-8005-b5bbbc9eafb6",
       "next": "6b140b03-7584-11ef-a427-b5bbbc9eafb6",
       "previous": "6b140a04-7584-11ef-9c7f-b5bbbc9eafb6"
      }
     ],
     "next": "6b140b03-7584-11ef-a427-b5bbbc9eafb6-1-7617",
     "previous": "6b140a04-7584-11ef-9c7f-b5bbbc9eafb6"
    },
    "lc_wrapper": {
     "log_history": [
      "/home/s276322x7cf08f/AIPBL/.log/20240918/20240918-151000-0484.log",
      "/home/s276322x7cf08f/AIPBL/.log/20240919/20240919-113651-0678.log",
      "/home/s276322x7cf08f/AIPBL/.log/20240919/20240919-122217-0405.log",
      "/home/s276322x7cf08f/AIPBL/.log/20240919/20240919-122935-0084.log"
     ]
    }
   },
   "outputs": [],
   "source": [
    "#マツコ 20:57~22:00のデータ抽出\n",
    "matsuko_gen_kanto=tbs[tbs['dayofweek']==1][tbs['hour']==20][tbs[\"minute\"]==57][tbs[\"end_hour\"]==22][tbs[\"end_minute\"]==0][tbs[\"title\"].str.contains(\"マツコ\")]"
   ]
  },
  {
   "cell_type": "markdown",
   "id": "0cc2428e",
   "metadata": {
    "lc_cell_meme": {
     "current": "6b140b03-7584-11ef-a427-b5bbbc9eafb6-1-7617",
     "history": [
      {
       "current": "6b140b03-7584-11ef-a427-b5bbbc9eafb6-1-7617",
       "next": "6b140b7a-7584-11ef-a731-b5bbbc9eafb6",
       "previous": "6b140a7c-7584-11ef-8005-b5bbbc9eafb6"
      }
     ],
     "next": "b297b989-7584-11ef-a395-b5bbbc9eafb6",
     "previous": "6b140a7c-7584-11ef-8005-b5bbbc9eafb6"
    }
   },
   "source": [
    "### 電子とがっちゃんこ"
   ]
  },
  {
   "cell_type": "code",
   "execution_count": 10,
   "id": "56daff86",
   "metadata": {
    "lc_cell_meme": {
     "current": "b297b989-7584-11ef-a395-b5bbbc9eafb6",
     "execution_end_time": "2024-09-19T03:29:35.390713Z",
     "next": "b297bacd-7584-11ef-9d3e-b5bbbc9eafb6",
     "previous": "6b140b03-7584-11ef-a427-b5bbbc9eafb6-1-7617"
    },
    "lc_wrapper": {
     "log_history": [
      "/home/s276322x7cf08f/AIPBL/.log/20240918/20240918-151026-0128.log",
      "/home/s276322x7cf08f/AIPBL/.log/20240919/20240919-113651-0742.log",
      "/home/s276322x7cf08f/AIPBL/.log/20240919/20240919-122217-0497.log",
      "/home/s276322x7cf08f/AIPBL/.log/20240919/20240919-122935-0154.log"
     ]
    }
   },
   "outputs": [
    {
     "data": {
      "text/html": [
       "<div>\n",
       "<style scoped>\n",
       "    .dataframe tbody tr th:only-of-type {\n",
       "        vertical-align: middle;\n",
       "    }\n",
       "\n",
       "    .dataframe tbody tr th {\n",
       "        vertical-align: top;\n",
       "    }\n",
       "\n",
       "    .dataframe thead th {\n",
       "        text-align: right;\n",
       "    }\n",
       "</style>\n",
       "<table border=\"1\" class=\"dataframe\">\n",
       "  <thead>\n",
       "    <tr style=\"text-align: right;\">\n",
       "      <th></th>\n",
       "      <th>id</th>\n",
       "      <th>sub_id</th>\n",
       "      <th>broadcast_start_date</th>\n",
       "      <th>broadcast_end_date</th>\n",
       "      <th>media</th>\n",
       "      <th>title</th>\n",
       "      <th>setai</th>\n",
       "      <th>kozin</th>\n",
       "      <th>child</th>\n",
       "      <th>teen</th>\n",
       "      <th>...</th>\n",
       "      <th>dayofweek</th>\n",
       "      <th>broadcast_end_date_new</th>\n",
       "      <th>end_year</th>\n",
       "      <th>end_month</th>\n",
       "      <th>end_day</th>\n",
       "      <th>end_hour</th>\n",
       "      <th>end_minute</th>\n",
       "      <th>end_dayofweek</th>\n",
       "      <th>synopsis</th>\n",
       "      <th>description</th>\n",
       "    </tr>\n",
       "  </thead>\n",
       "  <tbody>\n",
       "    <tr>\n",
       "      <th>0</th>\n",
       "      <td>2018011604205700</td>\n",
       "      <td>0</td>\n",
       "      <td>2018-01-16 20:57:00</td>\n",
       "      <td>2018-01-16 22:00:00</td>\n",
       "      <td>TBS</td>\n",
       "      <td>マツコの知らない世界[字]【街の名店デリバリー&amp;梅干し!大物2世熱弁もマツコ唖然】</td>\n",
       "      <td>12.903175</td>\n",
       "      <td>7.780952</td>\n",
       "      <td>7.106349</td>\n",
       "      <td>7.141270</td>\n",
       "      <td>...</td>\n",
       "      <td>1</td>\n",
       "      <td>2018-01-16 22:00:00</td>\n",
       "      <td>2018</td>\n",
       "      <td>1</td>\n",
       "      <td>16</td>\n",
       "      <td>22</td>\n",
       "      <td>0</td>\n",
       "      <td>1</td>\n",
       "      <td>大手だけじゃない!街の名店デリバリーグルメ!マツコ感動爆食い▼梅干の世界!1000年の歴史を...</td>\n",
       "      <td>番組内容 -- ▼デリバリーグルメの世界第2弾!今回は個人店デリバリー…オーダーして○○分で...</td>\n",
       "    </tr>\n",
       "    <tr>\n",
       "      <th>1</th>\n",
       "      <td>2018012304205700</td>\n",
       "      <td>0</td>\n",
       "      <td>2018-01-23 20:57:00</td>\n",
       "      <td>2018-01-23 22:00:00</td>\n",
       "      <td>TBS</td>\n",
       "      <td>マツコの知らない世界[字]【みかんの世界&amp;プラレール旅行の世界】</td>\n",
       "      <td>11.698413</td>\n",
       "      <td>7.542857</td>\n",
       "      <td>5.677778</td>\n",
       "      <td>8.606349</td>\n",
       "      <td>...</td>\n",
       "      <td>1</td>\n",
       "      <td>2018-01-23 22:00:00</td>\n",
       "      <td>2018</td>\n",
       "      <td>1</td>\n",
       "      <td>23</td>\n",
       "      <td>22</td>\n",
       "      <td>0</td>\n",
       "      <td>1</td>\n",
       "      <td>みかんの世界!全国のみかん農家をめぐる東大生登場!▼プラレール旅行の世界!プラレールで作った...</td>\n",
       "      <td>番組内容 -- シーズン到来!みかんの世界!全国のみかん農家を巡る東大生が偏差値75の絶品み...</td>\n",
       "    </tr>\n",
       "    <tr>\n",
       "      <th>2</th>\n",
       "      <td>2018013004205700</td>\n",
       "      <td>0</td>\n",
       "      <td>2018-01-30 20:57:00</td>\n",
       "      <td>2018-01-30 22:00:00</td>\n",
       "      <td>TBS</td>\n",
       "      <td>マツコの知らない世界[字]【日本茶の世界&amp;奥深い紙袋の世界】</td>\n",
       "      <td>12.068254</td>\n",
       "      <td>6.539683</td>\n",
       "      <td>3.985714</td>\n",
       "      <td>3.600000</td>\n",
       "      <td>...</td>\n",
       "      <td>1</td>\n",
       "      <td>2018-01-30 22:00:00</td>\n",
       "      <td>2018</td>\n",
       "      <td>1</td>\n",
       "      <td>30</td>\n",
       "      <td>22</td>\n",
       "      <td>0</td>\n",
       "      <td>1</td>\n",
       "      <td>日本にたった13人!日本茶界を牽引する茶師が厳選…激ウマ茶!今、ブームは九州？▼紙袋の世界!...</td>\n",
       "      <td>番組内容 -- 今世界で大ブーム!日本茶の世界!日本にたった13人!日本茶界を牽引する茶師十...</td>\n",
       "    </tr>\n",
       "    <tr>\n",
       "      <th>3</th>\n",
       "      <td>2018020604205700</td>\n",
       "      <td>0</td>\n",
       "      <td>2018-02-06 20:57:00</td>\n",
       "      <td>2018-02-06 22:00:00</td>\n",
       "      <td>TBS</td>\n",
       "      <td>マツコの知らない世界[字]【寒い冬にほっこり!おうちコーヒーの世界&amp;片手袋の世界】</td>\n",
       "      <td>13.087302</td>\n",
       "      <td>7.373016</td>\n",
       "      <td>3.369841</td>\n",
       "      <td>6.217460</td>\n",
       "      <td>...</td>\n",
       "      <td>1</td>\n",
       "      <td>2018-02-06 22:00:00</td>\n",
       "      <td>2018</td>\n",
       "      <td>2</td>\n",
       "      <td>6</td>\n",
       "      <td>22</td>\n",
       "      <td>0</td>\n",
       "      <td>1</td>\n",
       "      <td>おうちコーヒーの世界!世界一の焙煎士が登場!喫茶店やカフェに行かなくてもおうちでおいしいコー...</td>\n",
       "      <td>番組内容 -- 寒い冬にほっこり!冬を楽しむ二本立て▼おうちコーヒーの世界!カフェや喫茶店に...</td>\n",
       "    </tr>\n",
       "    <tr>\n",
       "      <th>4</th>\n",
       "      <td>2018021304205700</td>\n",
       "      <td>0</td>\n",
       "      <td>2018-02-13 20:57:00</td>\n",
       "      <td>2018-02-13 22:00:00</td>\n",
       "      <td>TBS</td>\n",
       "      <td>マツコの知らない世界[字]【最強の麺類!ちゃんぽんの世界&amp;劇的進化!公園遊具の世界】</td>\n",
       "      <td>10.842857</td>\n",
       "      <td>6.477778</td>\n",
       "      <td>6.938095</td>\n",
       "      <td>3.561905</td>\n",
       "      <td>...</td>\n",
       "      <td>1</td>\n",
       "      <td>2018-02-13 22:00:00</td>\n",
       "      <td>2018</td>\n",
       "      <td>2</td>\n",
       "      <td>13</td>\n",
       "      <td>22</td>\n",
       "      <td>0</td>\n",
       "      <td>1</td>\n",
       "      <td>麺類のチャンピオン!ちゃんぽんの世界!長崎だけじゃない!全国厳選8店&amp;取材NG…幻の名店大公...</td>\n",
       "      <td>番組内容 -- 最強の麺類!ちゃんぽんの世界!誰よりもちゃんぽんを愛するちゃんぽん番長が絶品...</td>\n",
       "    </tr>\n",
       "  </tbody>\n",
       "</table>\n",
       "<p>5 rows × 32 columns</p>\n",
       "</div>"
      ],
      "text/plain": [
       "                 id  sub_id broadcast_start_date   broadcast_end_date media  \\\n",
       "0  2018011604205700       0  2018-01-16 20:57:00  2018-01-16 22:00:00   TBS   \n",
       "1  2018012304205700       0  2018-01-23 20:57:00  2018-01-23 22:00:00   TBS   \n",
       "2  2018013004205700       0  2018-01-30 20:57:00  2018-01-30 22:00:00   TBS   \n",
       "3  2018020604205700       0  2018-02-06 20:57:00  2018-02-06 22:00:00   TBS   \n",
       "4  2018021304205700       0  2018-02-13 20:57:00  2018-02-13 22:00:00   TBS   \n",
       "\n",
       "                                        title      setai     kozin     child  \\\n",
       "0   マツコの知らない世界[字]【街の名店デリバリー&梅干し!大物2世熱弁もマツコ唖然】  12.903175  7.780952  7.106349   \n",
       "1            マツコの知らない世界[字]【みかんの世界&プラレール旅行の世界】  11.698413  7.542857  5.677778   \n",
       "2              マツコの知らない世界[字]【日本茶の世界&奥深い紙袋の世界】  12.068254  6.539683  3.985714   \n",
       "3   マツコの知らない世界[字]【寒い冬にほっこり!おうちコーヒーの世界&片手袋の世界】  13.087302  7.373016  3.369841   \n",
       "4  マツコの知らない世界[字]【最強の麺類!ちゃんぽんの世界&劇的進化!公園遊具の世界】  10.842857  6.477778  6.938095   \n",
       "\n",
       "       teen  ...  dayofweek  broadcast_end_date_new  end_year  end_month  \\\n",
       "0  7.141270  ...          1     2018-01-16 22:00:00      2018          1   \n",
       "1  8.606349  ...          1     2018-01-23 22:00:00      2018          1   \n",
       "2  3.600000  ...          1     2018-01-30 22:00:00      2018          1   \n",
       "3  6.217460  ...          1     2018-02-06 22:00:00      2018          2   \n",
       "4  3.561905  ...          1     2018-02-13 22:00:00      2018          2   \n",
       "\n",
       "   end_day  end_hour end_minute  end_dayofweek  \\\n",
       "0       16        22          0              1   \n",
       "1       23        22          0              1   \n",
       "2       30        22          0              1   \n",
       "3        6        22          0              1   \n",
       "4       13        22          0              1   \n",
       "\n",
       "                                            synopsis  \\\n",
       "0  大手だけじゃない!街の名店デリバリーグルメ!マツコ感動爆食い▼梅干の世界!1000年の歴史を...   \n",
       "1  みかんの世界!全国のみかん農家をめぐる東大生登場!▼プラレール旅行の世界!プラレールで作った...   \n",
       "2  日本にたった13人!日本茶界を牽引する茶師が厳選…激ウマ茶!今、ブームは九州？▼紙袋の世界!...   \n",
       "3  おうちコーヒーの世界!世界一の焙煎士が登場!喫茶店やカフェに行かなくてもおうちでおいしいコー...   \n",
       "4  麺類のチャンピオン!ちゃんぽんの世界!長崎だけじゃない!全国厳選8店&取材NG…幻の名店大公...   \n",
       "\n",
       "                                         description  \n",
       "0  番組内容 -- ▼デリバリーグルメの世界第2弾!今回は個人店デリバリー…オーダーして○○分で...  \n",
       "1  番組内容 -- シーズン到来!みかんの世界!全国のみかん農家を巡る東大生が偏差値75の絶品み...  \n",
       "2  番組内容 -- 今世界で大ブーム!日本茶の世界!日本にたった13人!日本茶界を牽引する茶師十...  \n",
       "3  番組内容 -- 寒い冬にほっこり!冬を楽しむ二本立て▼おうちコーヒーの世界!カフェや喫茶店に...  \n",
       "4  番組内容 -- 最強の麺類!ちゃんぽんの世界!誰よりもちゃんぽんを愛するちゃんぽん番長が絶品...  \n",
       "\n",
       "[5 rows x 32 columns]"
      ]
     },
     "execution_count": 10,
     "metadata": {},
     "output_type": "execute_result"
    }
   ],
   "source": [
    "# マージしたい列（'id', 'synopsis', 'description'）を選択して結合\n",
    "matsuko_gen_kanto = pd.merge(\n",
    "    matsuko_gen_kanto, \n",
    "    df_EPG_kanto[['id', 'synopsis', 'description']],  # 必要な列のみ選択\n",
    "    on='id',  # 'id'列を基準にマージ\n",
    "    how='left'  # 'left'結合でmatsuko_genの全ての行を保持\n",
    ")\n",
    "\n",
    "# 結果の確認\n",
    "matsuko_gen_kanto.head()\n"
   ]
  },
  {
   "cell_type": "code",
   "execution_count": 11,
   "id": "310c0a40",
   "metadata": {
    "lc_cell_meme": {
     "current": "b297bacd-7584-11ef-9d3e-b5bbbc9eafb6",
     "execution_end_time": "2024-09-19T03:29:35.428974Z",
     "history": [
      {
       "current": "b297bacd-7584-11ef-9d3e-b5bbbc9eafb6",
       "next": "b297bb3e-7584-11ef-8852-b5bbbc9eafb6",
       "previous": "b297b989-7584-11ef-a395-b5bbbc9eafb6"
      }
     ],
     "next": "b297bb3e-7584-11ef-8852-b5bbbc9eafb6-1-a384",
     "previous": "b297b989-7584-11ef-a395-b5bbbc9eafb6"
    },
    "lc_wrapper": {
     "log_history": [
      "/home/s276322x7cf08f/AIPBL/.log/20240918/20240918-151033-0103.log",
      "/home/s276322x7cf08f/AIPBL/.log/20240919/20240919-113652-0000.log",
      "/home/s276322x7cf08f/AIPBL/.log/20240919/20240919-122217-0889.log",
      "/home/s276322x7cf08f/AIPBL/.log/20240919/20240919-122935-0417.log"
     ]
    }
   },
   "outputs": [
    {
     "data": {
      "text/plain": [
       "177"
      ]
     },
     "execution_count": 11,
     "metadata": {},
     "output_type": "execute_result"
    }
   ],
   "source": [
    "len(matsuko_gen_kanto)"
   ]
  },
  {
   "cell_type": "markdown",
   "id": "5a3f1d92",
   "metadata": {
    "lc_cell_meme": {
     "current": "b297bb3e-7584-11ef-8852-b5bbbc9eafb6-1-a384",
     "next": "b297bb95-7584-11ef-852e-b5bbbc9eafb6",
     "previous": "b297bacd-7584-11ef-9d3e-b5bbbc9eafb6"
    }
   },
   "source": [
    "### ベクトル化"
   ]
  },
  {
   "cell_type": "code",
   "execution_count": 12,
   "id": "e0fa4448",
   "metadata": {
    "lc_cell_meme": {
     "current": "b297bb95-7584-11ef-852e-b5bbbc9eafb6",
     "execution_end_time": "2024-09-19T03:30:01.307172Z",
     "history": [
      {
       "current": "b297bb95-7584-11ef-852e-b5bbbc9eafb6",
       "next": "6b140b7a-7584-11ef-a731-b5bbbc9eafb6",
       "previous": "b297bb3e-7584-11ef-8852-b5bbbc9eafb6"
      }
     ],
     "next": "6b140b7a-7584-11ef-a731-b5bbbc9eafb6",
     "previous": "b297bb3e-7584-11ef-8852-b5bbbc9eafb6-1-a384"
    },
    "lc_wrapper": {
     "log_history": [
      "/home/s276322x7cf08f/AIPBL/.log/20240918/20240918-151056-0773.log",
      "/home/s276322x7cf08f/AIPBL/.log/20240919/20240919-113652-0028.log",
      "/home/s276322x7cf08f/AIPBL/.log/20240919/20240919-121653-0974.log",
      "/home/s276322x7cf08f/AIPBL/.log/20240919/20240919-121759-0559.log",
      "/home/s276322x7cf08f/AIPBL/.log/20240919/20240919-122217-0927.log",
      "/home/s276322x7cf08f/AIPBL/.log/20240919/20240919-122935-0451.log"
     ]
    }
   },
   "outputs": [
    {
     "name": "stdout",
     "output_type": "stream",
     "text": [
      "Requirement already satisfied: tqdm in /opt/conda/lib/python3.9/site-packages (4.66.5)\n",
      "Requirement already satisfied: sentence-transformers in /home/s276322x7cf08f/.local/lib/python3.9/site-packages (3.1.0)\n",
      "Requirement already satisfied: huggingface-hub>=0.19.3 in /home/s276322x7cf08f/.local/lib/python3.9/site-packages (from sentence-transformers) (0.24.7)\n",
      "Requirement already satisfied: tqdm in /opt/conda/lib/python3.9/site-packages (from sentence-transformers) (4.66.5)\n",
      "Requirement already satisfied: scikit-learn in /home/s276322x7cf08f/.local/lib/python3.9/site-packages (from sentence-transformers) (1.5.2)\n",
      "Requirement already satisfied: scipy in /opt/conda/lib/python3.9/site-packages (from sentence-transformers) (1.6.3)\n",
      "Requirement already satisfied: Pillow in /opt/conda/lib/python3.9/site-packages (from sentence-transformers) (8.1.2)\n",
      "Requirement already satisfied: transformers<5.0.0,>=4.38.0 in /home/s276322x7cf08f/.local/lib/python3.9/site-packages (from sentence-transformers) (4.44.2)\n",
      "Requirement already satisfied: torch>=1.11.0 in /home/s276322x7cf08f/.local/lib/python3.9/site-packages (from sentence-transformers) (2.4.1)\n",
      "Requirement already satisfied: numpy<2.0.0 in /opt/conda/lib/python3.9/site-packages (from sentence-transformers) (1.20.2)\n",
      "Requirement already satisfied: requests in /opt/conda/lib/python3.9/site-packages (from huggingface-hub>=0.19.3->sentence-transformers) (2.25.1)\n",
      "Requirement already satisfied: packaging>=20.9 in /opt/conda/lib/python3.9/site-packages (from huggingface-hub>=0.19.3->sentence-transformers) (20.9)\n",
      "Requirement already satisfied: fsspec>=2023.5.0 in /home/s276322x7cf08f/.local/lib/python3.9/site-packages (from huggingface-hub>=0.19.3->sentence-transformers) (2024.9.0)\n",
      "Requirement already satisfied: typing-extensions>=3.7.4.3 in /home/s276322x7cf08f/.local/lib/python3.9/site-packages (from huggingface-hub>=0.19.3->sentence-transformers) (4.12.2)\n",
      "Requirement already satisfied: filelock in /home/s276322x7cf08f/.local/lib/python3.9/site-packages (from huggingface-hub>=0.19.3->sentence-transformers) (3.16.0)\n",
      "Requirement already satisfied: pyyaml>=5.1 in /opt/conda/lib/python3.9/site-packages (from huggingface-hub>=0.19.3->sentence-transformers) (5.4.1)\n",
      "Requirement already satisfied: pyparsing>=2.0.2 in /opt/conda/lib/python3.9/site-packages (from packaging>=20.9->huggingface-hub>=0.19.3->sentence-transformers) (2.4.7)\n",
      "Requirement already satisfied: nvidia-nccl-cu12==2.20.5 in /home/s276322x7cf08f/.local/lib/python3.9/site-packages (from torch>=1.11.0->sentence-transformers) (2.20.5)\n",
      "Requirement already satisfied: nvidia-cuda-runtime-cu12==12.1.105 in /home/s276322x7cf08f/.local/lib/python3.9/site-packages (from torch>=1.11.0->sentence-transformers) (12.1.105)\n",
      "Requirement already satisfied: sympy in /opt/conda/lib/python3.9/site-packages (from torch>=1.11.0->sentence-transformers) (1.8)\n",
      "Requirement already satisfied: jinja2 in /opt/conda/lib/python3.9/site-packages (from torch>=1.11.0->sentence-transformers) (2.11.3)\n",
      "Requirement already satisfied: triton==3.0.0 in /home/s276322x7cf08f/.local/lib/python3.9/site-packages (from torch>=1.11.0->sentence-transformers) (3.0.0)\n",
      "Requirement already satisfied: nvidia-cuda-cupti-cu12==12.1.105 in /home/s276322x7cf08f/.local/lib/python3.9/site-packages (from torch>=1.11.0->sentence-transformers) (12.1.105)\n",
      "Requirement already satisfied: nvidia-cublas-cu12==12.1.3.1 in /home/s276322x7cf08f/.local/lib/python3.9/site-packages (from torch>=1.11.0->sentence-transformers) (12.1.3.1)\n",
      "Requirement already satisfied: nvidia-cusparse-cu12==12.1.0.106 in /home/s276322x7cf08f/.local/lib/python3.9/site-packages (from torch>=1.11.0->sentence-transformers) (12.1.0.106)\n",
      "Requirement already satisfied: nvidia-nvtx-cu12==12.1.105 in /home/s276322x7cf08f/.local/lib/python3.9/site-packages (from torch>=1.11.0->sentence-transformers) (12.1.105)\n",
      "Requirement already satisfied: nvidia-cusolver-cu12==11.4.5.107 in /home/s276322x7cf08f/.local/lib/python3.9/site-packages (from torch>=1.11.0->sentence-transformers) (11.4.5.107)\n",
      "Requirement already satisfied: nvidia-cudnn-cu12==9.1.0.70 in /home/s276322x7cf08f/.local/lib/python3.9/site-packages (from torch>=1.11.0->sentence-transformers) (9.1.0.70)\n",
      "Requirement already satisfied: nvidia-cuda-nvrtc-cu12==12.1.105 in /home/s276322x7cf08f/.local/lib/python3.9/site-packages (from torch>=1.11.0->sentence-transformers) (12.1.105)\n",
      "Requirement already satisfied: networkx in /opt/conda/lib/python3.9/site-packages (from torch>=1.11.0->sentence-transformers) (2.3)\n",
      "Requirement already satisfied: nvidia-curand-cu12==10.3.2.106 in /home/s276322x7cf08f/.local/lib/python3.9/site-packages (from torch>=1.11.0->sentence-transformers) (10.3.2.106)\n",
      "Requirement already satisfied: nvidia-cufft-cu12==11.0.2.54 in /home/s276322x7cf08f/.local/lib/python3.9/site-packages (from torch>=1.11.0->sentence-transformers) (11.0.2.54)\n",
      "Requirement already satisfied: nvidia-nvjitlink-cu12 in /home/s276322x7cf08f/.local/lib/python3.9/site-packages (from nvidia-cusolver-cu12==11.4.5.107->torch>=1.11.0->sentence-transformers) (12.6.68)\n",
      "Requirement already satisfied: tokenizers<0.20,>=0.19 in /home/s276322x7cf08f/.local/lib/python3.9/site-packages (from transformers<5.0.0,>=4.38.0->sentence-transformers) (0.19.1)\n",
      "Requirement already satisfied: regex!=2019.12.17 in /opt/conda/lib/python3.9/site-packages (from transformers<5.0.0,>=4.38.0->sentence-transformers) (2021.4.4)\n",
      "Requirement already satisfied: safetensors>=0.4.1 in /home/s276322x7cf08f/.local/lib/python3.9/site-packages (from transformers<5.0.0,>=4.38.0->sentence-transformers) (0.4.5)\n",
      "Requirement already satisfied: MarkupSafe>=0.23 in /opt/conda/lib/python3.9/site-packages (from jinja2->torch>=1.11.0->sentence-transformers) (1.1.1)\n",
      "Requirement already satisfied: decorator>=4.3.0 in /opt/conda/lib/python3.9/site-packages (from networkx->torch>=1.11.0->sentence-transformers) (5.0.7)\n",
      "Requirement already satisfied: chardet<5,>=3.0.2 in /opt/conda/lib/python3.9/site-packages (from requests->huggingface-hub>=0.19.3->sentence-transformers) (4.0.0)\n",
      "Requirement already satisfied: urllib3<1.27,>=1.21.1 in /opt/conda/lib/python3.9/site-packages (from requests->huggingface-hub>=0.19.3->sentence-transformers) (1.26.4)\n",
      "Requirement already satisfied: idna<3,>=2.5 in /opt/conda/lib/python3.9/site-packages (from requests->huggingface-hub>=0.19.3->sentence-transformers) (2.10)\n",
      "Requirement already satisfied: certifi>=2017.4.17 in /opt/conda/lib/python3.9/site-packages (from requests->huggingface-hub>=0.19.3->sentence-transformers) (2020.12.5)\n",
      "Requirement already satisfied: threadpoolctl>=3.1.0 in /home/s276322x7cf08f/.local/lib/python3.9/site-packages (from scikit-learn->sentence-transformers) (3.5.0)\n",
      "Requirement already satisfied: joblib>=1.2.0 in /home/s276322x7cf08f/.local/lib/python3.9/site-packages (from scikit-learn->sentence-transformers) (1.4.2)\n",
      "Requirement already satisfied: mpmath>=0.19 in /opt/conda/lib/python3.9/site-packages (from sympy->torch>=1.11.0->sentence-transformers) (1.2.1)\n",
      "Requirement already satisfied: scikit-learn in /home/s276322x7cf08f/.local/lib/python3.9/site-packages (1.5.2)\n",
      "Requirement already satisfied: joblib>=1.2.0 in /home/s276322x7cf08f/.local/lib/python3.9/site-packages (from scikit-learn) (1.4.2)\n",
      "Requirement already satisfied: threadpoolctl>=3.1.0 in /home/s276322x7cf08f/.local/lib/python3.9/site-packages (from scikit-learn) (3.5.0)\n",
      "Requirement already satisfied: scipy>=1.6.0 in /opt/conda/lib/python3.9/site-packages (from scikit-learn) (1.6.3)\n",
      "Requirement already satisfied: numpy>=1.19.5 in /opt/conda/lib/python3.9/site-packages (from scikit-learn) (1.20.2)\n",
      "Requirement already satisfied: torch in /home/s276322x7cf08f/.local/lib/python3.9/site-packages (2.4.1)\n",
      "Requirement already satisfied: nvidia-cuda-cupti-cu12==12.1.105 in /home/s276322x7cf08f/.local/lib/python3.9/site-packages (from torch) (12.1.105)\n",
      "Requirement already satisfied: typing-extensions>=4.8.0 in /home/s276322x7cf08f/.local/lib/python3.9/site-packages (from torch) (4.12.2)\n",
      "Requirement already satisfied: triton==3.0.0 in /home/s276322x7cf08f/.local/lib/python3.9/site-packages (from torch) (3.0.0)\n",
      "Requirement already satisfied: nvidia-cuda-runtime-cu12==12.1.105 in /home/s276322x7cf08f/.local/lib/python3.9/site-packages (from torch) (12.1.105)\n",
      "Requirement already satisfied: nvidia-cuda-nvrtc-cu12==12.1.105 in /home/s276322x7cf08f/.local/lib/python3.9/site-packages (from torch) (12.1.105)\n",
      "Requirement already satisfied: networkx in /opt/conda/lib/python3.9/site-packages (from torch) (2.3)\n",
      "Requirement already satisfied: nvidia-nvtx-cu12==12.1.105 in /home/s276322x7cf08f/.local/lib/python3.9/site-packages (from torch) (12.1.105)\n",
      "Requirement already satisfied: nvidia-nccl-cu12==2.20.5 in /home/s276322x7cf08f/.local/lib/python3.9/site-packages (from torch) (2.20.5)\n",
      "Requirement already satisfied: nvidia-cufft-cu12==11.0.2.54 in /home/s276322x7cf08f/.local/lib/python3.9/site-packages (from torch) (11.0.2.54)\n",
      "Requirement already satisfied: nvidia-cublas-cu12==12.1.3.1 in /home/s276322x7cf08f/.local/lib/python3.9/site-packages (from torch) (12.1.3.1)\n",
      "Requirement already satisfied: nvidia-curand-cu12==10.3.2.106 in /home/s276322x7cf08f/.local/lib/python3.9/site-packages (from torch) (10.3.2.106)\n",
      "Requirement already satisfied: nvidia-cusolver-cu12==11.4.5.107 in /home/s276322x7cf08f/.local/lib/python3.9/site-packages (from torch) (11.4.5.107)\n",
      "Requirement already satisfied: jinja2 in /opt/conda/lib/python3.9/site-packages (from torch) (2.11.3)\n",
      "Requirement already satisfied: sympy in /opt/conda/lib/python3.9/site-packages (from torch) (1.8)\n",
      "Requirement already satisfied: filelock in /home/s276322x7cf08f/.local/lib/python3.9/site-packages (from torch) (3.16.0)\n",
      "Requirement already satisfied: fsspec in /home/s276322x7cf08f/.local/lib/python3.9/site-packages (from torch) (2024.9.0)\n"
     ]
    },
    {
     "name": "stdout",
     "output_type": "stream",
     "text": [
      "Requirement already satisfied: nvidia-cudnn-cu12==9.1.0.70 in /home/s276322x7cf08f/.local/lib/python3.9/site-packages (from torch) (9.1.0.70)\n",
      "Requirement already satisfied: nvidia-cusparse-cu12==12.1.0.106 in /home/s276322x7cf08f/.local/lib/python3.9/site-packages (from torch) (12.1.0.106)\n",
      "Requirement already satisfied: nvidia-nvjitlink-cu12 in /home/s276322x7cf08f/.local/lib/python3.9/site-packages (from nvidia-cusolver-cu12==11.4.5.107->torch) (12.6.68)\n",
      "Requirement already satisfied: MarkupSafe>=0.23 in /opt/conda/lib/python3.9/site-packages (from jinja2->torch) (1.1.1)\n",
      "Requirement already satisfied: decorator>=4.3.0 in /opt/conda/lib/python3.9/site-packages (from networkx->torch) (5.0.7)\n",
      "Requirement already satisfied: mpmath>=0.19 in /opt/conda/lib/python3.9/site-packages (from sympy->torch) (1.2.1)\n",
      "Requirement already satisfied: torch in /home/s276322x7cf08f/.local/lib/python3.9/site-packages (2.4.1)\n",
      "Requirement already satisfied: nvidia-cublas-cu12==12.1.3.1 in /home/s276322x7cf08f/.local/lib/python3.9/site-packages (from torch) (12.1.3.1)\n",
      "Requirement already satisfied: nvidia-cuda-nvrtc-cu12==12.1.105 in /home/s276322x7cf08f/.local/lib/python3.9/site-packages (from torch) (12.1.105)\n",
      "Requirement already satisfied: filelock in /home/s276322x7cf08f/.local/lib/python3.9/site-packages (from torch) (3.16.0)\n",
      "Requirement already satisfied: nvidia-cuda-cupti-cu12==12.1.105 in /home/s276322x7cf08f/.local/lib/python3.9/site-packages (from torch) (12.1.105)\n",
      "Requirement already satisfied: nvidia-cudnn-cu12==9.1.0.70 in /home/s276322x7cf08f/.local/lib/python3.9/site-packages (from torch) (9.1.0.70)\n",
      "Requirement already satisfied: sympy in /opt/conda/lib/python3.9/site-packages (from torch) (1.8)\n",
      "Requirement already satisfied: nvidia-curand-cu12==10.3.2.106 in /home/s276322x7cf08f/.local/lib/python3.9/site-packages (from torch) (10.3.2.106)\n",
      "Requirement already satisfied: nvidia-nvtx-cu12==12.1.105 in /home/s276322x7cf08f/.local/lib/python3.9/site-packages (from torch) (12.1.105)\n",
      "Requirement already satisfied: nvidia-cuda-runtime-cu12==12.1.105 in /home/s276322x7cf08f/.local/lib/python3.9/site-packages (from torch) (12.1.105)\n",
      "Requirement already satisfied: fsspec in /home/s276322x7cf08f/.local/lib/python3.9/site-packages (from torch) (2024.9.0)\n",
      "Requirement already satisfied: nvidia-cusolver-cu12==11.4.5.107 in /home/s276322x7cf08f/.local/lib/python3.9/site-packages (from torch) (11.4.5.107)\n",
      "Requirement already satisfied: nvidia-nccl-cu12==2.20.5 in /home/s276322x7cf08f/.local/lib/python3.9/site-packages (from torch) (2.20.5)\n",
      "Requirement already satisfied: networkx in /opt/conda/lib/python3.9/site-packages (from torch) (2.3)\n",
      "Requirement already satisfied: typing-extensions>=4.8.0 in /home/s276322x7cf08f/.local/lib/python3.9/site-packages (from torch) (4.12.2)\n",
      "Requirement already satisfied: nvidia-cusparse-cu12==12.1.0.106 in /home/s276322x7cf08f/.local/lib/python3.9/site-packages (from torch) (12.1.0.106)\n",
      "Requirement already satisfied: triton==3.0.0 in /home/s276322x7cf08f/.local/lib/python3.9/site-packages (from torch) (3.0.0)\n",
      "Requirement already satisfied: nvidia-cufft-cu12==11.0.2.54 in /home/s276322x7cf08f/.local/lib/python3.9/site-packages (from torch) (11.0.2.54)\n",
      "Requirement already satisfied: jinja2 in /opt/conda/lib/python3.9/site-packages (from torch) (2.11.3)\n",
      "Requirement already satisfied: nvidia-nvjitlink-cu12 in /home/s276322x7cf08f/.local/lib/python3.9/site-packages (from nvidia-cusolver-cu12==11.4.5.107->torch) (12.6.68)\n",
      "Requirement already satisfied: MarkupSafe>=0.23 in /opt/conda/lib/python3.9/site-packages (from jinja2->torch) (1.1.1)\n",
      "Requirement already satisfied: decorator>=4.3.0 in /opt/conda/lib/python3.9/site-packages (from networkx->torch) (5.0.7)\n",
      "Requirement already satisfied: mpmath>=0.19 in /opt/conda/lib/python3.9/site-packages (from sympy->torch) (1.2.1)\n",
      "Requirement already satisfied: fugashi in /opt/conda/lib/python3.9/site-packages (1.3.2)\n",
      "Requirement already satisfied: unidic-lite in /opt/conda/lib/python3.9/site-packages (1.0.8)\n",
      "Requirement already satisfied: neologdn in /opt/local/lib/python3.9/site-packages (0.5.1)\n"
     ]
    }
   ],
   "source": [
    "!pip install -U tqdm \n",
    "!pip install --upgrade sentence-transformers --user\n",
    "!pip install --upgrade scikit-learn --user\n",
    "!pip install --upgrade torch --user\n",
    "!pip install -U torch \n",
    "!pip install -U fugashi\n",
    "!pip install -U unidic-lite\n",
    "!pip install neologdn"
   ]
  },
  {
   "cell_type": "code",
   "execution_count": 13,
   "id": "74fd3ae3",
   "metadata": {
    "lc_cell_meme": {
     "current": "6b140b7a-7584-11ef-a731-b5bbbc9eafb6",
     "execution_end_time": "2024-09-19T03:30:01.340357Z",
     "history": [
      {
       "current": "6b140b7a-7584-11ef-a731-b5bbbc9eafb6",
       "next": null,
       "previous": "6b140b03-7584-11ef-a427-b5bbbc9eafb6"
      },
      {
       "current": "6b140b7a-7584-11ef-a731-b5bbbc9eafb6",
       "next": null,
       "previous": "b297bb95-7584-11ef-852e-b5bbbc9eafb6"
      }
     ],
     "next": "fa25b04c-7584-11ef-a236-b5bbbc9eafb6",
     "previous": "b297bb95-7584-11ef-852e-b5bbbc9eafb6"
    },
    "lc_wrapper": {
     "log_history": [
      "/home/s276322x7cf08f/AIPBL/.log/20240918/20240918-151117-0482.log",
      "/home/s276322x7cf08f/AIPBL/.log/20240919/20240919-113736-0824.log",
      "/home/s276322x7cf08f/AIPBL/.log/20240919/20240919-121825-0833.log",
      "/home/s276322x7cf08f/AIPBL/.log/20240919/20240919-122240-0399.log",
      "/home/s276322x7cf08f/AIPBL/.log/20240919/20240919-123001-0330.log"
     ]
    }
   },
   "outputs": [],
   "source": [
    "matsuko = matsuko_gen_kanto"
   ]
  },
  {
   "cell_type": "markdown",
   "id": "03268db2",
   "metadata": {
    "lc_cell_meme": {
     "current": "fa25b04c-7584-11ef-a236-b5bbbc9eafb6",
     "next": "fa25b1a6-7584-11ef-8380-b5bbbc9eafb6",
     "previous": "6b140b7a-7584-11ef-a731-b5bbbc9eafb6"
    }
   },
   "source": [
    "#### descriptionの前処理"
   ]
  },
  {
   "cell_type": "code",
   "execution_count": 14,
   "id": "ed9bf40e",
   "metadata": {
    "lc_cell_meme": {
     "current": "fa25b1a6-7584-11ef-8380-b5bbbc9eafb6",
     "execution_end_time": "2024-09-19T03:30:01.402632Z",
     "history": [
      {
       "current": "fa25b1a6-7584-11ef-8380-b5bbbc9eafb6",
       "next": "fa25b218-7584-11ef-ae4d-b5bbbc9eafb6",
       "previous": "fa25b04c-7584-11ef-a236-b5bbbc9eafb6"
      },
      {
       "current": "fa25b1a6-7584-11ef-8380-b5bbbc9eafb6",
       "next": "f034b544-7635-11ef-aaf4-6968363b8a7c",
       "previous": "fa25b04c-7584-11ef-a236-b5bbbc9eafb6"
      }
     ],
     "next": "f034b966-7635-11ef-ac4d-6968363b8a7c",
     "previous": "fa25b04c-7584-11ef-a236-b5bbbc9eafb6"
    },
    "lc_wrapper": {
     "log_history": [
      "/home/s276322x7cf08f/AIPBL/.log/20240918/20240918-151228-0626.log",
      "/home/s276322x7cf08f/AIPBL/.log/20240919/20240919-113736-0859.log",
      "/home/s276322x7cf08f/AIPBL/.log/20240919/20240919-121828-0869.log",
      "/home/s276322x7cf08f/AIPBL/.log/20240919/20240919-121838-0588.log",
      "/home/s276322x7cf08f/AIPBL/.log/20240919/20240919-122240-0458.log",
      "/home/s276322x7cf08f/AIPBL/.log/20240919/20240919-123001-0392.log"
     ]
    },
    "scrolled": true
   },
   "outputs": [
    {
     "data": {
      "text/plain": [
       "'番組内容 -- ▼今ひそかなブーム!間借りカレーの世界!昼だけ間借りしてるカレーが実はめちゃくちゃ美味しいってなんで？パクチー？酢飯？個性的なカレーたちにマツコの食べる手も止まらない!▼懐かしくて書きたくなる鉛筆の世界!書き味おすすめからいい匂いの鉛筆まで!？様々な角度からおすすめの鉛筆を紹介!そして鉛筆を使って演奏…？   -- 出演者 -- 【MC】  マツコ・デラックス    【ゲスト】  間借りカレーの世界…縫田曉言さん  鉛筆の世界…小日向京さん -- 公式ページ -- ◇番組HP http://www.tbs.co.jp/matsuko-sekai/   -- おしらせ -- 【公式facebook】  https://ja-jp.facebook.com/matsuko.sekai   -- おしらせ2 -- 【公式Twitter】  @tbsmatsukosekai  https://twitter.com/tbsmatsukosekai   -- おことわり -- 番組の内容と放送時間は変更になる可能性があります。'"
      ]
     },
     "execution_count": 14,
     "metadata": {},
     "output_type": "execute_result"
    }
   ],
   "source": [
    "# descriptionの前処理は必要\n",
    "# 現状は番組詳細などの文字を消去できていない\n",
    "matsuko[\"description\"][6]"
   ]
  },
  {
   "cell_type": "code",
   "execution_count": 15,
   "id": "64a56c53",
   "metadata": {
    "lc_cell_meme": {
     "current": "f034b966-7635-11ef-ac4d-6968363b8a7c",
     "execution_end_time": "2024-09-19T03:30:01.473058Z",
     "history": [
      {
       "current": "f034b966-7635-11ef-ac4d-6968363b8a7c",
       "next": "fa25b26f-7584-11ef-979b-b5bbbc9eafb6-1-1beb",
       "previous": "f034b544-7635-11ef-aaf4-6968363b8a7c"
      },
      {
       "current": "f034b966-7635-11ef-ac4d-6968363b8a7c",
       "next": "fa25b26f-7584-11ef-979b-b5bbbc9eafb6-1-1beb",
       "previous": "fa25b1a6-7584-11ef-8380-b5bbbc9eafb6"
      }
     ],
     "next": "9d59e35e-7637-11ef-aac2-6968363b8a7c",
     "previous": "fa25b1a6-7584-11ef-8380-b5bbbc9eafb6"
    },
    "lc_wrapper": {
     "log_history": [
      "/home/s276322x7cf08f/AIPBL/.log/20240919/20240919-122240-0570.log",
      "/home/s276322x7cf08f/AIPBL/.log/20240919/20240919-122258-0362.log",
      "/home/s276322x7cf08f/AIPBL/.log/20240919/20240919-122302-0291.log",
      "/home/s276322x7cf08f/AIPBL/.log/20240919/20240919-123001-0427.log"
     ]
    }
   },
   "outputs": [],
   "source": [
    "import re\n",
    "import neologdn\n",
    "\n",
    "# '番組内容' と '出演者' 以降を削除\n",
    "def clean_description(text):\n",
    "    text = re.split(r'-- 出演者 --', text)[0]  # '出演者' 以降を削除\n",
    "    text = re.sub(r'番組内容\\s*', '', text)  # '番組内容' という文字列を削除\n",
    "    text = neologdn.normalize(text)\n",
    "    return text.strip()\n",
    "\n",
    "# 各行に対してクリーンアップ処理を実行\n",
    "matsuko['description'] = matsuko['description'].apply(clean_description)\n"
   ]
  },
  {
   "cell_type": "code",
   "execution_count": 32,
   "id": "ed5fc278",
   "metadata": {
    "lc_cell_meme": {
     "current": "9d59e35e-7637-11ef-aac2-6968363b8a7c",
     "execution_end_time": "2024-09-19T03:30:23.050563Z",
     "next": "fa25b26f-7584-11ef-979b-b5bbbc9eafb6-1-1beb",
     "previous": "f034b966-7635-11ef-ac4d-6968363b8a7c"
    },
    "lc_wrapper": {
     "log_history": [
      "/home/s276322x7cf08f/AIPBL/.log/20240919/20240919-123023-0029.log"
     ]
    }
   },
   "outputs": [
    {
     "data": {
      "text/plain": [
       "'今世界で大ブーム日本茶の世界日本にたった13人日本茶界を牽引する茶師十段位が厳選毎日飲みたくなる、ほっとする美味しい日本茶マツコも和む紙袋の世界使い捨てなんてもったいない紙袋は今、おしゃれアイテムとして進化を遂げていた3000種類の紙袋を集めた日本唯一の紙袋専門デザイナーが普段から使える最新おしゃれ紙袋を続々紹介'"
      ]
     },
     "execution_count": 32,
     "metadata": {},
     "output_type": "execute_result"
    }
   ],
   "source": [
    "matsuko[\"description\"][2]"
   ]
  },
  {
   "cell_type": "markdown",
   "id": "cfb5556e",
   "metadata": {
    "lc_cell_meme": {
     "current": "fa25b26f-7584-11ef-979b-b5bbbc9eafb6-1-1beb",
     "history": [
      {
       "current": "fa25b26f-7584-11ef-979b-b5bbbc9eafb6-1-1beb",
       "next": "fa25b2bd-7584-11ef-b8b9-b5bbbc9eafb6",
       "previous": "fa25b218-7584-11ef-ae4d-b5bbbc9eafb6"
      },
      {
       "current": "fa25b26f-7584-11ef-979b-b5bbbc9eafb6-1-1beb",
       "next": "41a82e7d-7585-11ef-b916-b5bbbc9eafb6",
       "previous": "fa25b218-7584-11ef-ae4d-b5bbbc9eafb6"
      },
      {
       "current": "fa25b26f-7584-11ef-979b-b5bbbc9eafb6-1-1beb",
       "next": "41a82e7d-7585-11ef-b916-b5bbbc9eafb6",
       "previous": "f034b966-7635-11ef-ac4d-6968363b8a7c"
      }
     ],
     "next": "41a82e7d-7585-11ef-b916-b5bbbc9eafb6",
     "previous": "9d59e35e-7637-11ef-aac2-6968363b8a7c"
    }
   },
   "source": [
    "#### ベクトル化(SimCSE)"
   ]
  },
  {
   "cell_type": "code",
   "execution_count": null,
   "id": "a6b427e7",
   "metadata": {
    "lc_cell_meme": {
     "current": "41a82e7d-7585-11ef-b916-b5bbbc9eafb6",
     "next": "fa25b2bd-7584-11ef-b8b9-b5bbbc9eafb6-1-5fc6",
     "previous": "fa25b26f-7584-11ef-979b-b5bbbc9eafb6-1-1beb"
    }
   },
   "outputs": [],
   "source": []
  },
  {
   "cell_type": "markdown",
   "id": "7a5e78ff",
   "metadata": {
    "lc_cell_meme": {
     "current": "fa25b2bd-7584-11ef-b8b9-b5bbbc9eafb6-1-5fc6",
     "history": [
      {
       "current": "fa25b2bd-7584-11ef-b8b9-b5bbbc9eafb6-1-5fc6",
       "next": "fa25b309-7584-11ef-8b2d-b5bbbc9eafb6",
       "previous": "fa25b26f-7584-11ef-979b-b5bbbc9eafb6"
      }
     ],
     "next": "fa25b309-7584-11ef-8b2d-b5bbbc9eafb6",
     "previous": "41a82e7d-7585-11ef-b916-b5bbbc9eafb6"
    }
   },
   "source": [
    "### 学習"
   ]
  },
  {
   "cell_type": "code",
   "execution_count": 16,
   "id": "235d6ba9",
   "metadata": {
    "lc_cell_meme": {
     "current": "fa25b309-7584-11ef-8b2d-b5bbbc9eafb6",
     "execution_end_time": "2024-09-19T03:30:01.540612Z",
     "history": [
      {
       "current": "fa25b309-7584-11ef-8b2d-b5bbbc9eafb6",
       "next": "fa25b356-7584-11ef-8eb3-b5bbbc9eafb6",
       "previous": "fa25b2bd-7584-11ef-b8b9-b5bbbc9eafb6"
      }
     ],
     "next": "fa25b356-7584-11ef-8eb3-b5bbbc9eafb6",
     "previous": "fa25b2bd-7584-11ef-b8b9-b5bbbc9eafb6-1-5fc6"
    },
    "lc_wrapper": {
     "log_history": [
      "/home/s276322x7cf08f/AIPBL/.log/20240918/20240918-151356-0046.log",
      "/home/s276322x7cf08f/AIPBL/.log/20240919/20240919-113736-0933.log",
      "/home/s276322x7cf08f/AIPBL/.log/20240919/20240919-122304-0140.log",
      "/home/s276322x7cf08f/AIPBL/.log/20240919/20240919-123001-0492.log"
     ]
    }
   },
   "outputs": [],
   "source": [
    "import pandas as pd\n",
    "matsuko = pd.read_csv(\"matsuko_embeddings_SimCSE.csv\")"
   ]
  },
  {
   "cell_type": "code",
   "execution_count": 17,
   "id": "cdc2a0df",
   "metadata": {
    "lc_cell_meme": {
     "current": "fa25b356-7584-11ef-8eb3-b5bbbc9eafb6",
     "execution_end_time": "2024-09-19T03:30:02.250672Z",
     "history": [
      {
       "current": "fa25b356-7584-11ef-8eb3-b5bbbc9eafb6",
       "next": "fa25b3a1-7584-11ef-a1f7-b5bbbc9eafb6",
       "previous": "fa25b309-7584-11ef-8b2d-b5bbbc9eafb6"
      }
     ],
     "next": "ecea6e12-763c-11ef-8a25-6968363b8a7c",
     "previous": "fa25b309-7584-11ef-8b2d-b5bbbc9eafb6"
    },
    "lc_wrapper": {
     "log_history": [
      "/home/s276322x7cf08f/AIPBL/.log/20240918/20240918-151413-0084.log",
      "/home/s276322x7cf08f/AIPBL/.log/20240919/20240919-113737-0005.log",
      "/home/s276322x7cf08f/AIPBL/.log/20240919/20240919-122304-0867.log",
      "/home/s276322x7cf08f/AIPBL/.log/20240919/20240919-123001-0562.log"
     ]
    }
   },
   "outputs": [],
   "source": [
    "# 平均じゃなくする\n",
    "import ast\n",
    "# 文字列をリストに変換する関数\n",
    "def parse_embedding(embedding_str):\n",
    "    # スペースで区切られた数値を適切にカンマで区切り、リスト形式に変換\n",
    "    # リストのカンマの位置を修正\n",
    "    corrected_str = re.sub(r'(\\d)(-)', r'\\1, \\2', embedding_str)  # 数値とマイナス記号の間にカンマを追加\n",
    "    corrected_str = corrected_str.replace(' ', ',').replace(',,', ',')  # 連続するカンマを修正\n",
    "    corrected_str = corrected_str.replace('[,', '[').replace(',]', ']')  # リストの先頭と末尾のカンマを修正\n",
    "        \n",
    "    # リストを評価\n",
    "    embedding_list = ast.literal_eval(corrected_str)\n",
    "    return np.array(embedding_list)\n",
    "\n",
    "matsuko['embedding'] = matsuko['embedding'].apply(parse_embedding)"
   ]
  },
  {
   "cell_type": "code",
   "execution_count": 35,
   "id": "6160b5c5",
   "metadata": {
    "lc_cell_meme": {
     "current": "ecea6e12-763c-11ef-8a25-6968363b8a7c",
     "execution_end_time": "2024-09-19T04:08:33.967474Z",
     "next": "fa25b3a1-7584-11ef-a1f7-b5bbbc9eafb6",
     "previous": "fa25b356-7584-11ef-8eb3-b5bbbc9eafb6"
    },
    "lc_wrapper": {
     "log_history": [
      "/home/s276322x7cf08f/AIPBL/.log/20240919/20240919-130754-0921.log",
      "/home/s276322x7cf08f/AIPBL/.log/20240919/20240919-130833-0945.log"
     ]
    }
   },
   "outputs": [
    {
     "name": "stdout",
     "output_type": "stream",
     "text": [
      "[ 4.66459513e-01  2.90659994e-01  2.57077198e-02  9.31334198e-01\n",
      " -1.06254375e+00 -4.86917257e-01  3.74838203e-01 -4.45631176e-01\n",
      " -8.67609262e-01  6.53038681e-01 -6.43458068e-01  9.89070833e-02\n",
      " -1.30821928e-01  4.89921391e-01  2.61288047e-01  2.25226507e-01\n",
      "  9.24054682e-01  4.71758306e-01 -2.59726226e-01  4.12652120e-02\n",
      " -1.96713984e-01 -9.47082818e-01 -5.52756906e-01 -1.05981030e-01\n",
      " -3.95313561e-01 -1.13792397e-01 -1.47208959e-01 -6.45684898e-01\n",
      "  1.25741452e-01  1.44255474e-01 -1.02845049e+00 -3.45433980e-01\n",
      "  1.46087304e-01 -6.27818775e+00  9.75540429e-02 -4.95163083e-01\n",
      " -8.23811829e-01  5.91339990e-02 -2.90685236e-01  5.89854479e-01\n",
      " -2.46955436e-02  4.27576035e-01  6.72140181e-01  5.88472068e-01\n",
      "  4.19022083e-01 -9.88312900e-01  6.50884807e-01  3.97146791e-01\n",
      "  2.72773895e-02 -1.15896118e+00 -7.01824874e-02  6.88588762e+00\n",
      "  4.23032939e-01  6.26733363e-01  7.53072441e-01  9.12521303e-01\n",
      " -2.26172879e-02  3.65591228e-01  9.32407320e-01  9.18398917e-01\n",
      "  2.09315926e-01 -5.15163839e-01 -2.86362737e-01  1.75127476e-01\n",
      "  9.77797866e-01 -3.32108527e-01  1.67582169e-01 -6.55636191e-03\n",
      " -7.96567917e-01  7.27298677e-01 -1.47119832e+00 -1.03974295e+00\n",
      "  3.06473225e-01  5.67371309e-01  6.22185826e-01 -6.48881078e-01\n",
      "  4.29357767e-01  7.53471971e-01 -3.47770989e-01 -7.21706688e-01\n",
      "  1.03355646e+00 -9.57852826e-02 -2.43645266e-01  4.54347253e-01\n",
      " -6.42707705e-01 -2.19794810e-02  1.52420923e-01 -4.15310353e-01\n",
      " -3.21539700e-01 -2.73413032e-01  7.10280240e-01  3.67826968e-01\n",
      " -9.85014319e-01 -4.61196363e-01 -8.78871419e-03  6.11052752e-01\n",
      "  2.94898469e-02  1.11313760e+00  4.21020776e-01  8.67902160e-01\n",
      "  4.68599766e-01  6.61828816e-01 -9.47958417e-03  7.94543326e-02\n",
      "  1.39585301e-01 -8.57920170e-01 -7.31032908e-01  3.28277558e-01\n",
      " -5.37109435e-01 -3.84412438e-01  7.04288900e-01 -5.90377629e-01\n",
      " -1.22247124e-02  7.15358078e-01  6.62000597e-01  1.50347412e-01\n",
      "  4.09716904e-01  4.30675626e-01 -1.89138925e+00 -9.36716616e-01\n",
      "  1.23810971e+00 -3.72466415e-01 -6.79134130e-01  5.16082585e-01\n",
      " -1.38167158e-01  2.50326991e-01  1.90519512e-01  6.29321337e-01\n",
      " -1.94650650e-01  3.04886192e-01  1.18249066e-01 -1.18996966e+00\n",
      "  5.91379702e-01 -1.25343427e-01  2.30849564e-01  1.95071980e-01\n",
      " -2.19107550e-02  3.25779378e-01  4.59009707e-01  4.06034857e-01\n",
      " -3.01539987e-01 -6.21169448e-01  1.37864619e-01 -5.06426930e-01\n",
      " -9.69021857e-01 -1.94597185e-01 -1.97730899e-01  1.94860387e+00\n",
      "  8.69861007e-01  2.63819277e-01  3.14149857e-01 -5.33239305e-01\n",
      "  1.01259217e-01 -5.41065097e-01  2.80040920e-01  1.79017201e-01\n",
      " -2.12055042e-01 -2.88208991e-01  5.63580453e-01 -4.44429606e-01\n",
      "  1.58763945e-01  3.70565087e-01 -3.93260986e-01  1.19129467e+00\n",
      " -1.00307727e+00  3.69247794e-02  8.86723697e-01  7.22496867e-01\n",
      " -2.89708793e-01  1.22139052e-01  5.92895329e-01 -9.79434013e-01\n",
      " -6.82844222e-01  1.34056091e-01  6.34593487e-01 -3.28609943e-01\n",
      "  8.16278338e-01  9.70799088e-01  3.19074154e-01  4.55750972e-01\n",
      "  5.51508784e-01 -7.03329369e-02 -6.53077066e-01 -5.97274721e-01\n",
      " -2.28803530e-01  4.24892068e-01  7.89890170e-01  1.30400822e-01\n",
      "  3.10649127e-01 -6.53867245e-01 -7.14389861e-01 -2.31592834e-01\n",
      "  8.14498961e-01 -6.33175671e-03  3.01109850e-01 -4.82617617e-01\n",
      " -1.54524446e-02 -5.37050068e-01 -7.18989849e-01 -2.10907608e-01\n",
      "  1.09986097e-01  3.94927025e-01 -6.69880271e-01 -1.70709684e-01\n",
      " -7.53371835e-01  3.59022319e-01 -1.54560655e-01  4.50809717e-01\n",
      " -7.04682827e-01 -1.55024171e-01 -3.07997346e-01 -9.62983489e-01\n",
      "  4.03283834e-01 -1.31082582e+00  1.66986510e-01 -9.04597402e-01\n",
      "  1.12074018e+00  8.00796926e-01 -7.23698795e-01 -4.20243800e-01\n",
      "  2.88027883e-01  4.11248744e-01 -3.41353804e-01  5.61429918e-01\n",
      " -3.47060591e-01  4.51074123e-01 -1.77101985e-01  1.40765876e-01\n",
      " -1.48626998e-01 -7.58599877e-01  4.28339452e-01  4.36097085e-02\n",
      "  6.03747308e-01 -5.67285955e-01  2.20506057e-01  3.26872349e-01\n",
      " -3.36264700e-01  1.02284634e+00  1.12395667e-01 -5.41888297e-01\n",
      "  5.22623062e-01 -2.69695401e-01  1.07869416e-01  6.87090635e-01\n",
      " -1.49189219e-01  7.82529235e-01 -5.63478410e-01 -5.69213390e-01\n",
      "  1.89723045e-01 -5.05702257e-01  2.21234009e-01  5.59087276e-01\n",
      " -9.77321744e-01  5.31875432e-01  8.81132662e-01  3.77929211e-01\n",
      "  2.90237248e-01 -2.85328835e-01 -6.76662624e-01 -8.95276606e-01\n",
      "  4.90337998e-01  8.82465392e-02  5.16488552e-01 -2.09771767e-02\n",
      "  5.12130857e-01  6.37990236e-02  1.26023799e-01 -3.13240528e-01\n",
      " -1.25239921e+00 -1.64810792e-01 -1.11322331e+00  6.50365055e-01\n",
      "  9.50622022e-01  1.02301978e-01 -7.07425356e-01 -5.54614305e-01\n",
      " -6.14628613e-01 -9.99005973e-01 -1.82214990e-01 -1.02256405e+00\n",
      " -3.40510428e-01  3.11776668e-01 -7.87238479e-01  2.18430430e-01\n",
      "  1.82510704e-01  2.06883132e-01 -5.14060140e-01 -4.81863022e-01\n",
      " -2.40468681e-01 -6.57650232e-01 -7.40073979e-01  7.25679934e-01\n",
      " -1.07175350e+00  5.14345169e-01 -4.22287643e-01 -7.52689421e-01\n",
      " -3.20554107e-01  2.62476295e-01 -4.12702978e-01 -2.21151769e-01\n",
      "  6.28216624e-01 -9.05928731e-01 -6.22717030e-02 -3.98614854e-01\n",
      " -1.92508802e-01 -8.09429169e-01 -6.41434669e-01 -6.41276598e-01\n",
      " -4.50334340e-01  9.45400655e-01 -3.51151109e-01 -1.69287831e-01\n",
      "  7.17059970e-01 -5.04722893e-01  5.41680038e-01 -3.55828911e-01\n",
      "  3.41523767e-01  9.21388790e-02 -1.06128347e+00 -1.11070216e+00\n",
      " -1.00293890e-01 -5.04742086e-01  2.99115270e-01  6.54744506e-01\n",
      " -3.39651018e-01 -6.13718688e-01  1.65148568e+00 -1.51640940e+00\n",
      "  6.17738724e-01  6.29329085e-01 -7.99635589e-01 -1.23933697e+00\n",
      "  1.46057093e+00  6.74678922e-01 -1.49942887e+00 -1.12424001e-01\n",
      "  1.33738145e-01  2.96762258e-01 -5.62462151e-01  5.48179410e-02\n",
      "  9.64827001e-01 -6.11311316e-01  6.63349509e-01  2.75751531e-01\n",
      "  9.79330957e-01 -5.46103776e-01  1.36472315e-01  8.74260068e-01\n",
      "  1.04732096e+00 -2.50844210e-01 -1.53457165e+00  2.29906902e-01\n",
      "  1.07555842e+00 -2.96987623e-01 -2.69853443e-01 -1.42371297e+00\n",
      " -1.32767200e-01 -5.07207178e-02  6.38476074e-01 -1.29430175e-01\n",
      " -4.30918366e-01 -9.55504835e-01 -8.85409415e-01  3.46033275e-01\n",
      "  6.56960249e-01 -3.50803971e-01  5.25625587e-01 -7.02777386e-01\n",
      " -8.12423006e-02  8.55143905e-01  2.47965902e-01 -6.86092675e-02\n",
      " -7.06267834e-01  6.80022717e-01 -3.95059943e-01  9.10735726e-02\n",
      "  1.45501301e-01  5.09521961e-01 -4.16755497e-01 -7.10255504e-01\n",
      " -4.64710057e-01 -1.85589761e-01  2.43759856e-01  2.07778327e-02\n",
      " -1.84103358e+00  1.16899109e+00  2.96109825e-01 -5.39090872e-01\n",
      "  4.54694331e-01  2.00096846e-01 -6.76143229e-01 -4.05811489e-01\n",
      "  7.87142217e-02  3.28601539e-01 -7.61393070e-01 -1.05353542e-01\n",
      " -4.66568828e-01 -5.29474735e-01 -6.83715522e-01  5.91076016e-01\n",
      " -2.63533086e-01 -7.85624385e-01  3.34497571e-01 -7.76182652e-01\n",
      "  7.80854449e-02  6.71197996e-02 -1.09929323e+00 -6.54237092e-01\n",
      " -8.31800997e-01 -6.14234924e-01 -6.24783993e-01 -6.11165702e-01\n",
      "  2.36026824e-01  5.97455442e-01 -3.67786139e-01 -3.29304188e-01\n",
      "  4.96976256e-01  2.64552623e-01 -1.09484285e-01  1.00065768e-01\n",
      " -5.94621658e-01  7.30249360e-02 -7.31303573e-01  1.57495722e-01\n",
      " -8.47813904e-01 -1.49188578e-01 -6.62132144e-01 -1.36991635e-01\n",
      "  7.47954130e-01 -1.21517217e+00  4.51363415e-01 -3.97503704e-01\n",
      " -1.68941230e-01  3.23563069e-01 -2.83727586e-01 -1.82973444e-01\n",
      " -2.32557207e-01 -9.42844212e-01 -2.51245201e-01  9.04230475e-01\n",
      " -4.37329829e-01 -8.57272863e-01  2.92448729e-01  6.19626164e-01\n",
      "  6.16858482e-01  6.21616840e-01  4.23114121e-01 -5.98694324e-01\n",
      " -3.65008801e-01  5.20376980e-01  1.97644070e-01 -1.06346965e+00\n",
      "  4.29266036e-01  3.28092873e-02 -1.50617734e-01  3.00934792e-01\n",
      "  6.73271835e-01 -1.79534793e-01 -5.32970369e-01 -5.66414714e-01\n",
      "  5.49298152e-02  4.44631636e-01  2.01977462e-01 -8.40267539e-01\n",
      "  2.75108248e-01  8.25455934e-02 -2.04235744e-02 -1.84224218e-01\n",
      " -1.48367034e-02  8.35956693e-01 -4.30744708e-01 -3.48024368e-01\n",
      " -5.51939607e-01 -5.91489792e-01 -4.90369022e-01  5.83958805e-01\n",
      "  1.47265208e+00 -1.14632952e+00 -7.55569637e-02  4.78313953e-01\n",
      " -5.88019431e-01  9.58955884e-01 -1.49468029e+00 -7.75445938e-01\n",
      "  7.71023557e-02 -2.05122530e-01  1.06056905e+00 -1.43322897e+00\n",
      " -2.73502588e-01  2.76591361e-01 -5.64512193e-01 -6.44965112e-01\n",
      " -1.10566211e+00 -1.03719689e-01 -8.64539683e-01  1.43686876e-01\n",
      "  7.17918217e-01  2.95744210e-01 -1.63017631e+00  8.63965690e-01\n",
      " -1.30598271e+00 -2.37862602e-01  1.68737590e-01  6.57356739e-01\n",
      " -9.45512474e-01  1.52656353e+00  5.85968554e-01  5.08784592e-01\n",
      "  5.41062474e-01  3.43976095e-02 -2.58850813e-01  6.59592330e-01\n",
      "  5.10043263e-01 -1.21809256e+00 -1.97761878e-01  5.23380339e-01\n",
      " -4.79490250e-01 -4.62591112e-01 -2.35965684e-01 -7.00198054e-01\n",
      "  1.00224227e-01  1.24684677e-01 -4.60811526e-01 -3.59343900e-03\n",
      "  1.34284779e-01  1.64375994e-02 -7.69240320e-01 -3.32881473e-02\n",
      " -2.81694800e-01  4.43350554e-01  3.27726677e-02 -2.95024306e-01\n",
      " -3.61534029e-01  3.66587937e-01  1.50381580e-01  1.01940703e+00\n",
      " -8.99923667e-02 -9.28229392e-01  1.87570012e+00  3.90973866e-01\n",
      "  3.68999451e-01 -1.00132763e+00 -8.37565541e-01  2.59581089e-01\n",
      "  1.44948339e+00 -8.48434925e-01  2.80304670e-01  4.35068369e-01\n",
      " -3.28665376e-01 -6.05952382e-01  5.84604084e-01  3.36210281e-01\n",
      "  6.40396118e-01  1.38630643e-01  7.32495189e-01  3.99595976e-01\n",
      " -3.90630603e-01 -8.99207741e-02  7.49408484e-01  1.01099658e+00\n",
      " -3.26479584e-01  7.85074055e-01  2.93667555e-01 -3.21067870e-02\n",
      " -6.07688844e-01 -4.29643601e-01 -6.73063397e-02 -2.43349120e-01\n",
      " -3.55255961e-01  3.27637523e-01 -5.81615150e-01 -4.92760062e-01\n",
      "  1.48462996e-01  5.17173350e-01  5.81791520e-01 -9.60524142e-01\n",
      "  9.31924641e-01 -4.80476856e-01  9.17646646e-01  3.04112136e-01\n",
      " -9.95920226e-02  5.82464486e-02  4.74819481e-01 -1.35144234e-01\n",
      " -6.12429917e-01  4.28507894e-01  1.16946466e-01  9.53237042e-02\n",
      " -2.02755153e-01 -3.66494536e-01 -6.87101364e-01  7.87038863e-01\n",
      "  4.07291442e-01 -9.39749703e-02 -9.65423808e-02  7.57670760e-01\n",
      " -1.67533302e+00  4.06064451e-01  2.93325305e-01  1.97494850e-01\n",
      "  5.85397519e-02  8.12230289e-01  1.33181393e+00  9.34509218e-01\n",
      "  3.43352407e-01  4.71894503e-01 -1.84502423e-01  3.21229130e-01\n",
      " -1.19148946e+00  3.46929669e-01  4.52977866e-01 -2.25411020e-02\n",
      " -3.89328867e-01 -5.93398571e-01 -5.28325438e-01  2.66629577e-01\n",
      " -8.76904964e-01  6.29899025e-01  1.21475840e+00 -3.65674108e-01\n",
      " -1.20275271e+00  2.35335201e-01  2.52051085e-01 -2.60641754e-01\n",
      " -2.90399373e-01 -6.31390452e-01 -4.81541902e-01  4.62431788e-01\n",
      " -3.89335275e-01 -4.79168147e-01  1.46205217e-01 -6.54057503e-01\n",
      " -8.91317666e-01  3.51599255e-03  8.71255219e-01  4.99225885e-01\n",
      "  4.82414998e-02  4.76821184e-01  3.02078456e-01  3.93047273e-01\n",
      "  6.45818710e-01 -4.33559954e-01 -7.41100907e-01 -3.35456990e-02\n",
      " -8.03419232e-01 -1.91750377e-02  3.90533328e-01 -2.94075191e-01\n",
      " -2.77868658e-01 -5.50889492e-01  2.00257257e-01 -1.11903787e+00\n",
      " -6.61889138e-03  9.66098532e-03 -1.68706492e-01  7.96735406e-01\n",
      " -1.09690940e+00 -8.01283598e-01  3.88985336e-01 -1.43466339e-01\n",
      "  8.22122991e-01 -2.50701219e-01 -1.58407465e-01  6.42361641e-02\n",
      " -2.16263637e-01 -2.16612369e-01 -7.66125143e-01  2.34712407e-01\n",
      " -1.80724508e-03 -3.97645146e-01 -2.83135116e-01 -2.12857902e-01\n",
      " -3.55707407e-01  5.27906358e-01  9.43268359e-01 -4.15109217e-01\n",
      "  3.75800043e-01  1.50092542e-01 -6.65342093e-01  4.84545939e-02\n",
      "  5.69220304e-01  4.48246449e-01 -6.01147056e-01  1.41034484e+00\n",
      "  1.18101522e-01 -2.37328008e-01 -1.58123687e-01 -6.87806129e-01\n",
      "  4.44440097e-01  2.05477878e-01  1.07345378e+00  3.98645073e-01\n",
      "  1.48138416e+00  1.17467904e+00 -1.30790308e-01 -1.26624453e+00\n",
      "  7.94666167e-03  2.24457845e-01  2.89736003e-01  2.05209646e-02\n",
      " -3.24376583e-01 -3.33832204e-01 -7.58542776e-01 -2.88607448e-01\n",
      " -5.82613766e-01 -1.07484305e+00 -5.75700283e-01  2.67687500e-01\n",
      "  8.91820848e-01  3.69694769e-01 -2.06388310e-01  1.45626438e+00\n",
      "  2.87544161e-01 -5.35593867e-01  5.05929068e-02  6.76053822e-01\n",
      " -2.02910513e-01  6.35243058e-01 -2.44833380e-01  9.49461311e-02\n",
      " -1.21205401e+00  1.27332553e-01 -7.63592049e-02 -1.45578712e-01\n",
      " -1.86036855e-01 -1.42499030e-01 -1.30497956e+00  9.51391637e-01\n",
      " -7.82098055e-01 -2.04790030e-02 -6.23180985e-01 -6.00565016e-01\n",
      "  1.17048764e+00 -9.76180911e-01  1.31003463e+00 -5.73181570e-01\n",
      "  4.39269513e-01 -8.31956208e-01  2.90582895e-01 -1.75488397e-01\n",
      "  8.09026718e-01 -1.18880700e-02  2.03182593e-01  2.97061294e-01\n",
      " -7.35809624e-01 -1.70715988e-01  1.59542620e+00 -3.05872589e-01\n",
      " -1.04555294e-01 -1.10819006e+00 -4.38635707e-01 -1.15355229e+00\n",
      "  4.84921545e-01 -5.76606512e-01  3.40163171e-01 -8.75441208e-02\n",
      "  3.98439348e-01 -2.51438022e-01  5.48430562e-01  4.39947933e-01\n",
      "  8.13001037e-01  3.43352884e-01 -7.56171167e-01  2.94584125e-01\n",
      " -1.93516031e-01  4.48569208e-01 -2.38329098e-01 -6.02130175e-01]\n"
     ]
    }
   ],
   "source": [
    "print(matsuko[\"embedding\"][1])"
   ]
  },
  {
   "cell_type": "code",
   "execution_count": 18,
   "id": "c3f235c4",
   "metadata": {
    "lc_cell_meme": {
     "current": "fa25b3a1-7584-11ef-a1f7-b5bbbc9eafb6",
     "execution_end_time": "2024-09-19T03:30:02.421779Z",
     "history": [
      {
       "current": "fa25b3a1-7584-11ef-a1f7-b5bbbc9eafb6",
       "next": null,
       "previous": "fa25b356-7584-11ef-8eb3-b5bbbc9eafb6"
      },
      {
       "current": "fa25b3a1-7584-11ef-a1f7-b5bbbc9eafb6",
       "next": "41a82fdb-7585-11ef-8280-b5bbbc9eafb6",
       "previous": "fa25b356-7584-11ef-8eb3-b5bbbc9eafb6"
      }
     ],
     "next": "41a82fdb-7585-11ef-8280-b5bbbc9eafb6",
     "previous": "ecea6e12-763c-11ef-8a25-6968363b8a7c"
    },
    "lc_wrapper": {
     "log_history": [
      "/home/s276322x7cf08f/AIPBL/.log/20240918/20240918-151824-0610.log",
      "/home/s276322x7cf08f/AIPBL/.log/20240918/20240918-151838-0845.log",
      "/home/s276322x7cf08f/AIPBL/.log/20240918/20240918-151844-0552.log",
      "/home/s276322x7cf08f/AIPBL/.log/20240919/20240919-113737-0743.log",
      "/home/s276322x7cf08f/AIPBL/.log/20240919/20240919-122305-0524.log",
      "/home/s276322x7cf08f/AIPBL/.log/20240919/20240919-123002-0268.log"
     ]
    }
   },
   "outputs": [],
   "source": [
    "from sklearn.linear_model import LinearRegression\n",
    "from sklearn.model_selection import train_test_split\n",
    "from sklearn.preprocessing import StandardScaler\n",
    "import numpy as np\n",
    "\n",
    "X = matsuko[\"embedding\"].tolist()\n",
    "y = matsuko[\"setai\"]\n",
    "y = np.array(y)\n",
    "\n",
    "# 標準化\n",
    "scaler = StandardScaler()\n",
    "X = scaler.fit_transform(X)\n",
    "\n",
    "X_train, X_test, y_train, y_test = train_test_split(\n",
    "    X, y, test_size=0.2, random_state=0)"
   ]
  },
  {
   "cell_type": "code",
   "execution_count": 19,
   "id": "85945a05",
   "metadata": {
    "lc_cell_meme": {
     "current": "41a82fdb-7585-11ef-8280-b5bbbc9eafb6",
     "execution_end_time": "2024-09-19T03:30:02.489196Z",
     "history": [
      {
       "current": "41a82fdb-7585-11ef-8280-b5bbbc9eafb6",
       "next": "41a83059-7585-11ef-ad2b-b5bbbc9eafb6",
       "previous": "fa25b3a1-7584-11ef-a1f7-b5bbbc9eafb6"
      },
      {
       "current": "41a82fdb-7585-11ef-8280-b5bbbc9eafb6",
       "next": "5fd3a9d2-7586-11ef-8f8d-b5bbbc9eafb6",
       "previous": "fa25b3a1-7584-11ef-a1f7-b5bbbc9eafb6"
      }
     ],
     "next": "41a83059-7585-11ef-ad2b-b5bbbc9eafb6",
     "previous": "fa25b3a1-7584-11ef-a1f7-b5bbbc9eafb6"
    },
    "lc_wrapper": {
     "log_history": [
      "/home/s276322x7cf08f/AIPBL/.log/20240918/20240918-151851-0621.log",
      "/home/s276322x7cf08f/AIPBL/.log/20240918/20240918-151935-0992.log",
      "/home/s276322x7cf08f/AIPBL/.log/20240919/20240919-113737-0965.log",
      "/home/s276322x7cf08f/AIPBL/.log/20240919/20240919-122305-0853.log",
      "/home/s276322x7cf08f/AIPBL/.log/20240919/20240919-123002-0444.log"
     ]
    }
   },
   "outputs": [
    {
     "data": {
      "text/html": [
       "<style>#sk-container-id-1 {\n",
       "  /* Definition of color scheme common for light and dark mode */\n",
       "  --sklearn-color-text: black;\n",
       "  --sklearn-color-line: gray;\n",
       "  /* Definition of color scheme for unfitted estimators */\n",
       "  --sklearn-color-unfitted-level-0: #fff5e6;\n",
       "  --sklearn-color-unfitted-level-1: #f6e4d2;\n",
       "  --sklearn-color-unfitted-level-2: #ffe0b3;\n",
       "  --sklearn-color-unfitted-level-3: chocolate;\n",
       "  /* Definition of color scheme for fitted estimators */\n",
       "  --sklearn-color-fitted-level-0: #f0f8ff;\n",
       "  --sklearn-color-fitted-level-1: #d4ebff;\n",
       "  --sklearn-color-fitted-level-2: #b3dbfd;\n",
       "  --sklearn-color-fitted-level-3: cornflowerblue;\n",
       "\n",
       "  /* Specific color for light theme */\n",
       "  --sklearn-color-text-on-default-background: var(--sg-text-color, var(--theme-code-foreground, var(--jp-content-font-color1, black)));\n",
       "  --sklearn-color-background: var(--sg-background-color, var(--theme-background, var(--jp-layout-color0, white)));\n",
       "  --sklearn-color-border-box: var(--sg-text-color, var(--theme-code-foreground, var(--jp-content-font-color1, black)));\n",
       "  --sklearn-color-icon: #696969;\n",
       "\n",
       "  @media (prefers-color-scheme: dark) {\n",
       "    /* Redefinition of color scheme for dark theme */\n",
       "    --sklearn-color-text-on-default-background: var(--sg-text-color, var(--theme-code-foreground, var(--jp-content-font-color1, white)));\n",
       "    --sklearn-color-background: var(--sg-background-color, var(--theme-background, var(--jp-layout-color0, #111)));\n",
       "    --sklearn-color-border-box: var(--sg-text-color, var(--theme-code-foreground, var(--jp-content-font-color1, white)));\n",
       "    --sklearn-color-icon: #878787;\n",
       "  }\n",
       "}\n",
       "\n",
       "#sk-container-id-1 {\n",
       "  color: var(--sklearn-color-text);\n",
       "}\n",
       "\n",
       "#sk-container-id-1 pre {\n",
       "  padding: 0;\n",
       "}\n",
       "\n",
       "#sk-container-id-1 input.sk-hidden--visually {\n",
       "  border: 0;\n",
       "  clip: rect(1px 1px 1px 1px);\n",
       "  clip: rect(1px, 1px, 1px, 1px);\n",
       "  height: 1px;\n",
       "  margin: -1px;\n",
       "  overflow: hidden;\n",
       "  padding: 0;\n",
       "  position: absolute;\n",
       "  width: 1px;\n",
       "}\n",
       "\n",
       "#sk-container-id-1 div.sk-dashed-wrapped {\n",
       "  border: 1px dashed var(--sklearn-color-line);\n",
       "  margin: 0 0.4em 0.5em 0.4em;\n",
       "  box-sizing: border-box;\n",
       "  padding-bottom: 0.4em;\n",
       "  background-color: var(--sklearn-color-background);\n",
       "}\n",
       "\n",
       "#sk-container-id-1 div.sk-container {\n",
       "  /* jupyter's `normalize.less` sets `[hidden] { display: none; }`\n",
       "     but bootstrap.min.css set `[hidden] { display: none !important; }`\n",
       "     so we also need the `!important` here to be able to override the\n",
       "     default hidden behavior on the sphinx rendered scikit-learn.org.\n",
       "     See: https://github.com/scikit-learn/scikit-learn/issues/21755 */\n",
       "  display: inline-block !important;\n",
       "  position: relative;\n",
       "}\n",
       "\n",
       "#sk-container-id-1 div.sk-text-repr-fallback {\n",
       "  display: none;\n",
       "}\n",
       "\n",
       "div.sk-parallel-item,\n",
       "div.sk-serial,\n",
       "div.sk-item {\n",
       "  /* draw centered vertical line to link estimators */\n",
       "  background-image: linear-gradient(var(--sklearn-color-text-on-default-background), var(--sklearn-color-text-on-default-background));\n",
       "  background-size: 2px 100%;\n",
       "  background-repeat: no-repeat;\n",
       "  background-position: center center;\n",
       "}\n",
       "\n",
       "/* Parallel-specific style estimator block */\n",
       "\n",
       "#sk-container-id-1 div.sk-parallel-item::after {\n",
       "  content: \"\";\n",
       "  width: 100%;\n",
       "  border-bottom: 2px solid var(--sklearn-color-text-on-default-background);\n",
       "  flex-grow: 1;\n",
       "}\n",
       "\n",
       "#sk-container-id-1 div.sk-parallel {\n",
       "  display: flex;\n",
       "  align-items: stretch;\n",
       "  justify-content: center;\n",
       "  background-color: var(--sklearn-color-background);\n",
       "  position: relative;\n",
       "}\n",
       "\n",
       "#sk-container-id-1 div.sk-parallel-item {\n",
       "  display: flex;\n",
       "  flex-direction: column;\n",
       "}\n",
       "\n",
       "#sk-container-id-1 div.sk-parallel-item:first-child::after {\n",
       "  align-self: flex-end;\n",
       "  width: 50%;\n",
       "}\n",
       "\n",
       "#sk-container-id-1 div.sk-parallel-item:last-child::after {\n",
       "  align-self: flex-start;\n",
       "  width: 50%;\n",
       "}\n",
       "\n",
       "#sk-container-id-1 div.sk-parallel-item:only-child::after {\n",
       "  width: 0;\n",
       "}\n",
       "\n",
       "/* Serial-specific style estimator block */\n",
       "\n",
       "#sk-container-id-1 div.sk-serial {\n",
       "  display: flex;\n",
       "  flex-direction: column;\n",
       "  align-items: center;\n",
       "  background-color: var(--sklearn-color-background);\n",
       "  padding-right: 1em;\n",
       "  padding-left: 1em;\n",
       "}\n",
       "\n",
       "\n",
       "/* Toggleable style: style used for estimator/Pipeline/ColumnTransformer box that is\n",
       "clickable and can be expanded/collapsed.\n",
       "- Pipeline and ColumnTransformer use this feature and define the default style\n",
       "- Estimators will overwrite some part of the style using the `sk-estimator` class\n",
       "*/\n",
       "\n",
       "/* Pipeline and ColumnTransformer style (default) */\n",
       "\n",
       "#sk-container-id-1 div.sk-toggleable {\n",
       "  /* Default theme specific background. It is overwritten whether we have a\n",
       "  specific estimator or a Pipeline/ColumnTransformer */\n",
       "  background-color: var(--sklearn-color-background);\n",
       "}\n",
       "\n",
       "/* Toggleable label */\n",
       "#sk-container-id-1 label.sk-toggleable__label {\n",
       "  cursor: pointer;\n",
       "  display: block;\n",
       "  width: 100%;\n",
       "  margin-bottom: 0;\n",
       "  padding: 0.5em;\n",
       "  box-sizing: border-box;\n",
       "  text-align: center;\n",
       "}\n",
       "\n",
       "#sk-container-id-1 label.sk-toggleable__label-arrow:before {\n",
       "  /* Arrow on the left of the label */\n",
       "  content: \"▸\";\n",
       "  float: left;\n",
       "  margin-right: 0.25em;\n",
       "  color: var(--sklearn-color-icon);\n",
       "}\n",
       "\n",
       "#sk-container-id-1 label.sk-toggleable__label-arrow:hover:before {\n",
       "  color: var(--sklearn-color-text);\n",
       "}\n",
       "\n",
       "/* Toggleable content - dropdown */\n",
       "\n",
       "#sk-container-id-1 div.sk-toggleable__content {\n",
       "  max-height: 0;\n",
       "  max-width: 0;\n",
       "  overflow: hidden;\n",
       "  text-align: left;\n",
       "  /* unfitted */\n",
       "  background-color: var(--sklearn-color-unfitted-level-0);\n",
       "}\n",
       "\n",
       "#sk-container-id-1 div.sk-toggleable__content.fitted {\n",
       "  /* fitted */\n",
       "  background-color: var(--sklearn-color-fitted-level-0);\n",
       "}\n",
       "\n",
       "#sk-container-id-1 div.sk-toggleable__content pre {\n",
       "  margin: 0.2em;\n",
       "  border-radius: 0.25em;\n",
       "  color: var(--sklearn-color-text);\n",
       "  /* unfitted */\n",
       "  background-color: var(--sklearn-color-unfitted-level-0);\n",
       "}\n",
       "\n",
       "#sk-container-id-1 div.sk-toggleable__content.fitted pre {\n",
       "  /* unfitted */\n",
       "  background-color: var(--sklearn-color-fitted-level-0);\n",
       "}\n",
       "\n",
       "#sk-container-id-1 input.sk-toggleable__control:checked~div.sk-toggleable__content {\n",
       "  /* Expand drop-down */\n",
       "  max-height: 200px;\n",
       "  max-width: 100%;\n",
       "  overflow: auto;\n",
       "}\n",
       "\n",
       "#sk-container-id-1 input.sk-toggleable__control:checked~label.sk-toggleable__label-arrow:before {\n",
       "  content: \"▾\";\n",
       "}\n",
       "\n",
       "/* Pipeline/ColumnTransformer-specific style */\n",
       "\n",
       "#sk-container-id-1 div.sk-label input.sk-toggleable__control:checked~label.sk-toggleable__label {\n",
       "  color: var(--sklearn-color-text);\n",
       "  background-color: var(--sklearn-color-unfitted-level-2);\n",
       "}\n",
       "\n",
       "#sk-container-id-1 div.sk-label.fitted input.sk-toggleable__control:checked~label.sk-toggleable__label {\n",
       "  background-color: var(--sklearn-color-fitted-level-2);\n",
       "}\n",
       "\n",
       "/* Estimator-specific style */\n",
       "\n",
       "/* Colorize estimator box */\n",
       "#sk-container-id-1 div.sk-estimator input.sk-toggleable__control:checked~label.sk-toggleable__label {\n",
       "  /* unfitted */\n",
       "  background-color: var(--sklearn-color-unfitted-level-2);\n",
       "}\n",
       "\n",
       "#sk-container-id-1 div.sk-estimator.fitted input.sk-toggleable__control:checked~label.sk-toggleable__label {\n",
       "  /* fitted */\n",
       "  background-color: var(--sklearn-color-fitted-level-2);\n",
       "}\n",
       "\n",
       "#sk-container-id-1 div.sk-label label.sk-toggleable__label,\n",
       "#sk-container-id-1 div.sk-label label {\n",
       "  /* The background is the default theme color */\n",
       "  color: var(--sklearn-color-text-on-default-background);\n",
       "}\n",
       "\n",
       "/* On hover, darken the color of the background */\n",
       "#sk-container-id-1 div.sk-label:hover label.sk-toggleable__label {\n",
       "  color: var(--sklearn-color-text);\n",
       "  background-color: var(--sklearn-color-unfitted-level-2);\n",
       "}\n",
       "\n",
       "/* Label box, darken color on hover, fitted */\n",
       "#sk-container-id-1 div.sk-label.fitted:hover label.sk-toggleable__label.fitted {\n",
       "  color: var(--sklearn-color-text);\n",
       "  background-color: var(--sklearn-color-fitted-level-2);\n",
       "}\n",
       "\n",
       "/* Estimator label */\n",
       "\n",
       "#sk-container-id-1 div.sk-label label {\n",
       "  font-family: monospace;\n",
       "  font-weight: bold;\n",
       "  display: inline-block;\n",
       "  line-height: 1.2em;\n",
       "}\n",
       "\n",
       "#sk-container-id-1 div.sk-label-container {\n",
       "  text-align: center;\n",
       "}\n",
       "\n",
       "/* Estimator-specific */\n",
       "#sk-container-id-1 div.sk-estimator {\n",
       "  font-family: monospace;\n",
       "  border: 1px dotted var(--sklearn-color-border-box);\n",
       "  border-radius: 0.25em;\n",
       "  box-sizing: border-box;\n",
       "  margin-bottom: 0.5em;\n",
       "  /* unfitted */\n",
       "  background-color: var(--sklearn-color-unfitted-level-0);\n",
       "}\n",
       "\n",
       "#sk-container-id-1 div.sk-estimator.fitted {\n",
       "  /* fitted */\n",
       "  background-color: var(--sklearn-color-fitted-level-0);\n",
       "}\n",
       "\n",
       "/* on hover */\n",
       "#sk-container-id-1 div.sk-estimator:hover {\n",
       "  /* unfitted */\n",
       "  background-color: var(--sklearn-color-unfitted-level-2);\n",
       "}\n",
       "\n",
       "#sk-container-id-1 div.sk-estimator.fitted:hover {\n",
       "  /* fitted */\n",
       "  background-color: var(--sklearn-color-fitted-level-2);\n",
       "}\n",
       "\n",
       "/* Specification for estimator info (e.g. \"i\" and \"?\") */\n",
       "\n",
       "/* Common style for \"i\" and \"?\" */\n",
       "\n",
       ".sk-estimator-doc-link,\n",
       "a:link.sk-estimator-doc-link,\n",
       "a:visited.sk-estimator-doc-link {\n",
       "  float: right;\n",
       "  font-size: smaller;\n",
       "  line-height: 1em;\n",
       "  font-family: monospace;\n",
       "  background-color: var(--sklearn-color-background);\n",
       "  border-radius: 1em;\n",
       "  height: 1em;\n",
       "  width: 1em;\n",
       "  text-decoration: none !important;\n",
       "  margin-left: 1ex;\n",
       "  /* unfitted */\n",
       "  border: var(--sklearn-color-unfitted-level-1) 1pt solid;\n",
       "  color: var(--sklearn-color-unfitted-level-1);\n",
       "}\n",
       "\n",
       ".sk-estimator-doc-link.fitted,\n",
       "a:link.sk-estimator-doc-link.fitted,\n",
       "a:visited.sk-estimator-doc-link.fitted {\n",
       "  /* fitted */\n",
       "  border: var(--sklearn-color-fitted-level-1) 1pt solid;\n",
       "  color: var(--sklearn-color-fitted-level-1);\n",
       "}\n",
       "\n",
       "/* On hover */\n",
       "div.sk-estimator:hover .sk-estimator-doc-link:hover,\n",
       ".sk-estimator-doc-link:hover,\n",
       "div.sk-label-container:hover .sk-estimator-doc-link:hover,\n",
       ".sk-estimator-doc-link:hover {\n",
       "  /* unfitted */\n",
       "  background-color: var(--sklearn-color-unfitted-level-3);\n",
       "  color: var(--sklearn-color-background);\n",
       "  text-decoration: none;\n",
       "}\n",
       "\n",
       "div.sk-estimator.fitted:hover .sk-estimator-doc-link.fitted:hover,\n",
       ".sk-estimator-doc-link.fitted:hover,\n",
       "div.sk-label-container:hover .sk-estimator-doc-link.fitted:hover,\n",
       ".sk-estimator-doc-link.fitted:hover {\n",
       "  /* fitted */\n",
       "  background-color: var(--sklearn-color-fitted-level-3);\n",
       "  color: var(--sklearn-color-background);\n",
       "  text-decoration: none;\n",
       "}\n",
       "\n",
       "/* Span, style for the box shown on hovering the info icon */\n",
       ".sk-estimator-doc-link span {\n",
       "  display: none;\n",
       "  z-index: 9999;\n",
       "  position: relative;\n",
       "  font-weight: normal;\n",
       "  right: .2ex;\n",
       "  padding: .5ex;\n",
       "  margin: .5ex;\n",
       "  width: min-content;\n",
       "  min-width: 20ex;\n",
       "  max-width: 50ex;\n",
       "  color: var(--sklearn-color-text);\n",
       "  box-shadow: 2pt 2pt 4pt #999;\n",
       "  /* unfitted */\n",
       "  background: var(--sklearn-color-unfitted-level-0);\n",
       "  border: .5pt solid var(--sklearn-color-unfitted-level-3);\n",
       "}\n",
       "\n",
       ".sk-estimator-doc-link.fitted span {\n",
       "  /* fitted */\n",
       "  background: var(--sklearn-color-fitted-level-0);\n",
       "  border: var(--sklearn-color-fitted-level-3);\n",
       "}\n",
       "\n",
       ".sk-estimator-doc-link:hover span {\n",
       "  display: block;\n",
       "}\n",
       "\n",
       "/* \"?\"-specific style due to the `<a>` HTML tag */\n",
       "\n",
       "#sk-container-id-1 a.estimator_doc_link {\n",
       "  float: right;\n",
       "  font-size: 1rem;\n",
       "  line-height: 1em;\n",
       "  font-family: monospace;\n",
       "  background-color: var(--sklearn-color-background);\n",
       "  border-radius: 1rem;\n",
       "  height: 1rem;\n",
       "  width: 1rem;\n",
       "  text-decoration: none;\n",
       "  /* unfitted */\n",
       "  color: var(--sklearn-color-unfitted-level-1);\n",
       "  border: var(--sklearn-color-unfitted-level-1) 1pt solid;\n",
       "}\n",
       "\n",
       "#sk-container-id-1 a.estimator_doc_link.fitted {\n",
       "  /* fitted */\n",
       "  border: var(--sklearn-color-fitted-level-1) 1pt solid;\n",
       "  color: var(--sklearn-color-fitted-level-1);\n",
       "}\n",
       "\n",
       "/* On hover */\n",
       "#sk-container-id-1 a.estimator_doc_link:hover {\n",
       "  /* unfitted */\n",
       "  background-color: var(--sklearn-color-unfitted-level-3);\n",
       "  color: var(--sklearn-color-background);\n",
       "  text-decoration: none;\n",
       "}\n",
       "\n",
       "#sk-container-id-1 a.estimator_doc_link.fitted:hover {\n",
       "  /* fitted */\n",
       "  background-color: var(--sklearn-color-fitted-level-3);\n",
       "}\n",
       "</style><div id=\"sk-container-id-1\" class=\"sk-top-container\"><div class=\"sk-text-repr-fallback\"><pre>LinearRegression()</pre><b>In a Jupyter environment, please rerun this cell to show the HTML representation or trust the notebook. <br />On GitHub, the HTML representation is unable to render, please try loading this page with nbviewer.org.</b></div><div class=\"sk-container\" hidden><div class=\"sk-item\"><div class=\"sk-estimator fitted sk-toggleable\"><input class=\"sk-toggleable__control sk-hidden--visually\" id=\"sk-estimator-id-1\" type=\"checkbox\" checked><label for=\"sk-estimator-id-1\" class=\"sk-toggleable__label fitted sk-toggleable__label-arrow fitted\">&nbsp;&nbsp;LinearRegression<a class=\"sk-estimator-doc-link fitted\" rel=\"noreferrer\" target=\"_blank\" href=\"https://scikit-learn.org/1.5/modules/generated/sklearn.linear_model.LinearRegression.html\">?<span>Documentation for LinearRegression</span></a><span class=\"sk-estimator-doc-link fitted\">i<span>Fitted</span></span></label><div class=\"sk-toggleable__content fitted\"><pre>LinearRegression()</pre></div> </div></div></div></div>"
      ],
      "text/plain": [
       "LinearRegression()"
      ]
     },
     "execution_count": 19,
     "metadata": {},
     "output_type": "execute_result"
    }
   ],
   "source": [
    "# 線形回帰\n",
    "lr = LinearRegression()\n",
    "lr.fit(X_train,y_train)"
   ]
  },
  {
   "cell_type": "code",
   "execution_count": 20,
   "id": "31bdd14d",
   "metadata": {
    "lc_cell_meme": {
     "current": "41a83059-7585-11ef-ad2b-b5bbbc9eafb6",
     "execution_end_time": "2024-09-19T03:30:02.555424Z",
     "history": [
      {
       "current": "41a83059-7585-11ef-ad2b-b5bbbc9eafb6",
       "next": "41a830b8-7585-11ef-ba73-b5bbbc9eafb6",
       "previous": "41a82fdb-7585-11ef-8280-b5bbbc9eafb6"
      },
      {
       "current": "41a83059-7585-11ef-ad2b-b5bbbc9eafb6",
       "next": "41a830b8-7585-11ef-ba73-b5bbbc9eafb6",
       "previous": "5fd3a9d2-7586-11ef-8f8d-b5bbbc9eafb6"
      },
      {
       "current": "41a83059-7585-11ef-ad2b-b5bbbc9eafb6",
       "next": "7dd4fa67-7587-11ef-943f-b5bbbc9eafb6",
       "previous": "5fd3a9d2-7586-11ef-8f8d-b5bbbc9eafb6"
      },
      {
       "current": "41a83059-7585-11ef-ad2b-b5bbbc9eafb6",
       "next": "7dd4fa67-7587-11ef-943f-b5bbbc9eafb6",
       "previous": "41a82fdb-7585-11ef-8280-b5bbbc9eafb6"
      }
     ],
     "next": "ee6b1f07-762f-11ef-a5af-6968363b8a7c",
     "previous": "41a82fdb-7585-11ef-8280-b5bbbc9eafb6"
    },
    "lc_wrapper": {
     "log_history": [
      "/home/s276322x7cf08f/AIPBL/.log/20240918/20240918-151938-0815.log",
      "/home/s276322x7cf08f/AIPBL/.log/20240918/20240918-151950-0141.log",
      "/home/s276322x7cf08f/AIPBL/.log/20240918/20240918-152219-0392.log",
      "/home/s276322x7cf08f/AIPBL/.log/20240918/20240918-152253-0435.log",
      "/home/s276322x7cf08f/AIPBL/.log/20240918/20240918-152540-0157.log",
      "/home/s276322x7cf08f/AIPBL/.log/20240918/20240918-152601-0318.log",
      "/home/s276322x7cf08f/AIPBL/.log/20240918/20240918-152606-0525.log",
      "/home/s276322x7cf08f/AIPBL/.log/20240918/20240918-152618-0525.log",
      "/home/s276322x7cf08f/AIPBL/.log/20240918/20240918-152629-0142.log",
      "/home/s276322x7cf08f/AIPBL/.log/20240918/20240918-160755-0706.log",
      "/home/s276322x7cf08f/AIPBL/.log/20240918/20240918-160803-0475.log",
      "/home/s276322x7cf08f/AIPBL/.log/20240919/20240919-113738-0045.log",
      "/home/s276322x7cf08f/AIPBL/.log/20240919/20240919-122306-0120.log",
      "/home/s276322x7cf08f/AIPBL/.log/20240919/20240919-123002-0512.log"
     ]
    },
    "scrolled": true
   },
   "outputs": [
    {
     "name": "stdout",
     "output_type": "stream",
     "text": [
      "実際の値 [ 9.9047619   8.6047619   8.9047619  10.40634921  9.19047619  9.69365079\n",
      " 13.57142857 10.62539683  8.85396825 10.44603175  9.25079365  9.18571429\n",
      " 11.26825397 11.94761905  7.85238095 12.02698413 12.47460317 13.50952381\n",
      " 11.86666667  8.62539683  9.02698413  9.39206349 10.84285714  8.04285714\n",
      "  9.28571429 10.44444444 10.11111111  9.9031746   9.84444444  9.94444444\n",
      "  9.17301587 10.76031746  8.37619048  9.11111111 12.08253968  8.86507937]\n",
      "予測値: [13.93344821 10.08661571 12.74341346 11.56571385  7.87382419  9.56571655\n",
      " 10.92484278  9.46948253 10.52765501 10.978505    7.97766273 10.34168345\n",
      " 11.59013205 11.31477799  8.38049825  9.45169573 10.08146021 13.1121728\n",
      " 10.5792672  11.8464164  11.3537302  11.10003037 10.66981678  9.19456216\n",
      " 10.87895664  8.75860811 12.97304153 13.24826612 10.66220866 11.06741748\n",
      " 14.02348564 11.76829169  9.25657657 11.37549704 11.53745199  8.3154647 ]\n",
      "平均二乗誤差 (MSE): 3.983\n"
     ]
    }
   ],
   "source": [
    "from sklearn.metrics import mean_squared_error\n",
    "\n",
    "# テストデータで予測を実行\n",
    "y_pred = lr.predict(X_test)\n",
    "\n",
    "# 平均二乗誤差 (MSE) を計算\n",
    "mse = mean_squared_error(y_test, y_pred)\n",
    "\n",
    "print(\"実際の値\", y_test)\n",
    "# 予測結果の表示\n",
    "print('予測値:', y_pred)\n",
    "\n",
    "# MSEを表示\n",
    "print('平均二乗誤差 (MSE): {:.3f}'.format(mse))"
   ]
  },
  {
   "cell_type": "code",
   "execution_count": 21,
   "id": "0ded0299",
   "metadata": {
    "lc_cell_meme": {
     "current": "ee6b1f07-762f-11ef-a5af-6968363b8a7c",
     "execution_end_time": "2024-09-19T03:30:02.951055Z",
     "history": [
      {
       "current": "ee6b1f07-762f-11ef-a5af-6968363b8a7c",
       "next": "7dd4fa67-7587-11ef-943f-b5bbbc9eafb6",
       "previous": "41a83059-7585-11ef-ad2b-b5bbbc9eafb6"
      }
     ],
     "next": "59ac3f81-7630-11ef-9850-6968363b8a7c",
     "previous": "41a83059-7585-11ef-ad2b-b5bbbc9eafb6"
    },
    "lc_wrapper": {
     "log_history": [
      "/home/s276322x7cf08f/AIPBL/.log/20240919/20240919-113738-0079.log",
      "/home/s276322x7cf08f/AIPBL/.log/20240919/20240919-113914-0645.log",
      "/home/s276322x7cf08f/AIPBL/.log/20240919/20240919-114040-0139.log",
      "/home/s276322x7cf08f/AIPBL/.log/20240919/20240919-122307-0463.log",
      "/home/s276322x7cf08f/AIPBL/.log/20240919/20240919-123002-0572.log"
     ]
    },
    "scrolled": true
   },
   "outputs": [
    {
     "data": {
      "image/png": "[encoded data removed]",
      "text/plain": [
       "<Figure size 432x288 with 1 Axes>"
      ]
     },
     "metadata": {
      "needs_background": "light"
     },
     "output_type": "display_data"
    }
   ],
   "source": [
    "import matplotlib.pyplot as plt # 図の描画用のライブラリ\n",
    "import seaborn as sns # データ可視化ライブラリ\n",
    "\n",
    "# Jupyter notebook上に図表を表示する設定\n",
    "%matplotlib inline\n",
    "\n",
    "plt.xlabel(\"y_predict\")\n",
    "plt.ylabel(\"y_test\")\n",
    "plt.scatter(y_pred, y_test)\n",
    "plt.savefig(\"tbs_plot.png\",bbox_inches='tight')\n",
    "plt.show()"
   ]
  },
  {
   "cell_type": "code",
   "execution_count": 22,
   "id": "aa4e76ee",
   "metadata": {
    "lc_cell_meme": {
     "current": "59ac3f81-7630-11ef-9850-6968363b8a7c",
     "execution_end_time": "2024-09-19T03:30:02.987419Z",
     "history": [
      {
       "current": "59ac3f81-7630-11ef-9850-6968363b8a7c",
       "next": "7dd4fa67-7587-11ef-943f-b5bbbc9eafb6",
       "previous": "ee6b1f07-762f-11ef-a5af-6968363b8a7c"
      },
      {
       "current": "59ac3f81-7630-11ef-9850-6968363b8a7c",
       "next": "e8c3464b-7630-11ef-b0b4-6968363b8a7c",
       "previous": "ee6b1f07-762f-11ef-a5af-6968363b8a7c"
      }
     ],
     "next": "30465838-7631-11ef-ae65-6968363b8a7c",
     "previous": "ee6b1f07-762f-11ef-a5af-6968363b8a7c"
    },
    "lc_wrapper": {
     "log_history": [
      "/home/s276322x7cf08f/AIPBL/.log/20240919/20240919-113834-0667.log",
      "/home/s276322x7cf08f/AIPBL/.log/20240919/20240919-113840-0024.log",
      "/home/s276322x7cf08f/AIPBL/.log/20240919/20240919-122312-0153.log",
      "/home/s276322x7cf08f/AIPBL/.log/20240919/20240919-123002-0975.log"
     ]
    }
   },
   "outputs": [
    {
     "name": "stdout",
     "output_type": "stream",
     "text": [
      "0.23167277217091128\n"
     ]
    }
   ],
   "source": [
    "# 相関係数を計算\n",
    "correlation_coefficient = np.corrcoef(y_pred, y_test)[0, 1]\n",
    "print(correlation_coefficient)"
   ]
  },
  {
   "cell_type": "markdown",
   "id": "c7bc99a2",
   "metadata": {
    "lc_cell_meme": {
     "current": "30465838-7631-11ef-ae65-6968363b8a7c",
     "next": "e8c3464b-7630-11ef-b0b4-6968363b8a7c",
     "previous": "59ac3f81-7630-11ef-9850-6968363b8a7c"
    }
   },
   "source": [
    "#### 全部比較"
   ]
  },
  {
   "cell_type": "code",
   "execution_count": 23,
   "id": "95371713",
   "metadata": {
    "lc_cell_meme": {
     "current": "e8c3464b-7630-11ef-b0b4-6968363b8a7c",
     "execution_end_time": "2024-09-19T03:30:08.436159Z",
     "history": [
      {
       "current": "e8c3464b-7630-11ef-b0b4-6968363b8a7c",
       "next": "e8c3490b-7630-11ef-a64b-6968363b8a7c",
       "previous": "59ac3f81-7630-11ef-9850-6968363b8a7c"
      }
     ],
     "next": "e8c3490b-7630-11ef-a64b-6968363b8a7c",
     "previous": "30465838-7631-11ef-ae65-6968363b8a7c"
    },
    "lc_wrapper": {
     "log_history": [
      "/home/s276322x7cf08f/AIPBL/.log/20240919/20240919-114236-0106.log",
      "/home/s276322x7cf08f/AIPBL/.log/20240919/20240919-122314-0053.log",
      "/home/s276322x7cf08f/AIPBL/.log/20240919/20240919-123003-0003.log"
     ]
    }
   },
   "outputs": [
    {
     "name": "stderr",
     "output_type": "stream",
     "text": [
      "\r",
      "Regressoin models:   0%|          | 0/7 [00:00<?, ?it/s]"
     ]
    },
    {
     "name": "stdout",
     "output_type": "stream",
     "text": [
      "Linear\n",
      "Ridge\n",
      "Lasso\n",
      "ElasticNet\n",
      "DecisionTree\n"
     ]
    },
    {
     "name": "stderr",
     "output_type": "stream",
     "text": [
      "\r",
      "Regressoin models:  71%|███████▏  | 5/7 [00:00<00:00, 27.48it/s]"
     ]
    },
    {
     "name": "stdout",
     "output_type": "stream",
     "text": [
      "RandomForest\n",
      "AdaBoost\n"
     ]
    },
    {
     "name": "stderr",
     "output_type": "stream",
     "text": [
      "Regressoin models: 100%|██████████| 7/7 [00:05<00:00,  1.32it/s]\n"
     ]
    }
   ],
   "source": [
    "from sklearn.linear_model import LinearRegression # 線形回帰\n",
    "from sklearn.linear_model import Ridge # リッジ回帰\n",
    "from sklearn.linear_model import Lasso # ラッソ回帰 \n",
    "from sklearn.linear_model import ElasticNet # エラスティックネット，リッジ回帰とLasso回帰の折衷案\n",
    "from sklearn.tree import DecisionTreeRegressor # 決定木\n",
    "from sklearn.ensemble import RandomForestRegressor # ランダムフォレスト\n",
    "from sklearn.ensemble import AdaBoostRegressor # ブースティング（Adaboost）\n",
    "\n",
    "from sklearn.metrics import mean_absolute_error\n",
    "\n",
    "from tqdm import tqdm\n",
    "\n",
    "reg_names = ['Linear','Ridge','Lasso','ElasticNet','DecisionTree','RandomForest', 'AdaBoost']\n",
    "\n",
    "regressors =[\n",
    "    LinearRegression(),\n",
    "    Ridge(alpha=10),\n",
    "    Lasso(alpha=0.1),\n",
    "    ElasticNet(alpha=1.0, l1_ratio=0.5),\n",
    "    DecisionTreeRegressor(),\n",
    "    RandomForestRegressor(),\n",
    "    AdaBoostRegressor()\n",
    "]\n",
    "\n",
    "# モデル作成と検証\n",
    "result_df = pd.DataFrame()\n",
    "for name, reg in tqdm(zip(reg_names, regressors), total = len(reg_names), desc = \"Regressoin models\"):\n",
    "    print(name)\n",
    "    reg.fit(X_train, y_train)\n",
    "    y_predict = reg.predict(X_test)\n",
    "    mae  = mean_absolute_error(y_test, y_predict)\n",
    "    rmse = np.sqrt(mean_squared_error(y_test, y_predict))\n",
    "\n",
    "    tmp_df = pd.DataFrame(data=[[name,mae,rmse]],columns=['name','MAE','RMSE'])\n",
    "    result_df = pd.concat([result_df,tmp_df])"
   ]
  },
  {
   "cell_type": "code",
   "execution_count": 36,
   "id": "4c31e02a",
   "metadata": {
    "lc_cell_meme": {
     "current": "e8c3490b-7630-11ef-a64b-6968363b8a7c",
     "execution_end_time": "2024-09-19T04:17:09.656419Z",
     "history": [
      {
       "current": "e8c3490b-7630-11ef-a64b-6968363b8a7c",
       "next": "e8c34985-7630-11ef-bb1c-6968363b8a7c",
       "previous": "e8c3464b-7630-11ef-b0b4-6968363b8a7c"
      }
     ],
     "next": "e8c34985-7630-11ef-bb1c-6968363b8a7c-1-7978",
     "previous": "e8c3464b-7630-11ef-b0b4-6968363b8a7c"
    },
    "lc_wrapper": {
     "log_history": [
      "/home/s276322x7cf08f/AIPBL/.log/20240919/20240919-114242-0317.log",
      "/home/s276322x7cf08f/AIPBL/.log/20240919/20240919-114322-0380.log",
      "/home/s276322x7cf08f/AIPBL/.log/20240919/20240919-122319-0905.log",
      "/home/s276322x7cf08f/AIPBL/.log/20240919/20240919-123008-0459.log",
      "/home/s276322x7cf08f/AIPBL/.log/20240919/20240919-131709-0625.log"
     ]
    },
    "scrolled": true
   },
   "outputs": [
    {
     "data": {
      "text/html": [
       "<div>\n",
       "<style scoped>\n",
       "    .dataframe tbody tr th:only-of-type {\n",
       "        vertical-align: middle;\n",
       "    }\n",
       "\n",
       "    .dataframe tbody tr th {\n",
       "        vertical-align: top;\n",
       "    }\n",
       "\n",
       "    .dataframe thead th {\n",
       "        text-align: right;\n",
       "    }\n",
       "</style>\n",
       "<table border=\"1\" class=\"dataframe\">\n",
       "  <thead>\n",
       "    <tr style=\"text-align: right;\">\n",
       "      <th></th>\n",
       "      <th>name</th>\n",
       "      <th>MAE</th>\n",
       "      <th>RMSE</th>\n",
       "    </tr>\n",
       "  </thead>\n",
       "  <tbody>\n",
       "    <tr>\n",
       "      <th>0</th>\n",
       "      <td>Linear</td>\n",
       "      <td>1.628671</td>\n",
       "      <td>1.995781</td>\n",
       "    </tr>\n",
       "    <tr>\n",
       "      <th>0</th>\n",
       "      <td>Ridge</td>\n",
       "      <td>1.583315</td>\n",
       "      <td>1.942793</td>\n",
       "    </tr>\n",
       "    <tr>\n",
       "      <th>0</th>\n",
       "      <td>Lasso</td>\n",
       "      <td>1.391131</td>\n",
       "      <td>1.661952</td>\n",
       "    </tr>\n",
       "    <tr>\n",
       "      <th>0</th>\n",
       "      <td>ElasticNet</td>\n",
       "      <td>1.227735</td>\n",
       "      <td>1.466532</td>\n",
       "    </tr>\n",
       "    <tr>\n",
       "      <th>0</th>\n",
       "      <td>DecisionTree</td>\n",
       "      <td>2.115476</td>\n",
       "      <td>2.418186</td>\n",
       "    </tr>\n",
       "    <tr>\n",
       "      <th>0</th>\n",
       "      <td>RandomForest</td>\n",
       "      <td>1.222658</td>\n",
       "      <td>1.453673</td>\n",
       "    </tr>\n",
       "    <tr>\n",
       "      <th>0</th>\n",
       "      <td>AdaBoost</td>\n",
       "      <td>1.199568</td>\n",
       "      <td>1.417624</td>\n",
       "    </tr>\n",
       "  </tbody>\n",
       "</table>\n",
       "</div>"
      ],
      "text/plain": [
       "           name       MAE      RMSE\n",
       "0        Linear  1.628671  1.995781\n",
       "0         Ridge  1.583315  1.942793\n",
       "0         Lasso  1.391131  1.661952\n",
       "0    ElasticNet  1.227735  1.466532\n",
       "0  DecisionTree  2.115476  2.418186\n",
       "0  RandomForest  1.222658  1.453673\n",
       "0      AdaBoost  1.199568  1.417624"
      ]
     },
     "execution_count": 36,
     "metadata": {},
     "output_type": "execute_result"
    }
   ],
   "source": [
    "result_df # 結果をみてみる\n",
    "# どうやらAdaBoostがよさげらしい"
   ]
  },
  {
   "cell_type": "markdown",
   "id": "15a8ca5e",
   "metadata": {
    "lc_cell_meme": {
     "current": "e8c34985-7630-11ef-bb1c-6968363b8a7c-1-7978",
     "history": [
      {
       "current": "e8c34985-7630-11ef-bb1c-6968363b8a7c-1-7978",
       "next": "7dd4fa67-7587-11ef-943f-b5bbbc9eafb6",
       "previous": "e8c3490b-7630-11ef-a64b-6968363b8a7c"
      }
     ],
     "next": "30465aa9-7631-11ef-a3e9-6968363b8a7c",
     "previous": "e8c3490b-7630-11ef-a64b-6968363b8a7c"
    }
   },
   "source": [
    "#### AdaBoostを使用"
   ]
  },
  {
   "cell_type": "code",
   "execution_count": 37,
   "id": "7f1d0cf0",
   "metadata": {
    "lc_cell_meme": {
     "current": "30465aa9-7631-11ef-a3e9-6968363b8a7c",
     "execution_end_time": "2024-09-19T04:17:48.886605Z",
     "next": "30465bb5-7631-11ef-a10b-6968363b8a7c",
     "previous": "e8c34985-7630-11ef-bb1c-6968363b8a7c-1-7978"
    },
    "lc_wrapper": {
     "log_history": [
      "/home/s276322x7cf08f/AIPBL/.log/20240919/20240919-114603-0529.log",
      "/home/s276322x7cf08f/AIPBL/.log/20240919/20240919-122322-0004.log",
      "/home/s276322x7cf08f/AIPBL/.log/20240919/20240919-123008-0506.log",
      "/home/s276322x7cf08f/AIPBL/.log/20240919/20240919-131747-0402.log"
     ]
    }
   },
   "outputs": [
    {
     "data": {
      "text/html": [
       "<style>#sk-container-id-3 {\n",
       "  /* Definition of color scheme common for light and dark mode */\n",
       "  --sklearn-color-text: black;\n",
       "  --sklearn-color-line: gray;\n",
       "  /* Definition of color scheme for unfitted estimators */\n",
       "  --sklearn-color-unfitted-level-0: #fff5e6;\n",
       "  --sklearn-color-unfitted-level-1: #f6e4d2;\n",
       "  --sklearn-color-unfitted-level-2: #ffe0b3;\n",
       "  --sklearn-color-unfitted-level-3: chocolate;\n",
       "  /* Definition of color scheme for fitted estimators */\n",
       "  --sklearn-color-fitted-level-0: #f0f8ff;\n",
       "  --sklearn-color-fitted-level-1: #d4ebff;\n",
       "  --sklearn-color-fitted-level-2: #b3dbfd;\n",
       "  --sklearn-color-fitted-level-3: cornflowerblue;\n",
       "\n",
       "  /* Specific color for light theme */\n",
       "  --sklearn-color-text-on-default-background: var(--sg-text-color, var(--theme-code-foreground, var(--jp-content-font-color1, black)));\n",
       "  --sklearn-color-background: var(--sg-background-color, var(--theme-background, var(--jp-layout-color0, white)));\n",
       "  --sklearn-color-border-box: var(--sg-text-color, var(--theme-code-foreground, var(--jp-content-font-color1, black)));\n",
       "  --sklearn-color-icon: #696969;\n",
       "\n",
       "  @media (prefers-color-scheme: dark) {\n",
       "    /* Redefinition of color scheme for dark theme */\n",
       "    --sklearn-color-text-on-default-background: var(--sg-text-color, var(--theme-code-foreground, var(--jp-content-font-color1, white)));\n",
       "    --sklearn-color-background: var(--sg-background-color, var(--theme-background, var(--jp-layout-color0, #111)));\n",
       "    --sklearn-color-border-box: var(--sg-text-color, var(--theme-code-foreground, var(--jp-content-font-color1, white)));\n",
       "    --sklearn-color-icon: #878787;\n",
       "  }\n",
       "}\n",
       "\n",
       "#sk-container-id-3 {\n",
       "  color: var(--sklearn-color-text);\n",
       "}\n",
       "\n",
       "#sk-container-id-3 pre {\n",
       "  padding: 0;\n",
       "}\n",
       "\n",
       "#sk-container-id-3 input.sk-hidden--visually {\n",
       "  border: 0;\n",
       "  clip: rect(1px 1px 1px 1px);\n",
       "  clip: rect(1px, 1px, 1px, 1px);\n",
       "  height: 1px;\n",
       "  margin: -1px;\n",
       "  overflow: hidden;\n",
       "  padding: 0;\n",
       "  position: absolute;\n",
       "  width: 1px;\n",
       "}\n",
       "\n",
       "#sk-container-id-3 div.sk-dashed-wrapped {\n",
       "  border: 1px dashed var(--sklearn-color-line);\n",
       "  margin: 0 0.4em 0.5em 0.4em;\n",
       "  box-sizing: border-box;\n",
       "  padding-bottom: 0.4em;\n",
       "  background-color: var(--sklearn-color-background);\n",
       "}\n",
       "\n",
       "#sk-container-id-3 div.sk-container {\n",
       "  /* jupyter's `normalize.less` sets `[hidden] { display: none; }`\n",
       "     but bootstrap.min.css set `[hidden] { display: none !important; }`\n",
       "     so we also need the `!important` here to be able to override the\n",
       "     default hidden behavior on the sphinx rendered scikit-learn.org.\n",
       "     See: https://github.com/scikit-learn/scikit-learn/issues/21755 */\n",
       "  display: inline-block !important;\n",
       "  position: relative;\n",
       "}\n",
       "\n",
       "#sk-container-id-3 div.sk-text-repr-fallback {\n",
       "  display: none;\n",
       "}\n",
       "\n",
       "div.sk-parallel-item,\n",
       "div.sk-serial,\n",
       "div.sk-item {\n",
       "  /* draw centered vertical line to link estimators */\n",
       "  background-image: linear-gradient(var(--sklearn-color-text-on-default-background), var(--sklearn-color-text-on-default-background));\n",
       "  background-size: 2px 100%;\n",
       "  background-repeat: no-repeat;\n",
       "  background-position: center center;\n",
       "}\n",
       "\n",
       "/* Parallel-specific style estimator block */\n",
       "\n",
       "#sk-container-id-3 div.sk-parallel-item::after {\n",
       "  content: \"\";\n",
       "  width: 100%;\n",
       "  border-bottom: 2px solid var(--sklearn-color-text-on-default-background);\n",
       "  flex-grow: 1;\n",
       "}\n",
       "\n",
       "#sk-container-id-3 div.sk-parallel {\n",
       "  display: flex;\n",
       "  align-items: stretch;\n",
       "  justify-content: center;\n",
       "  background-color: var(--sklearn-color-background);\n",
       "  position: relative;\n",
       "}\n",
       "\n",
       "#sk-container-id-3 div.sk-parallel-item {\n",
       "  display: flex;\n",
       "  flex-direction: column;\n",
       "}\n",
       "\n",
       "#sk-container-id-3 div.sk-parallel-item:first-child::after {\n",
       "  align-self: flex-end;\n",
       "  width: 50%;\n",
       "}\n",
       "\n",
       "#sk-container-id-3 div.sk-parallel-item:last-child::after {\n",
       "  align-self: flex-start;\n",
       "  width: 50%;\n",
       "}\n",
       "\n",
       "#sk-container-id-3 div.sk-parallel-item:only-child::after {\n",
       "  width: 0;\n",
       "}\n",
       "\n",
       "/* Serial-specific style estimator block */\n",
       "\n",
       "#sk-container-id-3 div.sk-serial {\n",
       "  display: flex;\n",
       "  flex-direction: column;\n",
       "  align-items: center;\n",
       "  background-color: var(--sklearn-color-background);\n",
       "  padding-right: 1em;\n",
       "  padding-left: 1em;\n",
       "}\n",
       "\n",
       "\n",
       "/* Toggleable style: style used for estimator/Pipeline/ColumnTransformer box that is\n",
       "clickable and can be expanded/collapsed.\n",
       "- Pipeline and ColumnTransformer use this feature and define the default style\n",
       "- Estimators will overwrite some part of the style using the `sk-estimator` class\n",
       "*/\n",
       "\n",
       "/* Pipeline and ColumnTransformer style (default) */\n",
       "\n",
       "#sk-container-id-3 div.sk-toggleable {\n",
       "  /* Default theme specific background. It is overwritten whether we have a\n",
       "  specific estimator or a Pipeline/ColumnTransformer */\n",
       "  background-color: var(--sklearn-color-background);\n",
       "}\n",
       "\n",
       "/* Toggleable label */\n",
       "#sk-container-id-3 label.sk-toggleable__label {\n",
       "  cursor: pointer;\n",
       "  display: block;\n",
       "  width: 100%;\n",
       "  margin-bottom: 0;\n",
       "  padding: 0.5em;\n",
       "  box-sizing: border-box;\n",
       "  text-align: center;\n",
       "}\n",
       "\n",
       "#sk-container-id-3 label.sk-toggleable__label-arrow:before {\n",
       "  /* Arrow on the left of the label */\n",
       "  content: \"▸\";\n",
       "  float: left;\n",
       "  margin-right: 0.25em;\n",
       "  color: var(--sklearn-color-icon);\n",
       "}\n",
       "\n",
       "#sk-container-id-3 label.sk-toggleable__label-arrow:hover:before {\n",
       "  color: var(--sklearn-color-text);\n",
       "}\n",
       "\n",
       "/* Toggleable content - dropdown */\n",
       "\n",
       "#sk-container-id-3 div.sk-toggleable__content {\n",
       "  max-height: 0;\n",
       "  max-width: 0;\n",
       "  overflow: hidden;\n",
       "  text-align: left;\n",
       "  /* unfitted */\n",
       "  background-color: var(--sklearn-color-unfitted-level-0);\n",
       "}\n",
       "\n",
       "#sk-container-id-3 div.sk-toggleable__content.fitted {\n",
       "  /* fitted */\n",
       "  background-color: var(--sklearn-color-fitted-level-0);\n",
       "}\n",
       "\n",
       "#sk-container-id-3 div.sk-toggleable__content pre {\n",
       "  margin: 0.2em;\n",
       "  border-radius: 0.25em;\n",
       "  color: var(--sklearn-color-text);\n",
       "  /* unfitted */\n",
       "  background-color: var(--sklearn-color-unfitted-level-0);\n",
       "}\n",
       "\n",
       "#sk-container-id-3 div.sk-toggleable__content.fitted pre {\n",
       "  /* unfitted */\n",
       "  background-color: var(--sklearn-color-fitted-level-0);\n",
       "}\n",
       "\n",
       "#sk-container-id-3 input.sk-toggleable__control:checked~div.sk-toggleable__content {\n",
       "  /* Expand drop-down */\n",
       "  max-height: 200px;\n",
       "  max-width: 100%;\n",
       "  overflow: auto;\n",
       "}\n",
       "\n",
       "#sk-container-id-3 input.sk-toggleable__control:checked~label.sk-toggleable__label-arrow:before {\n",
       "  content: \"▾\";\n",
       "}\n",
       "\n",
       "/* Pipeline/ColumnTransformer-specific style */\n",
       "\n",
       "#sk-container-id-3 div.sk-label input.sk-toggleable__control:checked~label.sk-toggleable__label {\n",
       "  color: var(--sklearn-color-text);\n",
       "  background-color: var(--sklearn-color-unfitted-level-2);\n",
       "}\n",
       "\n",
       "#sk-container-id-3 div.sk-label.fitted input.sk-toggleable__control:checked~label.sk-toggleable__label {\n",
       "  background-color: var(--sklearn-color-fitted-level-2);\n",
       "}\n",
       "\n",
       "/* Estimator-specific style */\n",
       "\n",
       "/* Colorize estimator box */\n",
       "#sk-container-id-3 div.sk-estimator input.sk-toggleable__control:checked~label.sk-toggleable__label {\n",
       "  /* unfitted */\n",
       "  background-color: var(--sklearn-color-unfitted-level-2);\n",
       "}\n",
       "\n",
       "#sk-container-id-3 div.sk-estimator.fitted input.sk-toggleable__control:checked~label.sk-toggleable__label {\n",
       "  /* fitted */\n",
       "  background-color: var(--sklearn-color-fitted-level-2);\n",
       "}\n",
       "\n",
       "#sk-container-id-3 div.sk-label label.sk-toggleable__label,\n",
       "#sk-container-id-3 div.sk-label label {\n",
       "  /* The background is the default theme color */\n",
       "  color: var(--sklearn-color-text-on-default-background);\n",
       "}\n",
       "\n",
       "/* On hover, darken the color of the background */\n",
       "#sk-container-id-3 div.sk-label:hover label.sk-toggleable__label {\n",
       "  color: var(--sklearn-color-text);\n",
       "  background-color: var(--sklearn-color-unfitted-level-2);\n",
       "}\n",
       "\n",
       "/* Label box, darken color on hover, fitted */\n",
       "#sk-container-id-3 div.sk-label.fitted:hover label.sk-toggleable__label.fitted {\n",
       "  color: var(--sklearn-color-text);\n",
       "  background-color: var(--sklearn-color-fitted-level-2);\n",
       "}\n",
       "\n",
       "/* Estimator label */\n",
       "\n",
       "#sk-container-id-3 div.sk-label label {\n",
       "  font-family: monospace;\n",
       "  font-weight: bold;\n",
       "  display: inline-block;\n",
       "  line-height: 1.2em;\n",
       "}\n",
       "\n",
       "#sk-container-id-3 div.sk-label-container {\n",
       "  text-align: center;\n",
       "}\n",
       "\n",
       "/* Estimator-specific */\n",
       "#sk-container-id-3 div.sk-estimator {\n",
       "  font-family: monospace;\n",
       "  border: 1px dotted var(--sklearn-color-border-box);\n",
       "  border-radius: 0.25em;\n",
       "  box-sizing: border-box;\n",
       "  margin-bottom: 0.5em;\n",
       "  /* unfitted */\n",
       "  background-color: var(--sklearn-color-unfitted-level-0);\n",
       "}\n",
       "\n",
       "#sk-container-id-3 div.sk-estimator.fitted {\n",
       "  /* fitted */\n",
       "  background-color: var(--sklearn-color-fitted-level-0);\n",
       "}\n",
       "\n",
       "/* on hover */\n",
       "#sk-container-id-3 div.sk-estimator:hover {\n",
       "  /* unfitted */\n",
       "  background-color: var(--sklearn-color-unfitted-level-2);\n",
       "}\n",
       "\n",
       "#sk-container-id-3 div.sk-estimator.fitted:hover {\n",
       "  /* fitted */\n",
       "  background-color: var(--sklearn-color-fitted-level-2);\n",
       "}\n",
       "\n",
       "/* Specification for estimator info (e.g. \"i\" and \"?\") */\n",
       "\n",
       "/* Common style for \"i\" and \"?\" */\n",
       "\n",
       ".sk-estimator-doc-link,\n",
       "a:link.sk-estimator-doc-link,\n",
       "a:visited.sk-estimator-doc-link {\n",
       "  float: right;\n",
       "  font-size: smaller;\n",
       "  line-height: 1em;\n",
       "  font-family: monospace;\n",
       "  background-color: var(--sklearn-color-background);\n",
       "  border-radius: 1em;\n",
       "  height: 1em;\n",
       "  width: 1em;\n",
       "  text-decoration: none !important;\n",
       "  margin-left: 1ex;\n",
       "  /* unfitted */\n",
       "  border: var(--sklearn-color-unfitted-level-1) 1pt solid;\n",
       "  color: var(--sklearn-color-unfitted-level-1);\n",
       "}\n",
       "\n",
       ".sk-estimator-doc-link.fitted,\n",
       "a:link.sk-estimator-doc-link.fitted,\n",
       "a:visited.sk-estimator-doc-link.fitted {\n",
       "  /* fitted */\n",
       "  border: var(--sklearn-color-fitted-level-1) 1pt solid;\n",
       "  color: var(--sklearn-color-fitted-level-1);\n",
       "}\n",
       "\n",
       "/* On hover */\n",
       "div.sk-estimator:hover .sk-estimator-doc-link:hover,\n",
       ".sk-estimator-doc-link:hover,\n",
       "div.sk-label-container:hover .sk-estimator-doc-link:hover,\n",
       ".sk-estimator-doc-link:hover {\n",
       "  /* unfitted */\n",
       "  background-color: var(--sklearn-color-unfitted-level-3);\n",
       "  color: var(--sklearn-color-background);\n",
       "  text-decoration: none;\n",
       "}\n",
       "\n",
       "div.sk-estimator.fitted:hover .sk-estimator-doc-link.fitted:hover,\n",
       ".sk-estimator-doc-link.fitted:hover,\n",
       "div.sk-label-container:hover .sk-estimator-doc-link.fitted:hover,\n",
       ".sk-estimator-doc-link.fitted:hover {\n",
       "  /* fitted */\n",
       "  background-color: var(--sklearn-color-fitted-level-3);\n",
       "  color: var(--sklearn-color-background);\n",
       "  text-decoration: none;\n",
       "}\n",
       "\n",
       "/* Span, style for the box shown on hovering the info icon */\n",
       ".sk-estimator-doc-link span {\n",
       "  display: none;\n",
       "  z-index: 9999;\n",
       "  position: relative;\n",
       "  font-weight: normal;\n",
       "  right: .2ex;\n",
       "  padding: .5ex;\n",
       "  margin: .5ex;\n",
       "  width: min-content;\n",
       "  min-width: 20ex;\n",
       "  max-width: 50ex;\n",
       "  color: var(--sklearn-color-text);\n",
       "  box-shadow: 2pt 2pt 4pt #999;\n",
       "  /* unfitted */\n",
       "  background: var(--sklearn-color-unfitted-level-0);\n",
       "  border: .5pt solid var(--sklearn-color-unfitted-level-3);\n",
       "}\n",
       "\n",
       ".sk-estimator-doc-link.fitted span {\n",
       "  /* fitted */\n",
       "  background: var(--sklearn-color-fitted-level-0);\n",
       "  border: var(--sklearn-color-fitted-level-3);\n",
       "}\n",
       "\n",
       ".sk-estimator-doc-link:hover span {\n",
       "  display: block;\n",
       "}\n",
       "\n",
       "/* \"?\"-specific style due to the `<a>` HTML tag */\n",
       "\n",
       "#sk-container-id-3 a.estimator_doc_link {\n",
       "  float: right;\n",
       "  font-size: 1rem;\n",
       "  line-height: 1em;\n",
       "  font-family: monospace;\n",
       "  background-color: var(--sklearn-color-background);\n",
       "  border-radius: 1rem;\n",
       "  height: 1rem;\n",
       "  width: 1rem;\n",
       "  text-decoration: none;\n",
       "  /* unfitted */\n",
       "  color: var(--sklearn-color-unfitted-level-1);\n",
       "  border: var(--sklearn-color-unfitted-level-1) 1pt solid;\n",
       "}\n",
       "\n",
       "#sk-container-id-3 a.estimator_doc_link.fitted {\n",
       "  /* fitted */\n",
       "  border: var(--sklearn-color-fitted-level-1) 1pt solid;\n",
       "  color: var(--sklearn-color-fitted-level-1);\n",
       "}\n",
       "\n",
       "/* On hover */\n",
       "#sk-container-id-3 a.estimator_doc_link:hover {\n",
       "  /* unfitted */\n",
       "  background-color: var(--sklearn-color-unfitted-level-3);\n",
       "  color: var(--sklearn-color-background);\n",
       "  text-decoration: none;\n",
       "}\n",
       "\n",
       "#sk-container-id-3 a.estimator_doc_link.fitted:hover {\n",
       "  /* fitted */\n",
       "  background-color: var(--sklearn-color-fitted-level-3);\n",
       "}\n",
       "</style><div id=\"sk-container-id-3\" class=\"sk-top-container\"><div class=\"sk-text-repr-fallback\"><pre>AdaBoostRegressor()</pre><b>In a Jupyter environment, please rerun this cell to show the HTML representation or trust the notebook. <br />On GitHub, the HTML representation is unable to render, please try loading this page with nbviewer.org.</b></div><div class=\"sk-container\" hidden><div class=\"sk-item\"><div class=\"sk-estimator fitted sk-toggleable\"><input class=\"sk-toggleable__control sk-hidden--visually\" id=\"sk-estimator-id-3\" type=\"checkbox\" checked><label for=\"sk-estimator-id-3\" class=\"sk-toggleable__label fitted sk-toggleable__label-arrow fitted\">&nbsp;&nbsp;AdaBoostRegressor<a class=\"sk-estimator-doc-link fitted\" rel=\"noreferrer\" target=\"_blank\" href=\"https://scikit-learn.org/1.5/modules/generated/sklearn.ensemble.AdaBoostRegressor.html\">?<span>Documentation for AdaBoostRegressor</span></a><span class=\"sk-estimator-doc-link fitted\">i<span>Fitted</span></span></label><div class=\"sk-toggleable__content fitted\"><pre>AdaBoostRegressor()</pre></div> </div></div></div></div>"
      ],
      "text/plain": [
       "AdaBoostRegressor()"
      ]
     },
     "execution_count": 37,
     "metadata": {},
     "output_type": "execute_result"
    }
   ],
   "source": [
    "ab=AdaBoostRegressor()\n",
    "ab.fit(X_train, y_train)"
   ]
  },
  {
   "cell_type": "code",
   "execution_count": 38,
   "id": "6869d0a3",
   "metadata": {
    "lc_cell_meme": {
     "current": "30465bb5-7631-11ef-a10b-6968363b8a7c",
     "execution_end_time": "2024-09-19T04:17:55.956169Z",
     "history": [
      {
       "current": "30465bb5-7631-11ef-a10b-6968363b8a7c",
       "next": "7dd4fa67-7587-11ef-943f-b5bbbc9eafb6",
       "previous": "30465aa9-7631-11ef-a3e9-6968363b8a7c"
      }
     ],
     "next": "78559bfa-7631-11ef-bf53-6968363b8a7c",
     "previous": "30465aa9-7631-11ef-a3e9-6968363b8a7c"
    },
    "lc_wrapper": {
     "log_history": [
      "/home/s276322x7cf08f/AIPBL/.log/20240919/20240919-114604-0012.log",
      "/home/s276322x7cf08f/AIPBL/.log/20240919/20240919-122326-0762.log",
      "/home/s276322x7cf08f/AIPBL/.log/20240919/20240919-123008-0550.log",
      "/home/s276322x7cf08f/AIPBL/.log/20240919/20240919-131755-0915.log"
     ]
    },
    "scrolled": true
   },
   "outputs": [
    {
     "name": "stdout",
     "output_type": "stream",
     "text": [
      "実際の値 [ 9.9047619   8.6047619   8.9047619  10.40634921  9.19047619  9.69365079\n",
      " 13.57142857 10.62539683  8.85396825 10.44603175  9.25079365  9.18571429\n",
      " 11.26825397 11.94761905  7.85238095 12.02698413 12.47460317 13.50952381\n",
      " 11.86666667  8.62539683  9.02698413  9.39206349 10.84285714  8.04285714\n",
      "  9.28571429 10.44444444 10.11111111  9.9031746   9.84444444  9.94444444\n",
      "  9.17301587 10.76031746  8.37619048  9.11111111 12.08253968  8.86507937]\n",
      "予測値: [11.17289973  9.87393484 11.35101343 10.76512408  9.39803057  9.79412698\n",
      "  9.35467372  9.55002405 10.28477818 10.76512408  9.7539498  10.48809524\n",
      " 10.35228175 10.7512949   9.65198956 10.34047619 10.66004141 12.03333333\n",
      " 10.36795163 10.12933333 11.11414888  9.86071429 10.38111111 10.33308913\n",
      " 10.74614122  9.19074522 10.7512949  10.46646825 10.66004141  9.65198956\n",
      " 10.8828621  10.57756614  9.75031746 10.88298265 10.73019564  9.09503968]\n",
      "平均二乗誤差 (MSE): 2.107\n"
     ]
    }
   ],
   "source": [
    "from sklearn.metrics import mean_squared_error\n",
    "\n",
    "# テストデータで予測を実行\n",
    "y_pred = ab.predict(X_test)\n",
    "\n",
    "# 平均二乗誤差 (MSE) を計算\n",
    "mse = mean_squared_error(y_test, y_pred)\n",
    "\n",
    "print(\"実際の値\", y_test)\n",
    "# 予測結果の表示\n",
    "print('予測値:', y_pred)\n",
    "\n",
    "# MSEを表示\n",
    "print('平均二乗誤差 (MSE): {:.3f}'.format(mse))"
   ]
  },
  {
   "cell_type": "code",
   "execution_count": 39,
   "id": "4203be42",
   "metadata": {
    "lc_cell_meme": {
     "current": "78559bfa-7631-11ef-bf53-6968363b8a7c",
     "execution_end_time": "2024-09-19T04:18:01.646868Z",
     "next": "78559e6a-7631-11ef-a892-6968363b8a7c",
     "previous": "30465bb5-7631-11ef-a10b-6968363b8a7c"
    },
    "lc_wrapper": {
     "log_history": [
      "/home/s276322x7cf08f/AIPBL/.log/20240919/20240919-114626-0425.log",
      "/home/s276322x7cf08f/AIPBL/.log/20240919/20240919-122328-0863.log",
      "/home/s276322x7cf08f/AIPBL/.log/20240919/20240919-123008-0642.log",
      "/home/s276322x7cf08f/AIPBL/.log/20240919/20240919-131801-0338.log"
     ]
    },
    "scrolled": true
   },
   "outputs": [
    {
     "data": {
      "image/png": "[encoded data removed]",
      "text/plain": [
       "<Figure size 432x288 with 1 Axes>"
      ]
     },
     "metadata": {
      "needs_background": "light"
     },
     "output_type": "display_data"
    }
   ],
   "source": [
    "import matplotlib.pyplot as plt # 図の描画用のライブラリ\n",
    "import seaborn as sns # データ可視化ライブラリ\n",
    "\n",
    "# Jupyter notebook上に図表を表示する設定\n",
    "%matplotlib inline\n",
    "\n",
    "plt.xlabel(\"y_predict\")\n",
    "plt.ylabel(\"y_test\")\n",
    "plt.scatter(y_pred, y_test)\n",
    "plt.savefig(\"tbs_plot.png\",bbox_inches='tight')\n",
    "plt.show()"
   ]
  },
  {
   "cell_type": "code",
   "execution_count": 40,
   "id": "1213f03e",
   "metadata": {
    "lc_cell_meme": {
     "current": "78559e6a-7631-11ef-a892-6968363b8a7c",
     "execution_end_time": "2024-09-19T04:18:04.358929Z",
     "next": "7dd4fa67-7587-11ef-943f-b5bbbc9eafb6",
     "previous": "78559bfa-7631-11ef-bf53-6968363b8a7c"
    },
    "lc_wrapper": {
     "log_history": [
      "/home/s276322x7cf08f/AIPBL/.log/20240919/20240919-114640-0883.log",
      "/home/s276322x7cf08f/AIPBL/.log/20240919/20240919-122343-0109.log",
      "/home/s276322x7cf08f/AIPBL/.log/20240919/20240919-123008-0938.log",
      "/home/s276322x7cf08f/AIPBL/.log/20240919/20240919-131804-0343.log"
     ]
    }
   },
   "outputs": [
    {
     "name": "stdout",
     "output_type": "stream",
     "text": [
      "0.23334565122577128\n"
     ]
    }
   ],
   "source": [
    "# 相関係数を計算\n",
    "correlation_coefficient = np.corrcoef(y_pred, y_test)[0, 1]\n",
    "print(correlation_coefficient)"
   ]
  },
  {
   "cell_type": "markdown",
   "id": "d54cee3c",
   "metadata": {
    "lc_cell_meme": {
     "current": "7dd4fa67-7587-11ef-943f-b5bbbc9eafb6",
     "history": [
      {
       "current": "7dd4fa67-7587-11ef-943f-b5bbbc9eafb6",
       "next": "41a830b8-7585-11ef-ba73-b5bbbc9eafb6",
       "previous": "41a83059-7585-11ef-ad2b-b5bbbc9eafb6"
      },
      {
       "current": "7dd4fa67-7587-11ef-943f-b5bbbc9eafb6",
       "next": "41a830b8-7585-11ef-ba73-b5bbbc9eafb6",
       "previous": "ee6b1f07-762f-11ef-a5af-6968363b8a7c"
      },
      {
       "current": "7dd4fa67-7587-11ef-943f-b5bbbc9eafb6",
       "next": "41a830b8-7585-11ef-ba73-b5bbbc9eafb6",
       "previous": "59ac3f81-7630-11ef-9850-6968363b8a7c"
      },
      {
       "current": "7dd4fa67-7587-11ef-943f-b5bbbc9eafb6",
       "next": "41a830b8-7585-11ef-ba73-b5bbbc9eafb6",
       "previous": "e8c34985-7630-11ef-bb1c-6968363b8a7c"
      },
      {
       "current": "7dd4fa67-7587-11ef-943f-b5bbbc9eafb6",
       "next": "41a830b8-7585-11ef-ba73-b5bbbc9eafb6",
       "previous": "30465bb5-7631-11ef-a10b-6968363b8a7c"
      }
     ],
     "next": "41a830b8-7585-11ef-ba73-b5bbbc9eafb6",
     "previous": "78559e6a-7631-11ef-a892-6968363b8a7c"
    }
   },
   "source": [
    "#### 予測"
   ]
  },
  {
   "cell_type": "code",
   "execution_count": 41,
   "id": "b683127e",
   "metadata": {
    "lc_cell_meme": {
     "current": "41a830b8-7585-11ef-ba73-b5bbbc9eafb6",
     "execution_end_time": "2024-09-19T04:19:02.587663Z",
     "history": [
      {
       "current": "41a830b8-7585-11ef-ba73-b5bbbc9eafb6",
       "next": null,
       "previous": "41a83059-7585-11ef-ad2b-b5bbbc9eafb6"
      },
      {
       "current": "41a830b8-7585-11ef-ba73-b5bbbc9eafb6",
       "next": "c557adf7-7587-11ef-beab-b5bbbc9eafb6",
       "previous": "7dd4fa67-7587-11ef-943f-b5bbbc9eafb6"
      }
     ],
     "next": "0ce15e99-7588-11ef-aa2b-b5bbbc9eafb6",
     "previous": "7dd4fa67-7587-11ef-943f-b5bbbc9eafb6"
    },
    "lc_wrapper": {
     "log_history": [
      "/home/s276322x7cf08f/AIPBL/.log/20240918/20240918-153101-0027.log",
      "/home/s276322x7cf08f/AIPBL/.log/20240918/20240918-153122-0419.log",
      "/home/s276322x7cf08f/AIPBL/.log/20240918/20240918-154838-0091.log",
      "/home/s276322x7cf08f/AIPBL/.log/20240919/20240919-113738-0348.log",
      "/home/s276322x7cf08f/AIPBL/.log/20240919/20240919-114605-0113.log",
      "/home/s276322x7cf08f/AIPBL/.log/20240919/20240919-122344-0785.log",
      "/home/s276322x7cf08f/AIPBL/.log/20240919/20240919-122458-0307.log",
      "/home/s276322x7cf08f/AIPBL/.log/20240919/20240919-123008-0976.log",
      "/home/s276322x7cf08f/AIPBL/.log/20240919/20240919-131858-0841.log"
     ]
    }
   },
   "outputs": [],
   "source": [
    "from sentence_transformers import SentenceTransformer\n",
    "#入力テキストをベクトルに変換\n",
    "list_input_text = [\"文房具好きも必見！今回のテーマは「手作りインクの世界」。市販のペンやインクでは物足りないというこだわり派に、インクを自分で作り上げる楽しみを紹介します。ゲストは、自然の植物や食品を使って独自のインクを作り続けるインクアーティストの佐藤さん。葉っぱや果物、さらには土まで、驚きの素材から美しい色を生み出す方法を実演しながら紹介します。マツコも初めて見るインクの材料に興味津々！手作りインクで書いた文字の美しさに、思わず感動の声を上げるシーンも見逃せません。色の化学反応に隠された驚きの秘密とは？\"]\n",
    "\n",
    "embedding_model = SentenceTransformer(\"cl-nagoya/sup-simcse-ja-base\")"
   ]
  },
  {
   "cell_type": "code",
   "execution_count": 42,
   "id": "d3ab40f1",
   "metadata": {
    "lc_cell_meme": {
     "current": "0ce15e99-7588-11ef-aa2b-b5bbbc9eafb6",
     "execution_end_time": "2024-09-19T04:19:04.828585Z",
     "next": "c557adf7-7587-11ef-beab-b5bbbc9eafb6",
     "previous": "41a830b8-7585-11ef-ba73-b5bbbc9eafb6"
    },
    "lc_wrapper": {
     "log_history": [
      "/home/s276322x7cf08f/AIPBL/.log/20240918/20240918-153434-0581.log",
      "/home/s276322x7cf08f/AIPBL/.log/20240918/20240918-153444-0442.log",
      "/home/s276322x7cf08f/AIPBL/.log/20240918/20240918-153503-0058.log",
      "/home/s276322x7cf08f/AIPBL/.log/20240918/20240918-153526-0866.log",
      "/home/s276322x7cf08f/AIPBL/.log/20240918/20240918-153558-0981.log",
      "/home/s276322x7cf08f/AIPBL/.log/20240918/20240918-154648-0666.log",
      "/home/s276322x7cf08f/AIPBL/.log/20240918/20240918-154705-0358.log",
      "/home/s276322x7cf08f/AIPBL/.log/20240918/20240918-154710-0273.log",
      "/home/s276322x7cf08f/AIPBL/.log/20240918/20240918-154738-0926.log",
      "/home/s276322x7cf08f/AIPBL/.log/20240918/20240918-154752-0379.log",
      "/home/s276322x7cf08f/AIPBL/.log/20240918/20240918-154809-0174.log",
      "/home/s276322x7cf08f/AIPBL/.log/20240918/20240918-154840-0793.log",
      "/home/s276322x7cf08f/AIPBL/.log/20240918/20240918-154850-0847.log",
      "/home/s276322x7cf08f/AIPBL/.log/20240919/20240919-113746-0670.log",
      "/home/s276322x7cf08f/AIPBL/.log/20240919/20240919-113808-0193.log",
      "/home/s276322x7cf08f/AIPBL/.log/20240919/20240919-114608-0171.log",
      "/home/s276322x7cf08f/AIPBL/.log/20240919/20240919-122352-0300.log",
      "/home/s276322x7cf08f/AIPBL/.log/20240919/20240919-122500-0618.log",
      "/home/s276322x7cf08f/AIPBL/.log/20240919/20240919-123015-0788.log",
      "/home/s276322x7cf08f/AIPBL/.log/20240919/20240919-131904-0803.log"
     ]
    },
    "scrolled": true
   },
   "outputs": [
    {
     "name": "stdout",
     "output_type": "stream",
     "text": [
      "文房具好きも必見!今回のテーマは「手作りインクの世界」。市販のペンやインクでは物足りないというこだわり派に、インクを自分で作り上げる楽しみを紹介します。ゲストは、自然の植物や食品を使って独自のインクを作り続けるインクアーティストの佐藤さん。葉っぱや果物、さらには土まで、驚きの素材から美しい色を生み出す方法を実演しながら紹介します。マツコも初めて見るインクの材料に興味津々!手作りインクで書いた文字の美しさに、思わず感動の声を上げるシーンも見逃せません。色の化学反応に隠された驚きの秘密とは?\n"
     ]
    }
   ],
   "source": [
    "import re\n",
    "\n",
    "# '番組内容' と '出演者' 以降を削除\n",
    "def clean_description(text):\n",
    "    # '出演者' 以降を削除\n",
    "    text = re.split(r'-- 出演者 --', text)[0]\n",
    "    # '番組内容' という文字列を削除\n",
    "    text = re.sub(r'番組内容\\s*', '', text)\n",
    "    \n",
    "    text = neologdn.normalize(text)\n",
    "    \n",
    "    return text\n",
    "\n",
    "# 各行に対してクリーンアップ処理を実行\n",
    "text = clean_description(list_input_text[0])\n",
    "print(text)\n"
   ]
  },
  {
   "cell_type": "code",
   "execution_count": 45,
   "id": "ef1e748c",
   "metadata": {
    "lc_cell_meme": {
     "current": "c557adf7-7587-11ef-beab-b5bbbc9eafb6",
     "execution_end_time": "2024-09-19T04:19:23.386964Z",
     "history": [
      {
       "current": "c557adf7-7587-11ef-beab-b5bbbc9eafb6",
       "next": null,
       "previous": "41a830b8-7585-11ef-ba73-b5bbbc9eafb6"
      },
      {
       "current": "c557adf7-7587-11ef-beab-b5bbbc9eafb6",
       "next": null,
       "previous": "0ce15e99-7588-11ef-aa2b-b5bbbc9eafb6"
      }
     ],
     "next": "59ac4325-7630-11ef-9eae-6968363b8a7c",
     "previous": "0ce15e99-7588-11ef-aa2b-b5bbbc9eafb6"
    },
    "lc_wrapper": {
     "log_history": [
      "/home/s276322x7cf08f/AIPBL/.log/20240918/20240918-153130-0532.log",
      "/home/s276322x7cf08f/AIPBL/.log/20240918/20240918-153143-0985.log",
      "/home/s276322x7cf08f/AIPBL/.log/20240918/20240918-153206-0558.log",
      "/home/s276322x7cf08f/AIPBL/.log/20240918/20240918-153225-0889.log",
      "/home/s276322x7cf08f/AIPBL/.log/20240918/20240918-153229-0722.log",
      "/home/s276322x7cf08f/AIPBL/.log/20240918/20240918-153240-0437.log",
      "/home/s276322x7cf08f/AIPBL/.log/20240918/20240918-153248-0312.log",
      "/home/s276322x7cf08f/AIPBL/.log/20240918/20240918-154853-0070.log",
      "/home/s276322x7cf08f/AIPBL/.log/20240918/20240918-154902-0156.log",
      "/home/s276322x7cf08f/AIPBL/.log/20240918/20240918-154906-0019.log",
      "/home/s276322x7cf08f/AIPBL/.log/20240918/20240918-154919-0632.log",
      "/home/s276322x7cf08f/AIPBL/.log/20240918/20240918-154934-0807.log",
      "/home/s276322x7cf08f/AIPBL/.log/20240918/20240918-155020-0953.log",
      "/home/s276322x7cf08f/AIPBL/.log/20240918/20240918-155910-0713.log",
      "/home/s276322x7cf08f/AIPBL/.log/20240918/20240918-160158-0869.log",
      "/home/s276322x7cf08f/AIPBL/.log/20240918/20240918-160212-0729.log",
      "/home/s276322x7cf08f/AIPBL/.log/20240918/20240918-160221-0578.log",
      "/home/s276322x7cf08f/AIPBL/.log/20240918/20240918-160337-0844.log",
      "/home/s276322x7cf08f/AIPBL/.log/20240919/20240919-113810-0848.log",
      "/home/s276322x7cf08f/AIPBL/.log/20240919/20240919-114608-0211.log",
      "/home/s276322x7cf08f/AIPBL/.log/20240919/20240919-122352-0337.log",
      "/home/s276322x7cf08f/AIPBL/.log/20240919/20240919-122500-0661.log",
      "/home/s276322x7cf08f/AIPBL/.log/20240919/20240919-123015-0824.log",
      "/home/s276322x7cf08f/AIPBL/.log/20240919/20240919-131909-0379.log",
      "/home/s276322x7cf08f/AIPBL/.log/20240919/20240919-131916-0538.log",
      "/home/s276322x7cf08f/AIPBL/.log/20240919/20240919-131923-0216.log"
     ]
    }
   },
   "outputs": [
    {
     "name": "stdout",
     "output_type": "stream",
     "text": [
      "予想の世帯視聴率 [10.59138163]\n",
      "abの予測世帯視聴率 [10.36795163]\n"
     ]
    }
   ],
   "source": [
    "embedding = embedding_model.encode(text)\n",
    "\n",
    "embedding = embedding.reshape(1,-1)\n",
    "\n",
    "pred = lr.predict(embedding)\n",
    "\n",
    "print(\"予想の世帯視聴率\",pred)\n",
    "\n",
    "pred = ab.predict(embedding)\n",
    "\n",
    "print(\"abの予測世帯視聴率\",pred)"
   ]
  },
  {
   "cell_type": "code",
   "execution_count": 33,
   "id": "8ca66512",
   "metadata": {
    "lc_cell_meme": {
     "current": "59ac4325-7630-11ef-9eae-6968363b8a7c",
     "execution_end_time": "2024-09-19T03:50:35.150341Z",
     "history": [
      {
       "current": "59ac4325-7630-11ef-9eae-6968363b8a7c",
       "next": null,
       "previous": "c557adf7-7587-11ef-beab-b5bbbc9eafb6"
      }
     ],
     "next": "b9c37c65-7636-11ef-b35c-6968363b8a7c",
     "previous": "c557adf7-7587-11ef-beab-b5bbbc9eafb6"
    },
    "lc_wrapper": {
     "log_history": [
      "/home/s276322x7cf08f/AIPBL/.log/20240919/20240919-125035-0119.log"
     ]
    }
   },
   "outputs": [
    {
     "name": "stdout",
     "output_type": "stream",
     "text": [
      "[[ 9.12252426e-01 -5.21715403e-01 -2.20211670e-01  8.91542315e-01\n",
      "  -7.32365012e-01 -5.26759982e-01 -3.54716808e-01 -3.94206822e-01\n",
      "  -6.88212693e-01  3.18183362e-01 -7.65969083e-02 -1.14633972e-02\n",
      "  -8.05780366e-02 -9.65221047e-01  3.75115573e-01 -2.66116917e-01\n",
      "   4.61545974e-01  2.57736534e-01 -9.55637634e-01  5.41132569e-01\n",
      "   6.88901544e-01  5.13418317e-01  2.55965739e-01 -5.35251796e-01\n",
      "  -1.24210484e-01  9.60960865e-01 -4.23310697e-02 -1.75757736e-01\n",
      "  -1.05487359e+00  7.05233574e-01 -4.40030307e-01 -5.40883064e-01\n",
      "   1.00173867e+00 -5.22311926e+00  7.17123151e-02  1.71164915e-01\n",
      "   1.37264371e-01  9.29392278e-01  1.37808276e-02  5.07794730e-02\n",
      "  -7.00623319e-02 -6.06831074e-01 -3.48664790e-01  3.80613118e-01\n",
      "  -6.45370722e-01 -1.44491446e+00  4.58912134e-01  3.29185054e-02\n",
      "  -4.14116710e-01 -1.24344289e+00 -6.28931940e-01  6.10910511e+00\n",
      "  -7.72664905e-01  8.97632420e-01  4.08196449e-01  3.48565966e-01\n",
      "  -5.42393446e-01  3.34417671e-01  5.60974300e-01  1.46850812e+00\n",
      "  -1.41058713e-01 -3.11718613e-01 -7.15580881e-01  7.66331673e-01\n",
      "   1.25330016e-01 -4.74781454e-01 -4.59528506e-01  1.26226559e-01\n",
      "  -1.08834183e+00  5.29416382e-01 -1.13873470e+00 -1.43169528e-02\n",
      "   7.48512805e-01 -9.16020423e-02  3.36828023e-01 -4.55271631e-01\n",
      "   2.40999833e-02  8.24829042e-01 -1.14467430e+00 -1.03815210e+00\n",
      "   1.19047977e-01 -7.96509683e-01 -3.21196675e-01 -4.28340524e-01\n",
      "  -6.96520507e-01  7.24884748e-01  8.05337012e-01 -1.68989271e-01\n",
      "  -6.56429887e-01 -4.73723590e-01 -2.84509778e-01  2.17956692e-01\n",
      "  -4.98951256e-01 -1.08885431e+00 -2.43743166e-01  5.95880687e-01\n",
      "  -9.16853011e-01  1.77404374e-01  5.11291981e-01  9.50468302e-01\n",
      "   1.47314417e+00  3.34769130e-01  1.66874751e-01  2.83952683e-01\n",
      "   3.02997619e-01 -6.91079915e-01 -4.87262875e-01  7.97043562e-01\n",
      "  -4.69604909e-01  4.90721196e-01  2.05297112e-01  7.90947735e-01\n",
      "  -2.81580389e-01  9.78267908e-01 -5.88782310e-01 -1.87441587e-01\n",
      "  -1.22533828e-01  7.53987253e-01 -1.03014672e+00 -3.50389659e-01\n",
      "   4.98233408e-01 -3.31972629e-01 -1.54102594e-01  6.84064984e-01\n",
      "   3.09283733e-01 -2.33115837e-01 -3.26900601e-01  1.09435886e-01\n",
      "  -1.31914541e-01  4.63379771e-01 -3.48439157e-01 -9.58510041e-01\n",
      "   4.39494610e-01  8.39332104e-01  1.96257919e-01  8.83728862e-02\n",
      "  -1.04206160e-01  1.76231742e-01 -7.13029355e-02 -4.81786162e-01\n",
      "  -7.25502551e-01 -1.44820452e-01 -6.60068616e-02  2.81424850e-01\n",
      "  -8.43893290e-01  1.88429385e-01 -5.54602325e-01  2.35472456e-01\n",
      "   2.06088603e-01 -1.00142015e-02 -9.41291451e-01 -1.09921372e+00\n",
      "   4.11405802e-01 -4.52088118e-01  1.19177985e+00 -5.01225591e-01\n",
      "   3.43000591e-01  5.75689673e-02 -3.05653095e-01 -4.38373506e-01\n",
      "  -3.71980250e-01 -5.93629837e-01  1.28202200e-01 -5.39258957e-01\n",
      "  -1.37246454e+00 -2.82916099e-01  9.97155160e-02  7.01969445e-01\n",
      "   8.26831996e-01  1.82784557e-01  1.69667646e-01 -9.61711049e-01\n",
      "  -5.66788197e-01 -3.22109371e-01  9.91362989e-01 -1.21233679e-01\n",
      "  -7.71514356e-01  3.10040295e-01  1.45943487e+00  9.12020445e-01\n",
      "   2.44270325e-01  1.21413983e-01  2.58889973e-01 -5.35082519e-01\n",
      "   7.02728748e-01  5.17707288e-01  1.17119420e+00  2.17282653e-01\n",
      "   1.17434430e+00 -1.39672256e+00  8.84072483e-02  2.51680285e-01\n",
      "   8.53514135e-01 -2.21724838e-01  1.78310543e-01 -2.65136123e-01\n",
      "   1.86217099e-01  7.09075749e-01  1.54044718e-01 -4.48082209e-01\n",
      "  -2.82949269e-01 -4.92349774e-01 -3.78732026e-01  8.81749317e-02\n",
      "  -9.64493036e-01 -1.07240766e-01 -6.08917654e-01  2.75744908e-02\n",
      "  -9.84773338e-01 -3.53098392e-01 -8.35668385e-01 -1.30643976e+00\n",
      "  -6.98135316e-01 -1.44977546e+00  2.00982049e-01 -4.00546521e-01\n",
      "   1.10487497e+00  4.10871893e-01  2.40788162e-01 -1.25849396e-01\n",
      "  -4.95372921e-01  7.50505805e-01  2.07582191e-01  1.31032741e+00\n",
      "  -3.45465153e-01 -5.63089728e-01 -3.93392384e-01  3.70794475e-01\n",
      "   1.43744960e-01 -5.30072987e-01 -3.21956336e-01 -3.97886395e-01\n",
      "   6.91146851e-01 -1.74388871e-01  2.50053406e-01 -3.07948023e-01\n",
      "  -7.56841063e-01  1.35867143e+00 -3.89318280e-02 -6.81484938e-01\n",
      "  -9.02706087e-02  5.41155264e-02  1.36970460e+00  1.50875703e-01\n",
      "  -8.05985153e-01  8.57070446e-01  3.84038836e-01 -7.20783770e-01\n",
      "   6.12313628e-01 -2.70187762e-02  6.24725893e-02  1.21727920e+00\n",
      "  -7.92521179e-01 -3.56366873e-01 -2.01318339e-01  3.09161365e-01\n",
      "  -6.21559441e-01 -4.96146679e-01 -3.64860117e-01 -7.22779930e-01\n",
      "   2.96314925e-01 -4.59964961e-01  3.07769398e-03 -1.39420047e-01\n",
      "   1.48672581e-01 -4.75619137e-01  6.07471168e-02  5.76074898e-01\n",
      "  -9.34654593e-01 -2.74268001e-01 -3.15392077e-01 -6.18240893e-01\n",
      "  -9.19906050e-02 -4.25275922e-01 -2.80203640e-01 -5.67190170e-01\n",
      "  -3.12136084e-01 -2.07513666e+00 -3.22733559e-02  6.69095993e-01\n",
      "  -9.31245506e-01  3.14643234e-01 -7.35235274e-01 -4.58363891e-01\n",
      "  -5.67003429e-01 -2.38689646e-01 -1.07003808e+00  1.01561807e-01\n",
      "   4.16315645e-01 -5.58494091e-01  8.27417672e-02  7.60827541e-01\n",
      "  -2.03131139e-01  1.37476063e+00 -1.23064315e+00 -7.91574538e-01\n",
      "  -6.12721324e-01  7.36374974e-01 -4.44647878e-01 -4.29353684e-01\n",
      "   4.94509220e-01 -1.06770420e+00  5.98739147e-01 -7.86024570e-01\n",
      "  -4.12526041e-01 -1.11683095e+00 -1.42310214e+00 -1.02692771e+00\n",
      "   8.03857371e-02  1.23906240e-01 -4.10765447e-02 -4.35210466e-02\n",
      "   6.00467324e-01  6.10692680e-01  4.75219667e-01 -1.86532810e-01\n",
      "   5.25714681e-02  1.49385571e-01  5.13572991e-01 -2.48694494e-01\n",
      "  -3.22020590e-01 -4.82675612e-01  6.07031584e-01  1.96486503e-01\n",
      "  -1.19626558e+00 -1.17879605e+00  1.21936405e+00 -1.50510764e+00\n",
      "   4.27515656e-01  8.07549357e-01 -1.17729291e-01 -5.60635269e-01\n",
      "  -5.71116567e-01 -7.56627023e-02 -4.27893311e-01  4.52932380e-02\n",
      "   6.83745623e-01 -8.04716170e-01 -6.57150224e-02 -3.99175525e-01\n",
      "   2.46440560e-01 -3.09377372e-01  1.82985142e-01 -8.31100252e-03\n",
      "   1.23144197e+00  4.79274601e-01  5.06752312e-01  1.18877935e+00\n",
      "   1.31516337e+00 -1.01987040e+00 -2.05261886e-01  3.73582065e-01\n",
      "   9.26295280e-01 -8.74207243e-02 -5.48670650e-01 -1.72136974e+00\n",
      "  -6.09344304e-01  8.11197162e-02 -1.39026195e-01 -4.50444996e-01\n",
      "  -1.59753907e+00 -5.08922696e-01 -4.49667931e-01  1.00452483e-01\n",
      "   5.08307338e-01 -2.33403221e-02  3.34522575e-01 -1.78032503e-01\n",
      "  -5.23545086e-01  1.13578308e+00  8.08421597e-02 -3.59472573e-01\n",
      "  -9.50861514e-01  9.09454763e-01 -3.16295438e-02 -1.37664348e-01\n",
      "  -7.15903193e-02  3.70466620e-01  2.48383865e-01  8.93062726e-02\n",
      "  -2.97266304e-01  9.06670690e-02  6.58372343e-01  5.76785028e-01\n",
      "  -1.16904032e+00  3.41290951e-01 -5.34660555e-02  1.03901970e+00\n",
      "  -1.38133347e-01 -6.39371693e-01 -7.87405252e-01 -3.18264812e-01\n",
      "  -2.04225481e-01 -4.06670600e-01 -7.22070485e-02 -7.69772604e-02\n",
      "   4.60924238e-01  1.12288296e+00 -1.02339193e-01 -2.65346229e-01\n",
      "  -2.01033652e-01 -1.75054535e-01  2.08407223e-01 -7.46896267e-01\n",
      "  -7.20441222e-01  8.66674483e-01 -1.46523571e+00 -7.48009086e-01\n",
      "   1.71973091e-02 -5.07219195e-01  5.60066640e-01  2.44336680e-01\n",
      "  -3.46408427e-01  6.04506314e-01  4.05699722e-02 -6.15447640e-01\n",
      "   2.21696687e+00  4.93565142e-01 -1.28249377e-01  5.51892877e-01\n",
      "  -1.43838143e+00  5.81332922e-01 -5.51613271e-01  3.80605400e-01\n",
      "  -1.86293542e-01  3.86375576e-01 -5.41489065e-01 -5.04144251e-01\n",
      "   1.76427200e-01 -3.60971272e-01  1.79565251e-01 -3.30350786e-01\n",
      "   3.28300506e-01  4.58220780e-01 -1.00968182e+00  9.07677114e-01\n",
      "  -2.03684002e-01 -6.00714624e-01  6.06680289e-02  2.12286085e-01\n",
      "  -1.90404579e-01 -1.58292763e-02 -1.98388509e-02  1.05597846e-01\n",
      "   6.10959411e-01  2.81271875e-01 -4.34754610e-01 -5.89719117e-01\n",
      "  -6.17331088e-01 -4.79758494e-02 -9.91695762e-01  3.12785059e-01\n",
      "   4.97588634e-01  7.09544718e-02  2.76474148e-01  1.03753519e+00\n",
      "  -5.34125865e-01 -1.35813773e+00 -3.08171779e-01  2.32011825e-01\n",
      "   2.59186864e-01 -1.17076643e-01 -9.74813700e-02 -8.61492872e-01\n",
      "   3.38970423e-01  9.58649814e-02 -1.50815487e+00 -2.94602454e-01\n",
      "  -8.34471107e-01  9.25304830e-01 -9.48671773e-02 -3.72946203e-01\n",
      "   1.38115361e-01 -2.13942826e-01  8.59484732e-01  9.14763331e-01\n",
      "   6.57174945e-01 -6.32399380e-01  3.05458009e-01  1.04561698e+00\n",
      "  -1.03519060e-01 -3.50088030e-01  6.37928367e-01 -1.09292793e+00\n",
      "   9.33151126e-01  1.45621702e-01  6.61732376e-01 -1.00940144e+00\n",
      "   5.93186140e-01 -5.01615465e-01  8.02366436e-01 -3.47180665e-02\n",
      "  -6.43304110e-01  2.73746103e-01  1.18138067e-01  8.37097704e-01\n",
      "   1.75725234e+00  1.05579168e-01 -1.10150588e+00  1.45631003e+00\n",
      "  -1.06879735e+00 -8.30172002e-01 -2.01844364e-01  9.82304692e-01\n",
      "  -1.24880457e+00  7.17438757e-01  1.25678957e+00  5.57424843e-01\n",
      "   6.39996588e-01 -3.55816334e-01 -8.53399158e-01 -2.70402372e-01\n",
      "   1.22407508e+00 -5.88559031e-01 -1.23394886e-03 -1.21514186e-01\n",
      "  -2.53390551e-01 -6.18405058e-04  5.48986495e-01  1.83718428e-02\n",
      "   5.19194663e-01 -1.32677126e+00  7.73216039e-02  1.65714607e-01\n",
      "   5.03075600e-01 -8.86783525e-02  2.59651870e-01  3.80799621e-01\n",
      "  -4.09240395e-01 -3.24432790e-01  2.99761176e-01  3.21665466e-01\n",
      "  -8.03088322e-02  3.99698704e-01  6.47558630e-01  7.37920821e-01\n",
      "  -4.34395224e-02 -5.59636474e-01  1.05131280e+00  7.76464581e-01\n",
      "  -4.07407612e-01  1.16980180e-01 -1.18806660e+00 -1.37640148e-01\n",
      "   6.66863263e-01  1.23143597e-02 -2.08642378e-01 -6.83741868e-01\n",
      "  -1.24291487e-01 -2.65172273e-01  3.32233638e-01  1.63932577e-01\n",
      "   1.11290097e+00  6.33576214e-01  6.46477282e-01 -3.53750110e-01\n",
      "   1.97877944e-01 -2.40834609e-01  1.24858630e+00 -9.54190195e-01\n",
      "  -4.01318856e-02  1.01302803e+00  4.53444511e-01 -6.29800081e-01\n",
      "   2.07664952e-01 -5.42279959e-01 -5.73240399e-01  6.67222142e-01\n",
      "  -7.72674203e-01 -5.22323847e-01 -2.98671633e-01  7.79713273e-01\n",
      "   9.29004788e-01  1.58979344e+00  5.81204593e-02 -7.99368560e-01\n",
      "   7.79198885e-01 -9.44236219e-01  8.31612170e-01 -1.27391434e+00\n",
      "   2.80498832e-01  1.21583946e-01  4.29708838e-01  8.05106580e-01\n",
      "  -1.97258770e-01  4.01263326e-01 -5.45778833e-02 -5.42112663e-02\n",
      "   4.77989227e-01  7.09550560e-01 -4.56343025e-01  6.68399394e-01\n",
      "   1.18894255e+00 -3.66786383e-02  5.62909186e-01  1.19913936e+00\n",
      "  -4.11755085e-01 -4.25296962e-01  8.12731802e-01  7.23749101e-01\n",
      "   4.98805612e-01 -9.28746760e-01  6.24492824e-01  6.66197419e-01\n",
      "   2.22184822e-01  2.58520514e-01 -2.24364102e-01 -1.48295999e+00\n",
      "  -1.91623521e+00 -2.58599013e-01  7.22696841e-01  1.01235464e-01\n",
      "  -4.35117841e-01  2.22246602e-01 -3.90653014e-01  6.57184184e-01\n",
      "  -7.14800179e-01  4.28121954e-01  7.45072424e-01 -1.02278030e+00\n",
      "  -9.36491489e-02 -1.20820844e+00  2.14359701e-01 -4.74207640e-01\n",
      "  -8.10572624e-01 -5.46695948e-01 -5.15228391e-01  4.56513524e-01\n",
      "   3.20133448e-01 -1.09141088e+00 -2.26924747e-01 -7.72818804e-01\n",
      "  -3.14820111e-01 -5.05347431e-01  6.85634851e-01  5.65885782e-01\n",
      "  -2.78071582e-01  2.37795055e-01 -3.57181728e-01  4.13410753e-01\n",
      "   4.22541022e-01  1.92616329e-01 -1.34766253e-03 -5.29626131e-01\n",
      "  -1.15399909e+00 -5.20877182e-01  9.45320576e-02 -4.14927900e-01\n",
      "  -4.00202349e-02 -7.11368859e-01  2.71162868e-01 -2.04415917e-01\n",
      "  -5.19902647e-01 -7.80996919e-01 -3.57216746e-01  5.18016815e-01\n",
      "  -6.95717096e-01 -2.07132608e-01  1.96544930e-01  5.08854330e-01\n",
      "   1.45585537e-01 -1.10089123e-01 -3.82019356e-02 -2.10033312e-01\n",
      "  -7.03565478e-01  1.10935390e-01 -6.90095425e-02 -6.31037802e-02\n",
      "  -3.02037805e-01 -1.23682106e+00 -3.80093127e-01  1.31630599e-01\n",
      "  -3.61184776e-01  1.65010870e-01  1.00705135e+00 -2.58824360e-02\n",
      "  -6.61212951e-02  8.32138598e-01 -1.05359244e+00 -1.98370114e-01\n",
      "   1.04314554e+00  1.01044083e+00 -3.92271757e-01  1.77190506e+00\n",
      "   1.14908293e-01 -3.17698330e-01 -5.25795110e-02 -6.86321437e-01\n",
      "   8.81077826e-01  5.82615733e-01  8.77799630e-01 -7.78622478e-02\n",
      "   6.67289674e-01  2.70088106e-01 -1.26175964e+00 -7.50419557e-01\n",
      "   7.22631216e-01 -1.04027517e-01 -8.75334918e-01 -3.43376189e-01\n",
      "  -7.58826673e-01 -5.04987985e-02  3.05360019e-01  4.22916472e-01\n",
      "  -5.39164364e-01 -4.94108116e-03  3.37604642e-01 -5.66739082e-01\n",
      "   4.01594818e-01 -5.73482931e-01  1.30733204e+00  4.10671741e-01\n",
      "   8.95602345e-01 -9.40870047e-01 -7.18682408e-01 -5.78753412e-01\n",
      "   2.38528401e-01 -4.33945179e-01  9.86356199e-01  3.77751797e-01\n",
      "  -1.23071566e-01  1.19644690e+00  8.87966156e-01 -2.34527364e-01\n",
      "   2.76594192e-01 -8.81471112e-02 -1.06580937e+00 -4.56266820e-01\n",
      "  -6.03576720e-01 -6.43364131e-01 -2.73757875e-01  7.92366713e-02\n",
      "   1.58717525e+00 -9.41185474e-01  3.54136348e-01  3.13011587e-01\n",
      "   8.58509660e-01  4.17078227e-01 -1.12521544e-01 -2.03814179e-01\n",
      "   2.42588505e-01 -1.14578627e-01  1.48185623e+00  1.25011697e-01\n",
      "  -1.87570751e-01 -1.17060399e+00  6.85426593e-01 -2.99226582e-01\n",
      "  -8.47516119e-01 -3.83290440e-01 -2.79463023e-01 -5.12076080e-01\n",
      "  -3.10727339e-02 -7.37615079e-02  7.89300621e-01 -3.94265860e-01\n",
      "   3.57303441e-01  4.02159512e-01  1.02279305e+00  1.05859041e-01\n",
      "   8.91750932e-01  1.42810225e-01 -5.35925925e-01 -3.08676600e-01\n",
      "  -1.11747706e+00 -4.00501117e-02  1.33993939e-01 -1.03085876e+00]]\n"
     ]
    }
   ],
   "source": [
    "print(embedding)"
   ]
  },
  {
   "cell_type": "code",
   "execution_count": null,
   "id": "e4dc812a",
   "metadata": {
    "lc_cell_meme": {
     "current": "b9c37c65-7636-11ef-b35c-6968363b8a7c",
     "next": null,
     "previous": "59ac4325-7630-11ef-9eae-6968363b8a7c"
    }
   },
   "outputs": [],
   "source": []
  }
 ],
 "metadata": {
  "kernelspec": {
   "display_name": "01 Python 3",
   "language": "python",
   "name": "python3"
  },
  "language_info": {
   "file_extension": ".py",
   "mimetype": "text/x-python",
   "name": "python",
   "nbconvert_exporter": "python",
   "pygments_lexer": "ipython3",
   "version": "3.9.2"
  },
  "lc_notebook_meme": {
   "current": "950f2a62-7583-11ef-89b6-b5bbbc9eafb6",
   "lc_server_signature": {
    "current": {
     "notebook_dir": "/home/s276322x7cf08f",
     "notebook_path": "/AIPBL",
     "server_url": "https://jupyter.center.wakayama-u.ac.jp/user/s276322x7cf08f/",
     "signature_id": "fcc837fe-70b2-11ef-8aa6-e93e2f76df2d"
    },
    "history": []
   }
  },
  "toc": {
   "base_numbering": 1,
   "nav_menu": {},
   "number_sections": true,
   "sideBar": true,
   "skip_h1_title": false,
   "title_cell": "Table of Contents",
   "title_sidebar": "Contents",
   "toc_cell": false,
   "toc_position": {},
   "toc_section_display": true,
   "toc_window_display": false
  }
 },
 "nbformat": 4,
 "nbformat_minor": 5
}
